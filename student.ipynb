{
 "cells": [
  {
   "cell_type": "markdown",
   "metadata": {},
   "source": [
    "# Mod 3 Final Project"
   ]
  },
  {
   "cell_type": "markdown",
   "metadata": {},
   "source": [
    "## Student Info\n",
    "\n",
    "- Name: Jamaal Smith\n",
    "- Cohort: Part-Time \n",
    "- Instructor: James Irving, Phd\n"
   ]
  },
  {
   "cell_type": "markdown",
   "metadata": {},
   "source": []
  },
  {
   "cell_type": "markdown",
   "metadata": {},
   "source": [
    "<img src=\"https://raw.githubusercontent.com/jirvingphd/dsc-mod-3-project-online-ds-ft-100719/master/Northwind_ERD_updated.png\">"
   ]
  },
  {
   "cell_type": "code",
   "execution_count": 70,
   "metadata": {},
   "outputs": [
    {
     "name": "stdout",
     "output_type": "stream",
     "text": [
      "Requirement already up-to-date: fsds_100719 in c:\\anaconda\\envs\\learn-env\\lib\\site-packages (0.7.10)\n",
      "Requirement not upgraded as not directly required: selenium in c:\\anaconda\\envs\\learn-env\\lib\\site-packages (from fsds_100719) (3.141.0)\n",
      "Requirement not upgraded as not directly required: cufflinks in c:\\anaconda\\envs\\learn-env\\lib\\site-packages (from fsds_100719) (0.17.0)\n",
      "Requirement not upgraded as not directly required: fake-useragent in c:\\anaconda\\envs\\learn-env\\lib\\site-packages (from fsds_100719) (0.1.11)\n",
      "Requirement not upgraded as not directly required: missingno in c:\\anaconda\\envs\\learn-env\\lib\\site-packages (from fsds_100719) (0.4.2)\n",
      "Requirement not upgraded as not directly required: wordcloud in c:\\anaconda\\envs\\learn-env\\lib\\site-packages (from fsds_100719) (1.6.0)\n",
      "Requirement not upgraded as not directly required: pyperclip in c:\\anaconda\\envs\\learn-env\\lib\\site-packages (from fsds_100719) (1.7.0)\n",
      "Requirement not upgraded as not directly required: matplotlib in c:\\anaconda\\envs\\learn-env\\lib\\site-packages (from fsds_100719) (3.0.2)\n",
      "Requirement not upgraded as not directly required: lxml in c:\\anaconda\\envs\\learn-env\\lib\\site-packages (from fsds_100719) (4.5.0)\n",
      "Requirement not upgraded as not directly required: pandas in c:\\anaconda\\envs\\learn-env\\lib\\site-packages (from fsds_100719) (0.23.4)\n",
      "Requirement not upgraded as not directly required: scikit-learn>=0.22.1 in c:\\anaconda\\envs\\learn-env\\lib\\site-packages (from fsds_100719) (0.22.1)\n",
      "Requirement not upgraded as not directly required: tzlocal in c:\\anaconda\\envs\\learn-env\\lib\\site-packages (from fsds_100719) (2.0.0)\n",
      "Requirement not upgraded as not directly required: IPython in c:\\anaconda\\envs\\learn-env\\lib\\site-packages (from fsds_100719) (6.5.0)\n",
      "Requirement not upgraded as not directly required: seaborn in c:\\anaconda\\envs\\learn-env\\lib\\site-packages (from fsds_100719) (0.9.0)\n",
      "Requirement not upgraded as not directly required: ipywidgets in c:\\anaconda\\envs\\learn-env\\lib\\site-packages (from fsds_100719) (7.5.1)\n",
      "Requirement not upgraded as not directly required: pprint in c:\\anaconda\\envs\\learn-env\\lib\\site-packages (from fsds_100719) (0.1)\n",
      "Requirement not upgraded as not directly required: pandas-profiling in c:\\anaconda\\envs\\learn-env\\lib\\site-packages (from fsds_100719) (2.4.0)\n",
      "Requirement not upgraded as not directly required: numpy in c:\\anaconda\\envs\\learn-env\\lib\\site-packages (from fsds_100719) (1.16.5)\n",
      "Requirement not upgraded as not directly required: scipy in c:\\anaconda\\envs\\learn-env\\lib\\site-packages (from fsds_100719) (1.1.0)\n",
      "Requirement not upgraded as not directly required: urllib3 in c:\\anaconda\\envs\\learn-env\\lib\\site-packages (from selenium->fsds_100719) (1.23)\n",
      "Requirement not upgraded as not directly required: colorlover>=0.2.1 in c:\\anaconda\\envs\\learn-env\\lib\\site-packages (from cufflinks->fsds_100719) (0.3.0)\n",
      "Requirement not upgraded as not directly required: chart-studio>=1.0.0 in c:\\anaconda\\envs\\learn-env\\lib\\site-packages (from cufflinks->fsds_100719) (1.0.0)\n",
      "Requirement not upgraded as not directly required: six>=1.9.0 in c:\\anaconda\\envs\\learn-env\\lib\\site-packages (from cufflinks->fsds_100719) (1.11.0)\n",
      "Requirement not upgraded as not directly required: setuptools>=34.4.1 in c:\\anaconda\\envs\\learn-env\\lib\\site-packages (from cufflinks->fsds_100719) (40.0.0)\n",
      "Requirement not upgraded as not directly required: plotly>=4.1.1 in c:\\anaconda\\envs\\learn-env\\lib\\site-packages (from cufflinks->fsds_100719) (4.5.0)\n",
      "Requirement not upgraded as not directly required: pillow in c:\\anaconda\\envs\\learn-env\\lib\\site-packages (from wordcloud->fsds_100719) (7.0.0)\n",
      "Requirement not upgraded as not directly required: cycler>=0.10 in c:\\anaconda\\envs\\learn-env\\lib\\site-packages (from matplotlib->fsds_100719) (0.10.0)\n",
      "Requirement not upgraded as not directly required: kiwisolver>=1.0.1 in c:\\anaconda\\envs\\learn-env\\lib\\site-packages (from matplotlib->fsds_100719) (1.1.0)\n",
      "Requirement not upgraded as not directly required: pyparsing!=2.0.4,!=2.1.2,!=2.1.6,>=2.0.1 in c:\\anaconda\\envs\\learn-env\\lib\\site-packages (from matplotlib->fsds_100719) (2.4.2)\n",
      "Requirement not upgraded as not directly required: python-dateutil>=2.1 in c:\\anaconda\\envs\\learn-env\\lib\\site-packages (from matplotlib->fsds_100719) (2.8.0)\n",
      "Requirement not upgraded as not directly required: pytz>=2011k in c:\\anaconda\\envs\\learn-env\\lib\\site-packages (from pandas->fsds_100719) (2018.5)\n",
      "Requirement not upgraded as not directly required: joblib>=0.11 in c:\\anaconda\\envs\\learn-env\\lib\\site-packages (from scikit-learn>=0.22.1->fsds_100719) (0.14.0)\n",
      "Requirement not upgraded as not directly required: traitlets>=4.2 in c:\\anaconda\\envs\\learn-env\\lib\\site-packages (from IPython->fsds_100719) (4.3.2)\n",
      "Requirement not upgraded as not directly required: colorama; sys_platform == \"win32\" in c:\\anaconda\\envs\\learn-env\\lib\\site-packages (from IPython->fsds_100719) (0.4.1)\n",
      "Requirement not upgraded as not directly required: decorator in c:\\anaconda\\envs\\learn-env\\lib\\site-packages (from IPython->fsds_100719) (4.3.0)\n",
      "Requirement not upgraded as not directly required: pygments in c:\\anaconda\\envs\\learn-env\\lib\\site-packages (from IPython->fsds_100719) (2.2.0)\n",
      "Requirement not upgraded as not directly required: simplegeneric>0.8 in c:\\anaconda\\envs\\learn-env\\lib\\site-packages (from IPython->fsds_100719) (0.8.1)\n",
      "Requirement not upgraded as not directly required: jedi>=0.10 in c:\\anaconda\\envs\\learn-env\\lib\\site-packages (from IPython->fsds_100719) (0.12.1)\n",
      "Requirement not upgraded as not directly required: backcall in c:\\anaconda\\envs\\learn-env\\lib\\site-packages (from IPython->fsds_100719) (0.1.0)\n",
      "Requirement not upgraded as not directly required: prompt-toolkit<2.0.0,>=1.0.15 in c:\\anaconda\\envs\\learn-env\\lib\\site-packages (from IPython->fsds_100719) (1.0.15)\n",
      "Requirement not upgraded as not directly required: pickleshare in c:\\anaconda\\envs\\learn-env\\lib\\site-packages (from IPython->fsds_100719) (0.7.4)\n",
      "Requirement not upgraded as not directly required: widgetsnbextension~=3.5.0 in c:\\anaconda\\envs\\learn-env\\lib\\site-packages (from ipywidgets->fsds_100719) (3.5.1)\n",
      "Requirement not upgraded as not directly required: nbformat>=4.2.0 in c:\\anaconda\\envs\\learn-env\\lib\\site-packages (from ipywidgets->fsds_100719) (4.4.0)\n",
      "Requirement not upgraded as not directly required: ipykernel>=4.5.1 in c:\\anaconda\\envs\\learn-env\\lib\\site-packages (from ipywidgets->fsds_100719) (5.1.2)\n",
      "Requirement not upgraded as not directly required: confuse>=1.0.0 in c:\\anaconda\\envs\\learn-env\\lib\\site-packages (from pandas-profiling->fsds_100719) (1.0.0)\n",
      "Requirement not upgraded as not directly required: jinja2>=2.8 in c:\\anaconda\\envs\\learn-env\\lib\\site-packages (from pandas-profiling->fsds_100719) (2.10.3)\n",
      "Requirement not upgraded as not directly required: htmlmin>=0.1.12 in c:\\anaconda\\envs\\learn-env\\lib\\site-packages (from pandas-profiling->fsds_100719) (0.1.12)\n",
      "Requirement not upgraded as not directly required: astropy in c:\\anaconda\\envs\\learn-env\\lib\\site-packages (from pandas-profiling->fsds_100719) (4.0)\n",
      "Requirement not upgraded as not directly required: phik>=0.9.8 in c:\\anaconda\\envs\\learn-env\\lib\\site-packages (from pandas-profiling->fsds_100719) (0.9.9)\n",
      "Requirement not upgraded as not directly required: requests in c:\\anaconda\\envs\\learn-env\\lib\\site-packages (from chart-studio>=1.0.0->cufflinks->fsds_100719) (2.19.1)\n",
      "Requirement not upgraded as not directly required: retrying>=1.3.3 in c:\\anaconda\\envs\\learn-env\\lib\\site-packages (from chart-studio>=1.0.0->cufflinks->fsds_100719) (1.3.3)\n",
      "Requirement not upgraded as not directly required: ipython_genutils in c:\\anaconda\\envs\\learn-env\\lib\\site-packages (from traitlets>=4.2->IPython->fsds_100719) (0.2.0)\n",
      "Requirement not upgraded as not directly required: parso>=0.3.0 in c:\\anaconda\\envs\\learn-env\\lib\\site-packages (from jedi>=0.10->IPython->fsds_100719) (0.3.1)\n",
      "Requirement not upgraded as not directly required: wcwidth in c:\\anaconda\\envs\\learn-env\\lib\\site-packages (from prompt-toolkit<2.0.0,>=1.0.15->IPython->fsds_100719) (0.1.7)\n",
      "Requirement not upgraded as not directly required: notebook>=4.4.1 in c:\\anaconda\\envs\\learn-env\\lib\\site-packages (from widgetsnbextension~=3.5.0->ipywidgets->fsds_100719) (6.0.1)\n",
      "Requirement not upgraded as not directly required: jsonschema!=2.5.0,>=2.4 in c:\\anaconda\\envs\\learn-env\\lib\\site-packages (from nbformat>=4.2.0->ipywidgets->fsds_100719) (2.6.0)\n",
      "Requirement not upgraded as not directly required: jupyter_core in c:\\anaconda\\envs\\learn-env\\lib\\site-packages (from nbformat>=4.2.0->ipywidgets->fsds_100719) (4.4.0)\n",
      "Requirement not upgraded as not directly required: jupyter-client in c:\\anaconda\\envs\\learn-env\\lib\\site-packages (from ipykernel>=4.5.1->ipywidgets->fsds_100719) (5.3.3)\n",
      "Requirement not upgraded as not directly required: tornado>=4.2 in c:\\anaconda\\envs\\learn-env\\lib\\site-packages (from ipykernel>=4.5.1->ipywidgets->fsds_100719) (6.0.3)\n",
      "Requirement not upgraded as not directly required: pyyaml in c:\\anaconda\\envs\\learn-env\\lib\\site-packages (from confuse>=1.0.0->pandas-profiling->fsds_100719) (5.1.2)\n",
      "Requirement not upgraded as not directly required: MarkupSafe>=0.23 in c:\\anaconda\\envs\\learn-env\\lib\\site-packages (from jinja2>=2.8->pandas-profiling->fsds_100719) (1.1.1)\n",
      "Requirement not upgraded as not directly required: numba>=0.38.1 in c:\\anaconda\\envs\\learn-env\\lib\\site-packages (from phik>=0.9.8->pandas-profiling->fsds_100719) (0.48.0)\n",
      "Requirement not upgraded as not directly required: pytest>=4.0.2 in c:\\anaconda\\envs\\learn-env\\lib\\site-packages (from phik>=0.9.8->pandas-profiling->fsds_100719) (5.3.5)\n",
      "Requirement not upgraded as not directly required: pytest-pylint>=0.13.0 in c:\\anaconda\\envs\\learn-env\\lib\\site-packages (from phik>=0.9.8->pandas-profiling->fsds_100719) (0.15.0)\n",
      "Requirement not upgraded as not directly required: nbconvert>=5.3.1 in c:\\anaconda\\envs\\learn-env\\lib\\site-packages (from phik>=0.9.8->pandas-profiling->fsds_100719) (5.6.0)\n",
      "Requirement not upgraded as not directly required: chardet<3.1.0,>=3.0.2 in c:\\anaconda\\envs\\learn-env\\lib\\site-packages (from requests->chart-studio>=1.0.0->cufflinks->fsds_100719) (3.0.4)\n",
      "Requirement not upgraded as not directly required: idna<2.8,>=2.5 in c:\\anaconda\\envs\\learn-env\\lib\\site-packages (from requests->chart-studio>=1.0.0->cufflinks->fsds_100719) (2.7)\n",
      "Requirement not upgraded as not directly required: certifi>=2017.4.17 in c:\\anaconda\\envs\\learn-env\\lib\\site-packages (from requests->chart-studio>=1.0.0->cufflinks->fsds_100719) (2018.8.13)\n",
      "Requirement not upgraded as not directly required: Send2Trash in c:\\anaconda\\envs\\learn-env\\lib\\site-packages (from notebook>=4.4.1->widgetsnbextension~=3.5.0->ipywidgets->fsds_100719) (1.5.0)\n",
      "Requirement not upgraded as not directly required: terminado>=0.8.1 in c:\\anaconda\\envs\\learn-env\\lib\\site-packages (from notebook>=4.4.1->widgetsnbextension~=3.5.0->ipywidgets->fsds_100719) (0.8.2)\n",
      "Requirement not upgraded as not directly required: prometheus-client in c:\\anaconda\\envs\\learn-env\\lib\\site-packages (from notebook>=4.4.1->widgetsnbextension~=3.5.0->ipywidgets->fsds_100719) (0.7.1)\n",
      "Requirement not upgraded as not directly required: pyzmq>=17 in c:\\anaconda\\envs\\learn-env\\lib\\site-packages (from notebook>=4.4.1->widgetsnbextension~=3.5.0->ipywidgets->fsds_100719) (18.1.0)\n",
      "Requirement not upgraded as not directly required: pywin32>=1.0; sys_platform == \"win32\" in c:\\anaconda\\envs\\learn-env\\lib\\site-packages (from jupyter-client->ipykernel>=4.5.1->ipywidgets->fsds_100719) (223)\n",
      "Requirement not upgraded as not directly required: llvmlite<0.32.0,>=0.31.0dev0 in c:\\anaconda\\envs\\learn-env\\lib\\site-packages (from numba>=0.38.1->phik>=0.9.8->pandas-profiling->fsds_100719) (0.31.0)\n",
      "Requirement not upgraded as not directly required: importlib-metadata>=0.12; python_version < \"3.8\" in c:\\anaconda\\envs\\learn-env\\lib\\site-packages (from pytest>=4.0.2->phik>=0.9.8->pandas-profiling->fsds_100719) (0.23)\n",
      "Requirement not upgraded as not directly required: packaging in c:\\anaconda\\envs\\learn-env\\lib\\site-packages (from pytest>=4.0.2->phik>=0.9.8->pandas-profiling->fsds_100719) (20.1)\n",
      "Requirement not upgraded as not directly required: atomicwrites>=1.0; sys_platform == \"win32\" in c:\\anaconda\\envs\\learn-env\\lib\\site-packages (from pytest>=4.0.2->phik>=0.9.8->pandas-profiling->fsds_100719) (1.3.0)\n",
      "Requirement not upgraded as not directly required: py>=1.5.0 in c:\\anaconda\\envs\\learn-env\\lib\\site-packages (from pytest>=4.0.2->phik>=0.9.8->pandas-profiling->fsds_100719) (1.8.0)\n",
      "Requirement not upgraded as not directly required: more-itertools>=4.0.0 in c:\\anaconda\\envs\\learn-env\\lib\\site-packages (from pytest>=4.0.2->phik>=0.9.8->pandas-profiling->fsds_100719) (7.2.0)\n",
      "Requirement not upgraded as not directly required: pluggy<1.0,>=0.12 in c:\\anaconda\\envs\\learn-env\\lib\\site-packages (from pytest>=4.0.2->phik>=0.9.8->pandas-profiling->fsds_100719) (0.13.0)\n",
      "Requirement not upgraded as not directly required: attrs>=17.4.0 in c:\\anaconda\\envs\\learn-env\\lib\\site-packages (from pytest>=4.0.2->phik>=0.9.8->pandas-profiling->fsds_100719) (19.2.0)\n",
      "Requirement not upgraded as not directly required: pylint>=2.0.0 in c:\\anaconda\\envs\\learn-env\\lib\\site-packages (from pytest-pylint>=0.13.0->phik>=0.9.8->pandas-profiling->fsds_100719) (2.4.4)\n",
      "Requirement not upgraded as not directly required: pandocfilters>=1.4.1 in c:\\anaconda\\envs\\learn-env\\lib\\site-packages (from nbconvert>=5.3.1->phik>=0.9.8->pandas-profiling->fsds_100719) (1.4.2)\n",
      "Requirement not upgraded as not directly required: mistune<2,>=0.8.1 in c:\\anaconda\\envs\\learn-env\\lib\\site-packages (from nbconvert>=5.3.1->phik>=0.9.8->pandas-profiling->fsds_100719) (0.8.4)\n",
      "Requirement not upgraded as not directly required: entrypoints>=0.2.2 in c:\\anaconda\\envs\\learn-env\\lib\\site-packages (from nbconvert>=5.3.1->phik>=0.9.8->pandas-profiling->fsds_100719) (0.3)\n",
      "Requirement not upgraded as not directly required: defusedxml in c:\\anaconda\\envs\\learn-env\\lib\\site-packages (from nbconvert>=5.3.1->phik>=0.9.8->pandas-profiling->fsds_100719) (0.6.0)\n",
      "Requirement not upgraded as not directly required: bleach in c:\\anaconda\\envs\\learn-env\\lib\\site-packages (from nbconvert>=5.3.1->phik>=0.9.8->pandas-profiling->fsds_100719) (1.5.0)\n",
      "Requirement not upgraded as not directly required: testpath in c:\\anaconda\\envs\\learn-env\\lib\\site-packages (from nbconvert>=5.3.1->phik>=0.9.8->pandas-profiling->fsds_100719) (0.4.2)\n",
      "Requirement not upgraded as not directly required: zipp>=0.5 in c:\\anaconda\\envs\\learn-env\\lib\\site-packages (from importlib-metadata>=0.12; python_version < \"3.8\"->pytest>=4.0.2->phik>=0.9.8->pandas-profiling->fsds_100719) (0.6.0)\n",
      "Requirement not upgraded as not directly required: isort<5,>=4.2.5 in c:\\anaconda\\envs\\learn-env\\lib\\site-packages (from pylint>=2.0.0->pytest-pylint>=0.13.0->phik>=0.9.8->pandas-profiling->fsds_100719) (4.3.21)\n",
      "Requirement not upgraded as not directly required: astroid<2.4,>=2.3.0 in c:\\anaconda\\envs\\learn-env\\lib\\site-packages (from pylint>=2.0.0->pytest-pylint>=0.13.0->phik>=0.9.8->pandas-profiling->fsds_100719) (2.3.3)\n",
      "Requirement not upgraded as not directly required: mccabe<0.7,>=0.6 in c:\\anaconda\\envs\\learn-env\\lib\\site-packages (from pylint>=2.0.0->pytest-pylint>=0.13.0->phik>=0.9.8->pandas-profiling->fsds_100719) (0.6.1)\n",
      "Requirement not upgraded as not directly required: html5lib!=0.9999,!=0.99999,<0.99999999,>=0.999 in c:\\anaconda\\envs\\learn-env\\lib\\site-packages (from bleach->nbconvert>=5.3.1->phik>=0.9.8->pandas-profiling->fsds_100719) (0.9999999)\n",
      "Requirement not upgraded as not directly required: typed-ast<1.5,>=1.4.0; implementation_name == \"cpython\" and python_version < \"3.8\" in c:\\anaconda\\envs\\learn-env\\lib\\site-packages (from astroid<2.4,>=2.3.0->pylint>=2.0.0->pytest-pylint>=0.13.0->phik>=0.9.8->pandas-profiling->fsds_100719) (1.4.1)\n",
      "Requirement not upgraded as not directly required: lazy-object-proxy==1.4.* in c:\\anaconda\\envs\\learn-env\\lib\\site-packages (from astroid<2.4,>=2.3.0->pylint>=2.0.0->pytest-pylint>=0.13.0->phik>=0.9.8->pandas-profiling->fsds_100719) (1.4.3)\n",
      "Requirement not upgraded as not directly required: wrapt==1.11.* in c:\\anaconda\\envs\\learn-env\\lib\\site-packages (from astroid<2.4,>=2.3.0->pylint>=2.0.0->pytest-pylint>=0.13.0->phik>=0.9.8->pandas-profiling->fsds_100719) (1.11.2)\n"
     ]
    },
    {
     "name": "stderr",
     "output_type": "stream",
     "text": [
      "pexpect 4.6.0 requires ptyprocess>=0.5, which is not installed.\n",
      "phik 0.9.9 has requirement joblib>=0.14.1, but you'll have joblib 0.14.0 which is incompatible.\n",
      "astroid 2.3.3 has requirement six~=1.12, but you'll have six 1.11.0 which is incompatible.\n",
      "You are using pip version 10.0.1, however version 20.0.2 is available.\n",
      "You should consider upgrading via the 'python -m pip install --upgrade pip' command.\n"
     ]
    }
   ],
   "source": [
    "!pip install -U fsds_100719\n",
    "from fsds_100719.imports import *\n",
    "\n",
    "import pandas as pd\n"
   ]
  },
  {
   "cell_type": "markdown",
   "metadata": {},
   "source": [
    "# PROJECT"
   ]
  },
  {
   "cell_type": "markdown",
   "metadata": {},
   "source": [
    "# Hypothesis 1"
   ]
  },
  {
   "cell_type": "markdown",
   "metadata": {},
   "source": [
    "> Does discount amount have a statistically significant effect on the quantity of a product in an order? If so, at what level(s) of discount?\n",
    "\n",
    "- $H_0$: A product's discount has no effect on the quantity of a product in an order\n",
    "- $H_A$: A product's discount does have an effect on the quantity of a product in an order"
   ]
  },
  {
   "cell_type": "code",
   "execution_count": 71,
   "metadata": {},
   "outputs": [
    {
     "data": {
      "text/html": [
       "<div>\n",
       "<style scoped>\n",
       "    .dataframe tbody tr th:only-of-type {\n",
       "        vertical-align: middle;\n",
       "    }\n",
       "\n",
       "    .dataframe tbody tr th {\n",
       "        vertical-align: top;\n",
       "    }\n",
       "\n",
       "    .dataframe thead th {\n",
       "        text-align: right;\n",
       "    }\n",
       "</style>\n",
       "<table border=\"1\" class=\"dataframe\">\n",
       "  <thead>\n",
       "    <tr style=\"text-align: right;\">\n",
       "      <th></th>\n",
       "      <th>Id</th>\n",
       "      <th>OrderId</th>\n",
       "      <th>ProductId</th>\n",
       "      <th>UnitPrice</th>\n",
       "      <th>Quantity</th>\n",
       "      <th>Discount</th>\n",
       "    </tr>\n",
       "  </thead>\n",
       "  <tbody>\n",
       "    <tr>\n",
       "      <th>0</th>\n",
       "      <td>10248/11</td>\n",
       "      <td>10248</td>\n",
       "      <td>11</td>\n",
       "      <td>14.0</td>\n",
       "      <td>12</td>\n",
       "      <td>0.0</td>\n",
       "    </tr>\n",
       "    <tr>\n",
       "      <th>1</th>\n",
       "      <td>10248/42</td>\n",
       "      <td>10248</td>\n",
       "      <td>42</td>\n",
       "      <td>9.8</td>\n",
       "      <td>10</td>\n",
       "      <td>0.0</td>\n",
       "    </tr>\n",
       "    <tr>\n",
       "      <th>2</th>\n",
       "      <td>10248/72</td>\n",
       "      <td>10248</td>\n",
       "      <td>72</td>\n",
       "      <td>34.8</td>\n",
       "      <td>5</td>\n",
       "      <td>0.0</td>\n",
       "    </tr>\n",
       "    <tr>\n",
       "      <th>3</th>\n",
       "      <td>10249/14</td>\n",
       "      <td>10249</td>\n",
       "      <td>14</td>\n",
       "      <td>18.6</td>\n",
       "      <td>9</td>\n",
       "      <td>0.0</td>\n",
       "    </tr>\n",
       "    <tr>\n",
       "      <th>4</th>\n",
       "      <td>10249/51</td>\n",
       "      <td>10249</td>\n",
       "      <td>51</td>\n",
       "      <td>42.4</td>\n",
       "      <td>40</td>\n",
       "      <td>0.0</td>\n",
       "    </tr>\n",
       "  </tbody>\n",
       "</table>\n",
       "</div>"
      ],
      "text/plain": [
       "         Id  OrderId  ProductId  UnitPrice  Quantity  Discount\n",
       "0  10248/11    10248         11       14.0        12       0.0\n",
       "1  10248/42    10248         42        9.8        10       0.0\n",
       "2  10248/72    10248         72       34.8         5       0.0\n",
       "3  10249/14    10249         14       18.6         9       0.0\n",
       "4  10249/51    10249         51       42.4        40       0.0"
      ]
     },
     "execution_count": 71,
     "metadata": {},
     "output_type": "execute_result"
    }
   ],
   "source": [
    "import sqlite3\n",
    "connect = sqlite3.connect('Northwind_small.sqlite')\n",
    "cur = connect.cursor()\n",
    "cur.execute(\"\"\"SELECT * FROM OrderDetail\"\"\")\n",
    "df = pd.DataFrame(cur.fetchall())\n",
    "df.columns = [x[0] for x in cur.description]\n",
    "df.head()"
   ]
  },
  {
   "cell_type": "code",
   "execution_count": 72,
   "metadata": {},
   "outputs": [
    {
     "data": {
      "text/html": [
       "<div>\n",
       "<style scoped>\n",
       "    .dataframe tbody tr th:only-of-type {\n",
       "        vertical-align: middle;\n",
       "    }\n",
       "\n",
       "    .dataframe tbody tr th {\n",
       "        vertical-align: top;\n",
       "    }\n",
       "\n",
       "    .dataframe thead th {\n",
       "        text-align: right;\n",
       "    }\n",
       "</style>\n",
       "<table border=\"1\" class=\"dataframe\">\n",
       "  <thead>\n",
       "    <tr style=\"text-align: right;\">\n",
       "      <th></th>\n",
       "      <th>Id</th>\n",
       "      <th>OrderId</th>\n",
       "      <th>ProductId</th>\n",
       "      <th>UnitPrice</th>\n",
       "      <th>Quantity</th>\n",
       "      <th>Discount</th>\n",
       "      <th>Groups</th>\n",
       "      <th>Groups_Number</th>\n",
       "    </tr>\n",
       "  </thead>\n",
       "  <tbody>\n",
       "    <tr>\n",
       "      <th>0</th>\n",
       "      <td>10248/11</td>\n",
       "      <td>10248</td>\n",
       "      <td>11</td>\n",
       "      <td>14.0</td>\n",
       "      <td>12</td>\n",
       "      <td>0.00</td>\n",
       "      <td>Full Price</td>\n",
       "      <td>0</td>\n",
       "    </tr>\n",
       "    <tr>\n",
       "      <th>1</th>\n",
       "      <td>10248/42</td>\n",
       "      <td>10248</td>\n",
       "      <td>42</td>\n",
       "      <td>9.8</td>\n",
       "      <td>10</td>\n",
       "      <td>0.00</td>\n",
       "      <td>Full Price</td>\n",
       "      <td>0</td>\n",
       "    </tr>\n",
       "    <tr>\n",
       "      <th>2</th>\n",
       "      <td>10248/72</td>\n",
       "      <td>10248</td>\n",
       "      <td>72</td>\n",
       "      <td>34.8</td>\n",
       "      <td>5</td>\n",
       "      <td>0.00</td>\n",
       "      <td>Full Price</td>\n",
       "      <td>0</td>\n",
       "    </tr>\n",
       "    <tr>\n",
       "      <th>3</th>\n",
       "      <td>10249/14</td>\n",
       "      <td>10249</td>\n",
       "      <td>14</td>\n",
       "      <td>18.6</td>\n",
       "      <td>9</td>\n",
       "      <td>0.00</td>\n",
       "      <td>Full Price</td>\n",
       "      <td>0</td>\n",
       "    </tr>\n",
       "    <tr>\n",
       "      <th>4</th>\n",
       "      <td>10249/51</td>\n",
       "      <td>10249</td>\n",
       "      <td>51</td>\n",
       "      <td>42.4</td>\n",
       "      <td>40</td>\n",
       "      <td>0.00</td>\n",
       "      <td>Full Price</td>\n",
       "      <td>0</td>\n",
       "    </tr>\n",
       "    <tr>\n",
       "      <th>5</th>\n",
       "      <td>10250/41</td>\n",
       "      <td>10250</td>\n",
       "      <td>41</td>\n",
       "      <td>7.7</td>\n",
       "      <td>10</td>\n",
       "      <td>0.00</td>\n",
       "      <td>Full Price</td>\n",
       "      <td>0</td>\n",
       "    </tr>\n",
       "    <tr>\n",
       "      <th>6</th>\n",
       "      <td>10250/51</td>\n",
       "      <td>10250</td>\n",
       "      <td>51</td>\n",
       "      <td>42.4</td>\n",
       "      <td>35</td>\n",
       "      <td>0.15</td>\n",
       "      <td>Discounted</td>\n",
       "      <td>1</td>\n",
       "    </tr>\n",
       "    <tr>\n",
       "      <th>7</th>\n",
       "      <td>10250/65</td>\n",
       "      <td>10250</td>\n",
       "      <td>65</td>\n",
       "      <td>16.8</td>\n",
       "      <td>15</td>\n",
       "      <td>0.15</td>\n",
       "      <td>Discounted</td>\n",
       "      <td>1</td>\n",
       "    </tr>\n",
       "    <tr>\n",
       "      <th>8</th>\n",
       "      <td>10251/22</td>\n",
       "      <td>10251</td>\n",
       "      <td>22</td>\n",
       "      <td>16.8</td>\n",
       "      <td>6</td>\n",
       "      <td>0.05</td>\n",
       "      <td>Discounted</td>\n",
       "      <td>1</td>\n",
       "    </tr>\n",
       "    <tr>\n",
       "      <th>9</th>\n",
       "      <td>10251/57</td>\n",
       "      <td>10251</td>\n",
       "      <td>57</td>\n",
       "      <td>15.6</td>\n",
       "      <td>15</td>\n",
       "      <td>0.05</td>\n",
       "      <td>Discounted</td>\n",
       "      <td>1</td>\n",
       "    </tr>\n",
       "  </tbody>\n",
       "</table>\n",
       "</div>"
      ],
      "text/plain": [
       "         Id  OrderId  ProductId  UnitPrice  Quantity  Discount      Groups  \\\n",
       "0  10248/11    10248         11       14.0        12      0.00  Full Price   \n",
       "1  10248/42    10248         42        9.8        10      0.00  Full Price   \n",
       "2  10248/72    10248         72       34.8         5      0.00  Full Price   \n",
       "3  10249/14    10249         14       18.6         9      0.00  Full Price   \n",
       "4  10249/51    10249         51       42.4        40      0.00  Full Price   \n",
       "5  10250/41    10250         41        7.7        10      0.00  Full Price   \n",
       "6  10250/51    10250         51       42.4        35      0.15  Discounted   \n",
       "7  10250/65    10250         65       16.8        15      0.15  Discounted   \n",
       "8  10251/22    10251         22       16.8         6      0.05  Discounted   \n",
       "9  10251/57    10251         57       15.6        15      0.05  Discounted   \n",
       "\n",
       "   Groups_Number  \n",
       "0              0  \n",
       "1              0  \n",
       "2              0  \n",
       "3              0  \n",
       "4              0  \n",
       "5              0  \n",
       "6              1  \n",
       "7              1  \n",
       "8              1  \n",
       "9              1  "
      ]
     },
     "execution_count": 72,
     "metadata": {},
     "output_type": "execute_result"
    }
   ],
   "source": [
    "df['Groups'] = df['Discount']>0\n",
    "df['Groups'] = df['Groups'].map({True:'Discounted',False:'Full Price'})\n",
    "df['Groups_Number'] = df['Groups'].map({'Discounted': 1, 'Full Price': 0})\n",
    "df.head(10)"
   ]
  },
  {
   "cell_type": "markdown",
   "metadata": {},
   "source": [
    "- The data is numerical and we are comparing two groups. Thus, we must employ a 2-sample T-test. TO complete this test, we must make sure that the data meets the following assumptions: no significant outliers, normality and equal variance"
   ]
  },
  {
   "cell_type": "markdown",
   "metadata": {},
   "source": [
    "## Test for outliers"
   ]
  },
  {
   "cell_type": "code",
   "execution_count": 73,
   "metadata": {},
   "outputs": [
    {
     "data": {
      "text/plain": [
       "{'Full Price': 0        12\n",
       " 1        10\n",
       " 2         5\n",
       " 3         9\n",
       " 4        40\n",
       " 5        10\n",
       " 10       20\n",
       " 13       40\n",
       " 14       20\n",
       " 15       42\n",
       " 16       40\n",
       " 19       21\n",
       " 20       20\n",
       " 21       35\n",
       " 22       25\n",
       " 23       30\n",
       " 24       15\n",
       " 25       12\n",
       " 26       25\n",
       " 27        6\n",
       " 28       15\n",
       " 32       10\n",
       " 33        1\n",
       " 35       50\n",
       " 38       20\n",
       " 39       20\n",
       " 41       15\n",
       " 42        2\n",
       " 44       28\n",
       " 47       35\n",
       "        ... \n",
       " 2088      4\n",
       " 2089     10\n",
       " 2090     15\n",
       " 2093     30\n",
       " 2097     12\n",
       " 2100     55\n",
       " 2103      3\n",
       " 2104     42\n",
       " 2105     35\n",
       " 2106      9\n",
       " 2110     20\n",
       " 2114     20\n",
       " 2117      8\n",
       " 2118     40\n",
       " 2119     22\n",
       " 2120    130\n",
       " 2121     10\n",
       " 2122     20\n",
       " 2131      4\n",
       " 2132      1\n",
       " 2136      1\n",
       " 2138      4\n",
       " 2142      2\n",
       " 2143      1\n",
       " 2145      3\n",
       " 2147      2\n",
       " 2148      2\n",
       " 2151      1\n",
       " 2153      4\n",
       " 2154      2\n",
       " Name: Quantity, Length: 1317, dtype: int64, 'Discounted': 6       35\n",
       " 7       15\n",
       " 8        6\n",
       " 9       15\n",
       " 11      40\n",
       " 12      25\n",
       " 17      15\n",
       " 18      21\n",
       " 29      50\n",
       " 30      65\n",
       " 31       6\n",
       " 34      16\n",
       " 36      15\n",
       " 37      21\n",
       " 40      12\n",
       " 43      60\n",
       " 45      60\n",
       " 46      36\n",
       " 48      25\n",
       " 51      12\n",
       " 53      70\n",
       " 54      15\n",
       " 57      60\n",
       " 58      20\n",
       " 65      24\n",
       " 66      15\n",
       " 68      60\n",
       " 69      33\n",
       " 72      12\n",
       " 73       6\n",
       "         ..\n",
       " 2101     4\n",
       " 2102    20\n",
       " 2107     8\n",
       " 2108    36\n",
       " 2109    28\n",
       " 2111    40\n",
       " 2112    20\n",
       " 2113    30\n",
       " 2115    15\n",
       " 2116    10\n",
       " 2123    14\n",
       " 2124    10\n",
       " 2125    30\n",
       " 2126     2\n",
       " 2127    20\n",
       " 2128    20\n",
       " 2129    10\n",
       " 2130    24\n",
       " 2133     1\n",
       " 2134     1\n",
       " 2135     2\n",
       " 2137     2\n",
       " 2139     1\n",
       " 2140     2\n",
       " 2141     1\n",
       " 2144     2\n",
       " 2146     3\n",
       " 2149     2\n",
       " 2150     2\n",
       " 2152     2\n",
       " Name: Quantity, Length: 838, dtype: int64}"
      ]
     },
     "execution_count": 73,
     "metadata": {},
     "output_type": "execute_result"
    }
   ],
   "source": [
    "## To better organize data based on whether an item was full-priced or not, we can create dictionaries\n",
    "groups = {}\n",
    "for grp_name in df['Groups'].unique():\n",
    "    groups[grp_name] = df.groupby('Groups').get_group(grp_name)['Quantity']\n",
    "groups"
   ]
  },
  {
   "cell_type": "code",
   "execution_count": 74,
   "metadata": {},
   "outputs": [
    {
     "name": "stderr",
     "output_type": "stream",
     "text": [
      "C:\\anaconda\\envs\\learn-env\\lib\\site-packages\\scipy\\stats\\stats.py:1713: FutureWarning:\n",
      "\n",
      "Using a non-tuple sequence for multidimensional indexing is deprecated; use `arr[tuple(seq)]` instead of `arr[seq]`. In the future this will be interpreted as an array index, `arr[np.array(seq)]`, which will result either in an error or a different result.\n",
      "\n"
     ]
    },
    {
     "data": {
      "text/plain": [
       "[Text(0, 0.5, 'Density'), Text(0.5, 1.0, 'Quantities Ordered by Price Type')]"
      ]
     },
     "execution_count": 74,
     "metadata": {},
     "output_type": "execute_result"
    },
    {
     "data": {
      "image/png": "[encoded data removed]",
      "text/plain": [
       "<Figure size 432x288 with 1 Axes>"
      ]
     },
     "metadata": {
      "needs_background": "light"
     },
     "output_type": "display_data"
    }
   ],
   "source": [
    "#Visualize the data to get sense of present outlier\n",
    "\n",
    "for k,v in groups.items():\n",
    "    sns.distplot(v,label = k)\n",
    "ax = plt.gca()\n",
    "ax.legend()\n",
    "ax.set(title = 'Quantities Ordered by Price Type',ylabel='Density')"
   ]
  },
  {
   "cell_type": "code",
   "execution_count": 75,
   "metadata": {},
   "outputs": [],
   "source": [
    "from functions import Cohen_d,find_outliers_IQR,find_outliers_Z"
   ]
  },
  {
   "cell_type": "code",
   "execution_count": 76,
   "metadata": {},
   "outputs": [
    {
     "name": "stdout",
     "output_type": "stream",
     "text": [
      "There are 0       False\n",
      "1       False\n",
      "2       False\n",
      "3       False\n",
      "4       False\n",
      "5       False\n",
      "10      False\n",
      "13      False\n",
      "14      False\n",
      "15      False\n",
      "16      False\n",
      "19      False\n",
      "20      False\n",
      "21      False\n",
      "22      False\n",
      "23      False\n",
      "24      False\n",
      "25      False\n",
      "26      False\n",
      "27      False\n",
      "28      False\n",
      "32      False\n",
      "33      False\n",
      "35      False\n",
      "38      False\n",
      "39      False\n",
      "41      False\n",
      "42      False\n",
      "44      False\n",
      "47      False\n",
      "        ...  \n",
      "2088    False\n",
      "2089    False\n",
      "2090    False\n",
      "2093    False\n",
      "2097    False\n",
      "2100    False\n",
      "2103    False\n",
      "2104    False\n",
      "2105    False\n",
      "2106    False\n",
      "2110    False\n",
      "2114    False\n",
      "2117    False\n",
      "2118    False\n",
      "2119    False\n",
      "2120     True\n",
      "2121    False\n",
      "2122    False\n",
      "2131    False\n",
      "2132    False\n",
      "2136    False\n",
      "2138    False\n",
      "2142    False\n",
      "2143    False\n",
      "2145    False\n",
      "2147    False\n",
      "2148    False\n",
      "2151    False\n",
      "2153    False\n",
      "2154    False\n",
      "Length: 1317, dtype: bool outliers present in Discounted using Z-Score\n",
      "There are 6       False\n",
      "7       False\n",
      "8       False\n",
      "9       False\n",
      "11      False\n",
      "12      False\n",
      "17      False\n",
      "18      False\n",
      "29      False\n",
      "30      False\n",
      "31      False\n",
      "34      False\n",
      "36      False\n",
      "37      False\n",
      "40      False\n",
      "43      False\n",
      "45      False\n",
      "46      False\n",
      "48      False\n",
      "51      False\n",
      "53      False\n",
      "54      False\n",
      "57      False\n",
      "58      False\n",
      "65      False\n",
      "66      False\n",
      "68      False\n",
      "69      False\n",
      "72      False\n",
      "73      False\n",
      "        ...  \n",
      "2101    False\n",
      "2102    False\n",
      "2107    False\n",
      "2108    False\n",
      "2109    False\n",
      "2111    False\n",
      "2112    False\n",
      "2113    False\n",
      "2115    False\n",
      "2116    False\n",
      "2123    False\n",
      "2124    False\n",
      "2125    False\n",
      "2126    False\n",
      "2127    False\n",
      "2128    False\n",
      "2129    False\n",
      "2130    False\n",
      "2133    False\n",
      "2134    False\n",
      "2135    False\n",
      "2137    False\n",
      "2139    False\n",
      "2140    False\n",
      "2141    False\n",
      "2144    False\n",
      "2146    False\n",
      "2149    False\n",
      "2150    False\n",
      "2152    False\n",
      "Length: 838, dtype: bool outliers present in Discounted using Z-Score\n"
     ]
    }
   ],
   "source": [
    "#Identifying Outliers\n",
    "\n",
    "for k,v in groups.items():\n",
    "    idx_out = find_outliers_Z(v)\n",
    "    print(f'There are {idx_out} outliers present in {grp_name} using Z-Score')\n",
    "    groups[k] = v[~idx_out]\n",
    "    "
   ]
  },
  {
   "cell_type": "code",
   "execution_count": 77,
   "metadata": {
    "scrolled": true
   },
   "outputs": [
    {
     "name": "stderr",
     "output_type": "stream",
     "text": [
      "C:\\anaconda\\envs\\learn-env\\lib\\site-packages\\scipy\\stats\\stats.py:1713: FutureWarning:\n",
      "\n",
      "Using a non-tuple sequence for multidimensional indexing is deprecated; use `arr[tuple(seq)]` instead of `arr[seq]`. In the future this will be interpreted as an array index, `arr[np.array(seq)]`, which will result either in an error or a different result.\n",
      "\n"
     ]
    },
    {
     "data": {
      "text/plain": [
       "[Text(0, 0.5, 'Density'), Text(0.5, 1.0, 'Quantities Ordered by Price Type')]"
      ]
     },
     "execution_count": 77,
     "metadata": {},
     "output_type": "execute_result"
    },
    {
     "data": {
      "image/png": "[encoded data removed]",
      "text/plain": [
       "<Figure size 432x288 with 1 Axes>"
      ]
     },
     "metadata": {
      "needs_background": "light"
     },
     "output_type": "display_data"
    }
   ],
   "source": [
    "#Replotting of density plot without outliers\n",
    "\n",
    "for k,v in groups.items():\n",
    "    sns.distplot(v,label = k)\n",
    "ax = plt.gca()\n",
    "ax.legend()\n",
    "ax.set(title = 'Quantities Ordered by Price Type',ylabel='Density')\n",
    "\n"
   ]
  },
  {
   "cell_type": "markdown",
   "metadata": {},
   "source": [
    "## Testing for Normality"
   ]
  },
  {
   "cell_type": "code",
   "execution_count": 78,
   "metadata": {},
   "outputs": [],
   "source": [
    "import scipy.stats as stats    "
   ]
  },
  {
   "cell_type": "code",
   "execution_count": 79,
   "metadata": {
    "scrolled": true
   },
   "outputs": [
    {
     "name": "stdout",
     "output_type": "stream",
     "text": [
      " Group Full Price Normaltest p-value = 0.0\n",
      " -The data is is Not normal\n",
      " Group Discounted Normaltest p-value = 0.0\n",
      " -The data is is Not normal\n"
     ]
    }
   ],
   "source": [
    "#Normalcy test with scipy library\n",
    "for k,v in groups.items():\n",
    "    stat,p = stats.normaltest(v)\n",
    "    print(f' Group {k} Normaltest p-value = {round(p,4)}')\n",
    "    sig = 'is Not' if p<0.5 else 'is'\n",
    "    print(f' -The data is {sig} normal')"
   ]
  },
  {
   "cell_type": "code",
   "execution_count": 80,
   "metadata": {},
   "outputs": [
    {
     "data": {
      "text/plain": [
       "(1297, 823)"
      ]
     },
     "execution_count": 80,
     "metadata": {},
     "output_type": "execute_result"
    }
   ],
   "source": [
    "#large data sets are ok to be used as long as data set is large\n",
    "len(groups['Full Price']), len(groups['Discounted'])"
   ]
  },
  {
   "cell_type": "markdown",
   "metadata": {},
   "source": [
    "## Equal Variance"
   ]
  },
  {
   "cell_type": "code",
   "execution_count": 81,
   "metadata": {},
   "outputs": [
    {
     "name": "stdout",
     "output_type": "stream",
     "text": [
      "Levene Test for Equal Variance p-value = 0.0\n",
      " -The data is Not equally varied\n"
     ]
    }
   ],
   "source": [
    "data = []\n",
    "for k, v in groups.items():\n",
    "    data.append(v)\n",
    "\n",
    "stat,p = stats.levene(*data)\n",
    "\n",
    "print (f'Levene Test for Equal Variance p-value = {round(p,4)}')\n",
    "sig = 'is Not' if p<0.5 else 'is'\n",
    "print(f' -The data {sig} equally varied')"
   ]
  },
  {
   "cell_type": "markdown",
   "metadata": {},
   "source": [
    "- Due to the data not having equal variance, we must use the Welch's test"
   ]
  },
  {
   "cell_type": "code",
   "execution_count": 82,
   "metadata": {},
   "outputs": [
    {
     "name": "stdout",
     "output_type": "stream",
     "text": [
      " Welch's t-test p-value is 0.0\n"
     ]
    }
   ],
   "source": [
    "stat,p = stats.ttest_ind(*data, equal_var=False)\n",
    "print(f\" Welch's t-test p-value is {round(p,4)}\")"
   ]
  },
  {
   "cell_type": "markdown",
   "metadata": {},
   "source": [
    "## Effect Size"
   ]
  },
  {
   "cell_type": "code",
   "execution_count": 83,
   "metadata": {},
   "outputs": [
    {
     "data": {
      "text/plain": [
       "-0.32001140965727837"
      ]
     },
     "execution_count": 83,
     "metadata": {},
     "output_type": "execute_result"
    }
   ],
   "source": [
    "Cohen_d(*data)"
   ]
  },
  {
   "cell_type": "code",
   "execution_count": 84,
   "metadata": {},
   "outputs": [
    {
     "data": {
      "text/html": [
       "<table class=\"simpletable\">\n",
       "<caption>Multiple Comparison of Means - Tukey HSD,FWER=0.05</caption>\n",
       "<tr>\n",
       "  <th>group1</th> <th>group2</th> <th>meandiff</th>   <th>lower</th>   <th>upper</th>  <th>reject</th>\n",
       "</tr>\n",
       "<tr>\n",
       "    <td>0.0</td>   <td>0.01</td>  <td>-19.7153</td> <td>-80.3306</td> <td>40.9001</td>  <td>False</td>\n",
       "</tr>\n",
       "<tr>\n",
       "    <td>0.0</td>   <td>0.02</td>  <td>-19.7153</td>  <td>-62.593</td> <td>23.1625</td>  <td>False</td>\n",
       "</tr>\n",
       "<tr>\n",
       "    <td>0.0</td>   <td>0.03</td>  <td>-20.0486</td> <td>-55.0714</td> <td>14.9742</td>  <td>False</td>\n",
       "</tr>\n",
       "<tr>\n",
       "    <td>0.0</td>   <td>0.04</td>  <td>-20.7153</td> <td>-81.3306</td> <td>39.9001</td>  <td>False</td>\n",
       "</tr>\n",
       "<tr>\n",
       "    <td>0.0</td>   <td>0.05</td>   <td>6.2955</td>   <td>1.5381</td>  <td>11.053</td>   <td>True</td> \n",
       "</tr>\n",
       "<tr>\n",
       "    <td>0.0</td>   <td>0.06</td>  <td>-19.7153</td> <td>-80.3306</td> <td>40.9001</td>  <td>False</td>\n",
       "</tr>\n",
       "<tr>\n",
       "    <td>0.0</td>    <td>0.1</td>   <td>3.5217</td>   <td>-1.3783</td> <td>8.4217</td>   <td>False</td>\n",
       "</tr>\n",
       "<tr>\n",
       "    <td>0.0</td>   <td>0.15</td>   <td>6.6669</td>    <td>1.551</td>  <td>11.7828</td>  <td>True</td> \n",
       "</tr>\n",
       "<tr>\n",
       "    <td>0.0</td>    <td>0.2</td>   <td>5.3096</td>   <td>0.2508</td>  <td>10.3684</td>  <td>True</td> \n",
       "</tr>\n",
       "<tr>\n",
       "    <td>0.0</td>   <td>0.25</td>    <td>6.525</td>   <td>1.3647</td>  <td>11.6852</td>  <td>True</td> \n",
       "</tr>\n",
       "<tr>\n",
       "   <td>0.01</td>   <td>0.02</td>     <td>0.0</td>   <td>-74.2101</td> <td>74.2101</td>  <td>False</td>\n",
       "</tr>\n",
       "<tr>\n",
       "   <td>0.01</td>   <td>0.03</td>   <td>-0.3333</td> <td>-70.2993</td> <td>69.6326</td>  <td>False</td>\n",
       "</tr>\n",
       "<tr>\n",
       "   <td>0.01</td>   <td>0.04</td>    <td>-1.0</td>   <td>-86.6905</td> <td>84.6905</td>  <td>False</td>\n",
       "</tr>\n",
       "<tr>\n",
       "   <td>0.01</td>   <td>0.05</td>   <td>26.0108</td>  <td>-34.745</td> <td>86.7667</td>  <td>False</td>\n",
       "</tr>\n",
       "<tr>\n",
       "   <td>0.01</td>   <td>0.06</td>     <td>0.0</td>   <td>-85.6905</td> <td>85.6905</td>  <td>False</td>\n",
       "</tr>\n",
       "<tr>\n",
       "   <td>0.01</td>    <td>0.1</td>   <td>23.237</td>  <td>-37.5302</td> <td>84.0042</td>  <td>False</td>\n",
       "</tr>\n",
       "<tr>\n",
       "   <td>0.01</td>   <td>0.15</td>   <td>26.3822</td> <td>-34.4028</td> <td>87.1671</td>  <td>False</td>\n",
       "</tr>\n",
       "<tr>\n",
       "   <td>0.01</td>    <td>0.2</td>   <td>25.0248</td> <td>-35.7554</td> <td>85.805</td>   <td>False</td>\n",
       "</tr>\n",
       "<tr>\n",
       "   <td>0.01</td>   <td>0.25</td>   <td>26.2403</td> <td>-34.5485</td> <td>87.029</td>   <td>False</td>\n",
       "</tr>\n",
       "<tr>\n",
       "   <td>0.02</td>   <td>0.03</td>   <td>-0.3333</td> <td>-55.6463</td> <td>54.9796</td>  <td>False</td>\n",
       "</tr>\n",
       "<tr>\n",
       "   <td>0.02</td>   <td>0.04</td>    <td>-1.0</td>   <td>-75.2101</td> <td>73.2101</td>  <td>False</td>\n",
       "</tr>\n",
       "<tr>\n",
       "   <td>0.02</td>   <td>0.05</td>   <td>26.0108</td> <td>-17.0654</td> <td>69.087</td>   <td>False</td>\n",
       "</tr>\n",
       "<tr>\n",
       "   <td>0.02</td>   <td>0.06</td>     <td>0.0</td>   <td>-74.2101</td> <td>74.2101</td>  <td>False</td>\n",
       "</tr>\n",
       "<tr>\n",
       "   <td>0.02</td>    <td>0.1</td>   <td>23.237</td>  <td>-19.8552</td> <td>66.3292</td>  <td>False</td>\n",
       "</tr>\n",
       "<tr>\n",
       "   <td>0.02</td>   <td>0.15</td>   <td>26.3822</td> <td>-16.7351</td> <td>69.4994</td>  <td>False</td>\n",
       "</tr>\n",
       "<tr>\n",
       "   <td>0.02</td>    <td>0.2</td>   <td>25.0248</td> <td>-18.0857</td> <td>68.1354</td>  <td>False</td>\n",
       "</tr>\n",
       "<tr>\n",
       "   <td>0.02</td>   <td>0.25</td>   <td>26.2403</td> <td>-16.8823</td> <td>69.3628</td>  <td>False</td>\n",
       "</tr>\n",
       "<tr>\n",
       "   <td>0.03</td>   <td>0.04</td>   <td>-0.6667</td> <td>-70.6326</td> <td>69.2993</td>  <td>False</td>\n",
       "</tr>\n",
       "<tr>\n",
       "   <td>0.03</td>   <td>0.05</td>   <td>26.3441</td>  <td>-8.9214</td> <td>61.6096</td>  <td>False</td>\n",
       "</tr>\n",
       "<tr>\n",
       "   <td>0.03</td>   <td>0.06</td>   <td>0.3333</td>  <td>-69.6326</td> <td>70.2993</td>  <td>False</td>\n",
       "</tr>\n",
       "<tr>\n",
       "   <td>0.03</td>    <td>0.1</td>   <td>23.5703</td> <td>-11.7147</td> <td>58.8553</td>  <td>False</td>\n",
       "</tr>\n",
       "<tr>\n",
       "   <td>0.03</td>   <td>0.15</td>   <td>26.7155</td>  <td>-8.6001</td> <td>62.0311</td>  <td>False</td>\n",
       "</tr>\n",
       "<tr>\n",
       "   <td>0.03</td>    <td>0.2</td>   <td>25.3582</td>  <td>-9.9492</td> <td>60.6656</td>  <td>False</td>\n",
       "</tr>\n",
       "<tr>\n",
       "   <td>0.03</td>   <td>0.25</td>   <td>26.5736</td>  <td>-8.7485</td> <td>61.8957</td>  <td>False</td>\n",
       "</tr>\n",
       "<tr>\n",
       "   <td>0.04</td>   <td>0.05</td>   <td>27.0108</td>  <td>-33.745</td> <td>87.7667</td>  <td>False</td>\n",
       "</tr>\n",
       "<tr>\n",
       "   <td>0.04</td>   <td>0.06</td>     <td>1.0</td>   <td>-84.6905</td> <td>86.6905</td>  <td>False</td>\n",
       "</tr>\n",
       "<tr>\n",
       "   <td>0.04</td>    <td>0.1</td>   <td>24.237</td>  <td>-36.5302</td> <td>85.0042</td>  <td>False</td>\n",
       "</tr>\n",
       "<tr>\n",
       "   <td>0.04</td>   <td>0.15</td>   <td>27.3822</td> <td>-33.4028</td> <td>88.1671</td>  <td>False</td>\n",
       "</tr>\n",
       "<tr>\n",
       "   <td>0.04</td>    <td>0.2</td>   <td>26.0248</td> <td>-34.7554</td> <td>86.805</td>   <td>False</td>\n",
       "</tr>\n",
       "<tr>\n",
       "   <td>0.04</td>   <td>0.25</td>   <td>27.2403</td> <td>-33.5485</td> <td>88.029</td>   <td>False</td>\n",
       "</tr>\n",
       "<tr>\n",
       "   <td>0.05</td>   <td>0.06</td>  <td>-26.0108</td> <td>-86.7667</td> <td>34.745</td>   <td>False</td>\n",
       "</tr>\n",
       "<tr>\n",
       "   <td>0.05</td>    <td>0.1</td>   <td>-2.7738</td>  <td>-9.1822</td> <td>3.6346</td>   <td>False</td>\n",
       "</tr>\n",
       "<tr>\n",
       "   <td>0.05</td>   <td>0.15</td>   <td>0.3714</td>   <td>-6.2036</td> <td>6.9463</td>   <td>False</td>\n",
       "</tr>\n",
       "<tr>\n",
       "   <td>0.05</td>    <td>0.2</td>   <td>-0.986</td>   <td>-7.5166</td> <td>5.5447</td>   <td>False</td>\n",
       "</tr>\n",
       "<tr>\n",
       "   <td>0.05</td>   <td>0.25</td>   <td>0.2294</td>   <td>-6.3801</td>  <td>6.839</td>   <td>False</td>\n",
       "</tr>\n",
       "<tr>\n",
       "   <td>0.06</td>    <td>0.1</td>   <td>23.237</td>  <td>-37.5302</td> <td>84.0042</td>  <td>False</td>\n",
       "</tr>\n",
       "<tr>\n",
       "   <td>0.06</td>   <td>0.15</td>   <td>26.3822</td> <td>-34.4028</td> <td>87.1671</td>  <td>False</td>\n",
       "</tr>\n",
       "<tr>\n",
       "   <td>0.06</td>    <td>0.2</td>   <td>25.0248</td> <td>-35.7554</td> <td>85.805</td>   <td>False</td>\n",
       "</tr>\n",
       "<tr>\n",
       "   <td>0.06</td>   <td>0.25</td>   <td>26.2403</td> <td>-34.5485</td> <td>87.029</td>   <td>False</td>\n",
       "</tr>\n",
       "<tr>\n",
       "    <td>0.1</td>   <td>0.15</td>   <td>3.1452</td>   <td>-3.5337</td>  <td>9.824</td>   <td>False</td>\n",
       "</tr>\n",
       "<tr>\n",
       "    <td>0.1</td>    <td>0.2</td>   <td>1.7879</td>   <td>-4.8474</td> <td>8.4231</td>   <td>False</td>\n",
       "</tr>\n",
       "<tr>\n",
       "    <td>0.1</td>   <td>0.25</td>   <td>3.0033</td>   <td>-3.7096</td> <td>9.7161</td>   <td>False</td>\n",
       "</tr>\n",
       "<tr>\n",
       "   <td>0.15</td>    <td>0.2</td>   <td>-1.3573</td>  <td>-8.1536</td> <td>5.4389</td>   <td>False</td>\n",
       "</tr>\n",
       "<tr>\n",
       "   <td>0.15</td>   <td>0.25</td>   <td>-0.1419</td>  <td>-7.014</td>  <td>6.7302</td>   <td>False</td>\n",
       "</tr>\n",
       "<tr>\n",
       "    <td>0.2</td>   <td>0.25</td>   <td>1.2154</td>   <td>-5.6143</td> <td>8.0451</td>   <td>False</td>\n",
       "</tr>\n",
       "</table>"
      ],
      "text/plain": [
       "<class 'statsmodels.iolib.table.SimpleTable'>"
      ]
     },
     "execution_count": 84,
     "metadata": {},
     "output_type": "execute_result"
    }
   ],
   "source": [
    "from statsmodels.stats.multicomp import pairwise_tukeyhsd\n",
    "model = pairwise_tukeyhsd(df['Quantity'],df['Discount'])\n",
    "model.summary()"
   ]
  },
  {
   "cell_type": "code",
   "execution_count": 85,
   "metadata": {
    "scrolled": true
   },
   "outputs": [
    {
     "name": "stderr",
     "output_type": "stream",
     "text": [
      "C:\\anaconda\\envs\\learn-env\\lib\\site-packages\\scipy\\stats\\stats.py:1713: FutureWarning:\n",
      "\n",
      "Using a non-tuple sequence for multidimensional indexing is deprecated; use `arr[tuple(seq)]` instead of `arr[seq]`. In the future this will be interpreted as an array index, `arr[np.array(seq)]`, which will result either in an error or a different result.\n",
      "\n",
      "No handles with labels found to put in legend.\n"
     ]
    },
    {
     "data": {
      "text/plain": [
       "[Text(0, 0.5, 'Density'), Text(0.5, 1.0, 'Quantities Ordered by Discount Bin')]"
      ]
     },
     "execution_count": 85,
     "metadata": {},
     "output_type": "execute_result"
    },
    {
     "data": {
      "image/png": "[encoded data removed]",
      "text/plain": [
       "<Figure size 432x288 with 1 Axes>"
      ]
     },
     "metadata": {
      "needs_background": "light"
     },
     "output_type": "display_data"
    }
   ],
   "source": [
    "sns.barplot(data=df, x='Discount', y='Quantity',ci=68)\n",
    "ax = plt.gca()\n",
    "ax.legend()\n",
    "ax.set(title = 'Quantities Ordered by Discount Bin',ylabel='Density')\n",
    "\n",
    "\n"
   ]
  },
  {
   "cell_type": "markdown",
   "metadata": {},
   "source": [
    "## Conclusion"
   ]
  },
  {
   "cell_type": "markdown",
   "metadata": {},
   "source": [
    "With a p-value resulting from the Welch test of 0.0, which is below the alpha value of 0.05, the null hypothesis can be rejected and it can be affirmed: a product's discount does affect the quantity ordered."
   ]
  },
  {
   "cell_type": "markdown",
   "metadata": {},
   "source": [
    "# Hypothesis 2"
   ]
  },
  {
   "cell_type": "markdown",
   "metadata": {},
   "source": [
    "> Does a shipment's final destination impact the length of time for it to be delivered?\n",
    "\n",
    "- $H_0$: A shipment's final destination has no impact on the length of time it takes to be delivered.\n",
    "- $H_A$: A shipment's final destination has an impact on the length of time it takes to be delivered."
   ]
  },
  {
   "cell_type": "code",
   "execution_count": 121,
   "metadata": {},
   "outputs": [
    {
     "data": {
      "text/html": [
       "<div>\n",
       "<style scoped>\n",
       "    .dataframe tbody tr th:only-of-type {\n",
       "        vertical-align: middle;\n",
       "    }\n",
       "\n",
       "    .dataframe tbody tr th {\n",
       "        vertical-align: top;\n",
       "    }\n",
       "\n",
       "    .dataframe thead th {\n",
       "        text-align: right;\n",
       "    }\n",
       "</style>\n",
       "<table border=\"1\" class=\"dataframe\">\n",
       "  <thead>\n",
       "    <tr style=\"text-align: right;\">\n",
       "      <th></th>\n",
       "      <th>OrderDate</th>\n",
       "      <th>RequiredDate</th>\n",
       "      <th>ShippedDate</th>\n",
       "      <th>ShipRegion</th>\n",
       "    </tr>\n",
       "  </thead>\n",
       "  <tbody>\n",
       "    <tr>\n",
       "      <th>0</th>\n",
       "      <td>2012-07-04</td>\n",
       "      <td>2012-08-01</td>\n",
       "      <td>2012-07-16</td>\n",
       "      <td>Western Europe</td>\n",
       "    </tr>\n",
       "    <tr>\n",
       "      <th>1</th>\n",
       "      <td>2012-07-05</td>\n",
       "      <td>2012-08-16</td>\n",
       "      <td>2012-07-10</td>\n",
       "      <td>Western Europe</td>\n",
       "    </tr>\n",
       "    <tr>\n",
       "      <th>2</th>\n",
       "      <td>2012-07-08</td>\n",
       "      <td>2012-08-05</td>\n",
       "      <td>2012-07-12</td>\n",
       "      <td>South America</td>\n",
       "    </tr>\n",
       "    <tr>\n",
       "      <th>3</th>\n",
       "      <td>2012-07-08</td>\n",
       "      <td>2012-08-05</td>\n",
       "      <td>2012-07-15</td>\n",
       "      <td>Western Europe</td>\n",
       "    </tr>\n",
       "    <tr>\n",
       "      <th>4</th>\n",
       "      <td>2012-07-09</td>\n",
       "      <td>2012-08-06</td>\n",
       "      <td>2012-07-11</td>\n",
       "      <td>Western Europe</td>\n",
       "    </tr>\n",
       "  </tbody>\n",
       "</table>\n",
       "</div>"
      ],
      "text/plain": [
       "    OrderDate RequiredDate ShippedDate      ShipRegion\n",
       "0  2012-07-04   2012-08-01  2012-07-16  Western Europe\n",
       "1  2012-07-05   2012-08-16  2012-07-10  Western Europe\n",
       "2  2012-07-08   2012-08-05  2012-07-12   South America\n",
       "3  2012-07-08   2012-08-05  2012-07-15  Western Europe\n",
       "4  2012-07-09   2012-08-06  2012-07-11  Western Europe"
      ]
     },
     "execution_count": 121,
     "metadata": {},
     "output_type": "execute_result"
    }
   ],
   "source": [
    "import sqlite3\n",
    "connect = sqlite3.connect('Northwind_small.sqlite')\n",
    "cur = connect.cursor()\n",
    "cur.execute(\"\"\"SELECT OrderDate,RequiredDate,ShippedDate,ShipRegion FROM 'Order';\"\"\")\n",
    "df = pd.DataFrame(cur.fetchall())\n",
    "df.columns = [x[0] for x in cur.description]\n",
    "df.head()"
   ]
  },
  {
   "cell_type": "code",
   "execution_count": 122,
   "metadata": {},
   "outputs": [
    {
     "data": {
      "text/html": [
       "<div>\n",
       "<style scoped>\n",
       "    .dataframe tbody tr th:only-of-type {\n",
       "        vertical-align: middle;\n",
       "    }\n",
       "\n",
       "    .dataframe tbody tr th {\n",
       "        vertical-align: top;\n",
       "    }\n",
       "\n",
       "    .dataframe thead th {\n",
       "        text-align: right;\n",
       "    }\n",
       "</style>\n",
       "<table border=\"1\" class=\"dataframe\">\n",
       "  <thead>\n",
       "    <tr style=\"text-align: right;\">\n",
       "      <th></th>\n",
       "      <th>OrderDate</th>\n",
       "      <th>RequiredDate</th>\n",
       "      <th>ShippedDate</th>\n",
       "      <th>ShipRegion</th>\n",
       "      <th>Time2Delivery</th>\n",
       "    </tr>\n",
       "  </thead>\n",
       "  <tbody>\n",
       "    <tr>\n",
       "      <th>0</th>\n",
       "      <td>2012-07-04</td>\n",
       "      <td>2012-08-01</td>\n",
       "      <td>2012-07-16</td>\n",
       "      <td>Western Europe</td>\n",
       "      <td>28 days</td>\n",
       "    </tr>\n",
       "    <tr>\n",
       "      <th>1</th>\n",
       "      <td>2012-07-05</td>\n",
       "      <td>2012-08-16</td>\n",
       "      <td>2012-07-10</td>\n",
       "      <td>Western Europe</td>\n",
       "      <td>42 days</td>\n",
       "    </tr>\n",
       "    <tr>\n",
       "      <th>2</th>\n",
       "      <td>2012-07-08</td>\n",
       "      <td>2012-08-05</td>\n",
       "      <td>2012-07-12</td>\n",
       "      <td>South America</td>\n",
       "      <td>28 days</td>\n",
       "    </tr>\n",
       "    <tr>\n",
       "      <th>3</th>\n",
       "      <td>2012-07-08</td>\n",
       "      <td>2012-08-05</td>\n",
       "      <td>2012-07-15</td>\n",
       "      <td>Western Europe</td>\n",
       "      <td>28 days</td>\n",
       "    </tr>\n",
       "    <tr>\n",
       "      <th>4</th>\n",
       "      <td>2012-07-09</td>\n",
       "      <td>2012-08-06</td>\n",
       "      <td>2012-07-11</td>\n",
       "      <td>Western Europe</td>\n",
       "      <td>28 days</td>\n",
       "    </tr>\n",
       "  </tbody>\n",
       "</table>\n",
       "</div>"
      ],
      "text/plain": [
       "   OrderDate RequiredDate ShippedDate      ShipRegion Time2Delivery\n",
       "0 2012-07-04   2012-08-01  2012-07-16  Western Europe       28 days\n",
       "1 2012-07-05   2012-08-16  2012-07-10  Western Europe       42 days\n",
       "2 2012-07-08   2012-08-05  2012-07-12   South America       28 days\n",
       "3 2012-07-08   2012-08-05  2012-07-15  Western Europe       28 days\n",
       "4 2012-07-09   2012-08-06  2012-07-11  Western Europe       28 days"
      ]
     },
     "execution_count": 122,
     "metadata": {},
     "output_type": "execute_result"
    }
   ],
   "source": [
    "import datetime as dt\n",
    "\n",
    "#do certain regions have more urgent shipment requirments or use the shippeddate\n",
    "#utilize requireddate \n",
    "\n",
    "df['ShippedDate'] = pd.to_datetime(df['ShippedDate']) #create column for time needed for item be delivered from order date\n",
    "df['OrderDate'] = pd.to_datetime(df['OrderDate'])\n",
    "df['RequiredDate'] = pd.to_datetime(df['RequiredDate'])\n",
    "\n",
    "df['Time2Delivery'] = abs(df['RequiredDate'] - df['OrderDate']) #number of days an item takes to ship\n",
    "\n",
    "df.head()"
   ]
  },
  {
   "cell_type": "code",
   "execution_count": 123,
   "metadata": {},
   "outputs": [
    {
     "data": {
      "text/plain": [
       "0    28.0\n",
       "1    42.0\n",
       "2    28.0\n",
       "3    28.0\n",
       "4    28.0\n",
       "Name: Days, dtype: float64"
      ]
     },
     "metadata": {},
     "output_type": "display_data"
    },
    {
     "data": {
      "text/plain": [
       "Western Europe     276\n",
       "North America      152\n",
       "South America      145\n",
       "British Isles       75\n",
       "Southern Europe     64\n",
       "Northern Europe     55\n",
       "Central America     28\n",
       "Scandinavia         28\n",
       "Eastern Europe       7\n",
       "Name: ShipRegion, dtype: int64"
      ]
     },
     "execution_count": 123,
     "metadata": {},
     "output_type": "execute_result"
    }
   ],
   "source": [
    "df['Days'] = (df['Time2Delivery'] / np.timedelta64(1, 'D')).astype(float) #stack overflow is a god send \n",
    "display(df['Days'].head())\n",
    "df['Days'].describe()\n",
    "df['ShipRegion'].value_counts()"
   ]
  },
  {
   "cell_type": "markdown",
   "metadata": {},
   "source": [
    "In theory, if there is no difference in delivery time from when an order is placed until it is shipped, there should be no difference based on geographical region. For simplicity sake, I grouped all ShipRegions that are in Europe and the Americas as one item and all other regions as Other Market. Again, for the null hypothesis to be true, there should be no difference in both means.\n"
   ]
  },
  {
   "cell_type": "code",
   "execution_count": 124,
   "metadata": {},
   "outputs": [
    {
     "data": {
      "text/plain": [
       "0     True\n",
       "1     True\n",
       "2    False\n",
       "3     True\n",
       "4     True\n",
       "Name: Groups, dtype: bool"
      ]
     },
     "execution_count": 124,
     "metadata": {},
     "output_type": "execute_result"
    }
   ],
   "source": [
    "#breaking up the groups based on region and will just use\n",
    "#with rework, look at this again\n",
    "df['Groups'] = df['ShipRegion'].str.contains('Europe'or'America')\n",
    "#mapping function to label true as correct country in graphs below and same for the false group\n",
    "\n",
    "#df['Groups'] = df['Groups'].astype(int) # used Boolean to prevent error with later tests that require two numbered columns\n",
    "df['Groups'].head()"
   ]
  },
  {
   "cell_type": "markdown",
   "metadata": {},
   "source": [
    "The True ship regions contain Europe or America in their names. So that tests can be run on them later, I will convert the Boolean output to an integer so these regions are represented as 1 and all others as 0 for simplicity."
   ]
  },
  {
   "cell_type": "markdown",
   "metadata": {},
   "source": [
    "## Test for Outliers"
   ]
  },
  {
   "cell_type": "code",
   "execution_count": 125,
   "metadata": {
    "scrolled": false
   },
   "outputs": [
    {
     "data": {
      "text/plain": [
       "126    28.0\n",
       "363    28.0\n",
       "544    28.0\n",
       "622    28.0\n",
       "658    14.0\n",
       "750    14.0\n",
       "796    28.0\n",
       "Name: Days, dtype: float64"
      ]
     },
     "execution_count": 125,
     "metadata": {},
     "output_type": "execute_result"
    }
   ],
   "source": [
    "## To better organize data based on whether an item was full-priced or not, we can create dictionaries\n",
    "groups = {}\n",
    "for grp_name in df['ShipRegion'].unique():\n",
    "    groups[grp_name] = df.groupby('ShipRegion').get_group(grp_name)['Days']\n",
    "groups.pop('Eastern Europe')"
   ]
  },
  {
   "cell_type": "code",
   "execution_count": 126,
   "metadata": {},
   "outputs": [
    {
     "data": {
      "text/plain": [
       "[Text(0, 0, 'Western Europe'),\n",
       " Text(0, 0, 'South America'),\n",
       " Text(0, 0, 'Central America'),\n",
       " Text(0, 0, 'North America'),\n",
       " Text(0, 0, 'Northern Europe'),\n",
       " Text(0, 0, 'Scandinavia'),\n",
       " Text(0, 0, 'Southern Europe'),\n",
       " Text(0, 0, 'British Isles'),\n",
       " Text(0, 0, 'Eastern Europe')]"
      ]
     },
     "execution_count": 126,
     "metadata": {},
     "output_type": "execute_result"
    },
    {
     "data": {
      "image/png": "[encoded data removed]",
      "text/plain": [
       "<Figure size 432x288 with 1 Axes>"
      ]
     },
     "metadata": {
      "needs_background": "light"
     },
     "output_type": "display_data"
    }
   ],
   "source": [
    "sns.boxplot(data = df, x='ShipRegion',y='Days')\n",
    "ax = plt.gca()\n",
    "ax.set_xticklabels(ax.get_xticklabels(),rotation = 45,ha = 'right')"
   ]
  },
  {
   "cell_type": "code",
   "execution_count": 127,
   "metadata": {},
   "outputs": [],
   "source": [
    "#for k,v in groups.items():\n",
    " #   sns.b(v,label = k)\n",
    "#ax = plt.gca()\n",
    "#ax.legend()\n",
    "#ax.set(title = 'Days Required to Ship to Region',ylabel='Density')"
   ]
  },
  {
   "cell_type": "code",
   "execution_count": 128,
   "metadata": {},
   "outputs": [
    {
     "name": "stdout",
     "output_type": "stream",
     "text": [
      "There are 0      False\n",
      "1      False\n",
      "3      False\n",
      "4      False\n",
      "6      False\n",
      "7      False\n",
      "10     False\n",
      "12     False\n",
      "15     False\n",
      "17     False\n",
      "19     False\n",
      "25     False\n",
      "26     False\n",
      "29     False\n",
      "31     False\n",
      "36     False\n",
      "37     False\n",
      "38     False\n",
      "47     False\n",
      "49     False\n",
      "53     False\n",
      "54     False\n",
      "63     False\n",
      "64     False\n",
      "65     False\n",
      "75     False\n",
      "77     False\n",
      "83     False\n",
      "86     False\n",
      "89     False\n",
      "       ...  \n",
      "730    False\n",
      "731    False\n",
      "742    False\n",
      "743    False\n",
      "748    False\n",
      "751    False\n",
      "756    False\n",
      "760    False\n",
      "763    False\n",
      "764    False\n",
      "769    False\n",
      "772    False\n",
      "773    False\n",
      "780    False\n",
      "781    False\n",
      "785    False\n",
      "787    False\n",
      "788    False\n",
      "790    False\n",
      "793    False\n",
      "795    False\n",
      "798    False\n",
      "803    False\n",
      "805    False\n",
      "810    False\n",
      "819    False\n",
      "822    False\n",
      "824    False\n",
      "827    False\n",
      "828    False\n",
      "Length: 276, dtype: bool outliers present in Eastern Europe using Z-Score\n",
      "There are 2      False\n",
      "5      False\n",
      "8      False\n",
      "9      False\n",
      "13     False\n",
      "20     False\n",
      "35     False\n",
      "39     False\n",
      "42     False\n",
      "43     False\n",
      "44     False\n",
      "48     False\n",
      "51     False\n",
      "82     False\n",
      "99     False\n",
      "109    False\n",
      "124    False\n",
      "131    False\n",
      "133    False\n",
      "138    False\n",
      "147    False\n",
      "157    False\n",
      "158    False\n",
      "161    False\n",
      "166    False\n",
      "172    False\n",
      "173    False\n",
      "175    False\n",
      "199    False\n",
      "200    False\n",
      "       ...  \n",
      "671    False\n",
      "674    False\n",
      "677    False\n",
      "687    False\n",
      "689    False\n",
      "706    False\n",
      "709    False\n",
      "710    False\n",
      "711    False\n",
      "712    False\n",
      "713    False\n",
      "721    False\n",
      "728    False\n",
      "733    False\n",
      "738    False\n",
      "741    False\n",
      "749    False\n",
      "766    False\n",
      "771    False\n",
      "774    False\n",
      "791    False\n",
      "794    False\n",
      "801    False\n",
      "804    False\n",
      "806    False\n",
      "807    False\n",
      "811    False\n",
      "817    False\n",
      "820    False\n",
      "823    False\n",
      "Length: 145, dtype: bool outliers present in Eastern Europe using Z-Score\n",
      "There are 11     False\n",
      "28     False\n",
      "45     False\n",
      "56     False\n",
      "60     False\n",
      "71     False\n",
      "74     False\n",
      "106    False\n",
      "117    False\n",
      "226    False\n",
      "254    False\n",
      "259    False\n",
      "270    False\n",
      "287    False\n",
      "325    False\n",
      "328    False\n",
      "377    False\n",
      "428    False\n",
      "429    False\n",
      "434    False\n",
      "511    False\n",
      "594    False\n",
      "608    False\n",
      "667    False\n",
      "678    False\n",
      "747    False\n",
      "821    False\n",
      "825    False\n",
      "dtype: bool outliers present in Eastern Europe using Z-Score\n",
      "There are 14     False\n",
      "21     False\n",
      "23     False\n",
      "24     False\n",
      "46     False\n",
      "57     False\n",
      "59     False\n",
      "62     False\n",
      "66     False\n",
      "68     False\n",
      "69     False\n",
      "76     False\n",
      "81     False\n",
      "84     False\n",
      "90     False\n",
      "91     False\n",
      "96     False\n",
      "98     False\n",
      "101    False\n",
      "121    False\n",
      "127    False\n",
      "128    False\n",
      "137    False\n",
      "141    False\n",
      "145    False\n",
      "146    False\n",
      "150    False\n",
      "153    False\n",
      "162    False\n",
      "163    False\n",
      "       ...  \n",
      "670    False\n",
      "688    False\n",
      "693    False\n",
      "696    False\n",
      "701    False\n",
      "717    False\n",
      "726    False\n",
      "727    False\n",
      "734    False\n",
      "735    False\n",
      "736    False\n",
      "740    False\n",
      "744    False\n",
      "752    False\n",
      "754    False\n",
      "755    False\n",
      "758    False\n",
      "770    False\n",
      "779    False\n",
      "782    False\n",
      "783    False\n",
      "784    False\n",
      "786    False\n",
      "792    False\n",
      "797    False\n",
      "800    False\n",
      "813    False\n",
      "816    False\n",
      "818    False\n",
      "829    False\n",
      "Length: 152, dtype: bool outliers present in Eastern Europe using Z-Score\n",
      "There are 16     False\n",
      "30     False\n",
      "32     False\n",
      "79     False\n",
      "93     False\n",
      "119    False\n",
      "130    False\n",
      "136    False\n",
      "151    False\n",
      "169    False\n",
      "186    False\n",
      "196    False\n",
      "197    False\n",
      "212    False\n",
      "217    False\n",
      "276    False\n",
      "285    False\n",
      "308    False\n",
      "313    False\n",
      "324    False\n",
      "343    False\n",
      "354    False\n",
      "378    False\n",
      "394    False\n",
      "406    False\n",
      "421    False\n",
      "424    False\n",
      "440    False\n",
      "441    False\n",
      "455    False\n",
      "485    False\n",
      "496    False\n",
      "514    False\n",
      "521    False\n",
      "526    False\n",
      "530    False\n",
      "554    False\n",
      "576    False\n",
      "589    False\n",
      "609    False\n",
      "618    False\n",
      "627    False\n",
      "632    False\n",
      "654    False\n",
      "673    False\n",
      "676    False\n",
      "698    False\n",
      "707    False\n",
      "729    False\n",
      "732    False\n",
      "745    False\n",
      "746    False\n",
      "753    False\n",
      "802    False\n",
      "826    False\n",
      "dtype: bool outliers present in Eastern Europe using Z-Score\n",
      "There are 18     False\n",
      "22     False\n",
      "72     False\n",
      "85     False\n",
      "139    False\n",
      "164    False\n",
      "168    False\n",
      "189    False\n",
      "207    False\n",
      "272    False\n",
      "278    False\n",
      "305    False\n",
      "335    False\n",
      "367    False\n",
      "388    False\n",
      "391    False\n",
      "425    False\n",
      "447    False\n",
      "502    False\n",
      "533    False\n",
      "583    False\n",
      "625    False\n",
      "631    False\n",
      "661    False\n",
      "662    False\n",
      "757    False\n",
      "767    False\n",
      "777    False\n",
      "dtype: bool outliers present in Eastern Europe using Z-Score\n",
      "There are 27     False\n",
      "33      True\n",
      "34     False\n",
      "40     False\n",
      "52     False\n",
      "55     False\n",
      "58     False\n",
      "78     False\n",
      "80     False\n",
      "88     False\n",
      "104     True\n",
      "118     True\n",
      "149    False\n",
      "156    False\n",
      "174    False\n",
      "178    False\n",
      "180    False\n",
      "185    False\n",
      "195    False\n",
      "216    False\n",
      "219    False\n",
      "229    False\n",
      "243    False\n",
      "302    False\n",
      "303     True\n",
      "314    False\n",
      "320    False\n",
      "338    False\n",
      "356    False\n",
      "381    False\n",
      "       ...  \n",
      "479    False\n",
      "505    False\n",
      "506    False\n",
      "536    False\n",
      "553    False\n",
      "559    False\n",
      "564    False\n",
      "570    False\n",
      "624    False\n",
      "626    False\n",
      "639    False\n",
      "640    False\n",
      "660    False\n",
      "663    False\n",
      "669    False\n",
      "680    False\n",
      "691    False\n",
      "694    False\n",
      "700    False\n",
      "702    False\n",
      "715    False\n",
      "722     True\n",
      "759    False\n",
      "761    False\n",
      "762    False\n",
      "765    False\n",
      "778    False\n",
      "789    False\n",
      "812    False\n",
      "814    False\n",
      "Length: 64, dtype: bool outliers present in Eastern Europe using Z-Score\n",
      "There are 41     False\n",
      "50     False\n",
      "61     False\n",
      "67     False\n",
      "70     False\n",
      "73     False\n",
      "87     False\n",
      "107    False\n",
      "111    False\n",
      "116    False\n",
      "125    False\n",
      "129    False\n",
      "132    False\n",
      "135    False\n",
      "140    False\n",
      "152    False\n",
      "181    False\n",
      "187    False\n",
      "205    False\n",
      "214    False\n",
      "223    False\n",
      "224    False\n",
      "225    False\n",
      "236    False\n",
      "255    False\n",
      "268    False\n",
      "269    False\n",
      "275    False\n",
      "284    False\n",
      "290    False\n",
      "       ...  \n",
      "488    False\n",
      "493    False\n",
      "495    False\n",
      "501    False\n",
      "504    False\n",
      "520    False\n",
      "545    False\n",
      "550    False\n",
      "552    False\n",
      "556    False\n",
      "581    False\n",
      "600    False\n",
      "616    False\n",
      "621    False\n",
      "649    False\n",
      "664    False\n",
      "672    False\n",
      "685    False\n",
      "695    False\n",
      "699    False\n",
      "705    False\n",
      "737    False\n",
      "739    False\n",
      "768    False\n",
      "775    False\n",
      "776    False\n",
      "799    False\n",
      "808    False\n",
      "809    False\n",
      "815    False\n",
      "Length: 75, dtype: bool outliers present in Eastern Europe using Z-Score\n"
     ]
    }
   ],
   "source": [
    "for k,v in groups.items():\n",
    "    idx_out = find_outliers_Z(v)\n",
    "    print(f'There are {idx_out} outliers present in {grp_name} using Z-Score')\n",
    "    groups[k] = v[~idx_out]"
   ]
  },
  {
   "cell_type": "code",
   "execution_count": 129,
   "metadata": {},
   "outputs": [
    {
     "name": "stderr",
     "output_type": "stream",
     "text": [
      "C:\\anaconda\\envs\\learn-env\\lib\\site-packages\\scipy\\stats\\stats.py:1713: FutureWarning:\n",
      "\n",
      "Using a non-tuple sequence for multidimensional indexing is deprecated; use `arr[tuple(seq)]` instead of `arr[seq]`. In the future this will be interpreted as an array index, `arr[np.array(seq)]`, which will result either in an error or a different result.\n",
      "\n",
      "C:\\anaconda\\envs\\learn-env\\lib\\site-packages\\statsmodels\\nonparametric\\kde.py:488: RuntimeWarning:\n",
      "\n",
      "invalid value encountered in true_divide\n",
      "\n",
      "C:\\anaconda\\envs\\learn-env\\lib\\site-packages\\statsmodels\\nonparametric\\kdetools.py:34: RuntimeWarning:\n",
      "\n",
      "invalid value encountered in double_scalars\n",
      "\n"
     ]
    },
    {
     "data": {
      "text/plain": [
       "[Text(0, 0.5, 'Density'), Text(0.5, 1.0, 'Shipment Tme by Region')]"
      ]
     },
     "execution_count": 129,
     "metadata": {},
     "output_type": "execute_result"
    },
    {
     "data": {
      "image/png": "[encoded data removed]",
      "text/plain": [
       "<Figure size 432x288 with 1 Axes>"
      ]
     },
     "metadata": {
      "needs_background": "light"
     },
     "output_type": "display_data"
    }
   ],
   "source": [
    "for k,v in groups.items():\n",
    "    sns.distplot(v,label = k)\n",
    "sns.barplot(data=df, x='ShipRegion', y='Days',ci=68)\n",
    "ax = plt.gca()\n",
    "#ax.legend()\n",
    "ax.set_xticklabels(ax.get_xticklabels(),rotation = 45,ha = 'right')\n",
    "ax.set(title = 'Shipment Tme by Region',ylabel='Density')\n"
   ]
  },
  {
   "cell_type": "markdown",
   "metadata": {},
   "source": [
    "## Test for Normalcy"
   ]
  },
  {
   "cell_type": "code",
   "execution_count": 130,
   "metadata": {},
   "outputs": [],
   "source": [
    "import scipy.stats as stats  "
   ]
  },
  {
   "cell_type": "code",
   "execution_count": 131,
   "metadata": {
    "scrolled": true
   },
   "outputs": [
    {
     "name": "stdout",
     "output_type": "stream",
     "text": [
      " Group Western Europe Normaltest p-value = 0.0\n",
      " -The data is Not normal\n",
      " Group South America Normaltest p-value = 0.0008\n",
      " -The data is Not normal\n",
      " Group Central America Normaltest p-value = 0.0\n",
      " -The data is Not normal\n",
      " Group North America Normaltest p-value = 0.0\n",
      " -The data is Not normal\n",
      " Group Northern Europe Normaltest p-value = 0.0192\n",
      " -The data is Not normal\n",
      " Group Scandinavia Normaltest p-value = 0.0383\n",
      " -The data is Not normal\n",
      " Group Southern Europe Normaltest p-value = 0.5883\n",
      " -The data is normal\n",
      " Group British Isles Normaltest p-value = 0.0054\n",
      " -The data is Not normal\n"
     ]
    }
   ],
   "source": [
    "#Normalcy test with scipy library\n",
    "for k,v in groups.items():\n",
    "    stat,p = stats.normaltest(v)\n",
    "    print(f' Group {k} Normaltest p-value = {round(p,4)}')\n",
    "    sig = 'is Not' if p<0.5 else 'is'\n",
    "    print(f' -The data {sig} normal')"
   ]
  },
  {
   "cell_type": "markdown",
   "metadata": {},
   "source": [
    "## Equal Variance"
   ]
  },
  {
   "cell_type": "code",
   "execution_count": 132,
   "metadata": {},
   "outputs": [
    {
     "name": "stdout",
     "output_type": "stream",
     "text": [
      "Levene Test for Equal Variance p-value = 0.0751\n",
      " -The data is Not equally varied\n"
     ]
    }
   ],
   "source": [
    "data = []\n",
    "for k, v in groups.items():\n",
    "    data.append(v)\n",
    "\n",
    "stat,p = stats.levene(*data)\n",
    "\n",
    "print (f'Levene Test for Equal Variance p-value = {round(p,4)}')\n",
    "sig = 'is Not' if p<0.5 else 'is'\n",
    "print(f' -The data {sig} equally varied')"
   ]
  },
  {
   "cell_type": "markdown",
   "metadata": {},
   "source": [
    "## ANOVA Test"
   ]
  },
  {
   "cell_type": "code",
   "execution_count": 133,
   "metadata": {},
   "outputs": [
    {
     "name": "stdout",
     "output_type": "stream",
     "text": [
      " ANOVA p-value is 0.618\n"
     ]
    }
   ],
   "source": [
    "stat,p = stats.f_oneway(*data)\n",
    "print(f\" ANOVA p-value is {round(p,4)}\")"
   ]
  },
  {
   "cell_type": "markdown",
   "metadata": {},
   "source": [
    "## Effect Size"
   ]
  },
  {
   "cell_type": "code",
   "execution_count": 134,
   "metadata": {},
   "outputs": [
    {
     "ename": "TypeError",
     "evalue": "Cohen_d() takes from 2 to 3 positional arguments but 8 were given",
     "output_type": "error",
     "traceback": [
      "\u001b[1;31m---------------------------------------------------------------------------\u001b[0m",
      "\u001b[1;31mTypeError\u001b[0m                                 Traceback (most recent call last)",
      "\u001b[1;32m<ipython-input-134-37dd90e063a6>\u001b[0m in \u001b[0;36m<module>\u001b[1;34m()\u001b[0m\n\u001b[1;32m----> 1\u001b[1;33m \u001b[0mCohen_d\u001b[0m\u001b[1;33m(\u001b[0m\u001b[1;33m*\u001b[0m\u001b[0mdata\u001b[0m\u001b[1;33m)\u001b[0m\u001b[1;33m\u001b[0m\u001b[0m\n\u001b[0m",
      "\u001b[1;31mTypeError\u001b[0m: Cohen_d() takes from 2 to 3 positional arguments but 8 were given"
     ]
    }
   ],
   "source": [
    "Cohen_d(*data)"
   ]
  },
  {
   "cell_type": "code",
   "execution_count": 136,
   "metadata": {},
   "outputs": [
    {
     "ename": "TypeError",
     "evalue": "Cannot cast array data from dtype('O') to dtype('float64') according to the rule 'safe'",
     "output_type": "error",
     "traceback": [
      "\u001b[1;31m---------------------------------------------------------------------------\u001b[0m",
      "\u001b[1;31mTypeError\u001b[0m                                 Traceback (most recent call last)",
      "\u001b[1;32m<ipython-input-136-0baeb26627ba>\u001b[0m in \u001b[0;36m<module>\u001b[1;34m()\u001b[0m\n\u001b[0;32m      1\u001b[0m \u001b[1;32mfrom\u001b[0m \u001b[0mstatsmodels\u001b[0m\u001b[1;33m.\u001b[0m\u001b[0mstats\u001b[0m\u001b[1;33m.\u001b[0m\u001b[0mmulticomp\u001b[0m \u001b[1;32mimport\u001b[0m \u001b[0mpairwise_tukeyhsd\u001b[0m\u001b[1;33m\u001b[0m\u001b[0m\n\u001b[1;32m----> 2\u001b[1;33m \u001b[0mmodel\u001b[0m \u001b[1;33m=\u001b[0m \u001b[0mpairwise_tukeyhsd\u001b[0m\u001b[1;33m(\u001b[0m\u001b[0mdf\u001b[0m\u001b[1;33m[\u001b[0m\u001b[1;34m'ShipRegion'\u001b[0m\u001b[1;33m]\u001b[0m\u001b[1;33m,\u001b[0m\u001b[0mdf\u001b[0m\u001b[1;33m[\u001b[0m\u001b[1;34m'Days'\u001b[0m\u001b[1;33m]\u001b[0m\u001b[1;33m)\u001b[0m\u001b[1;33m\u001b[0m\u001b[0m\n\u001b[0m\u001b[0;32m      3\u001b[0m \u001b[0mmodel\u001b[0m\u001b[1;33m.\u001b[0m\u001b[0msummary\u001b[0m\u001b[1;33m(\u001b[0m\u001b[1;33m)\u001b[0m\u001b[1;33m\u001b[0m\u001b[0m\n",
      "\u001b[1;32mC:\\anaconda\\envs\\learn-env\\lib\\site-packages\\statsmodels\\stats\\multicomp.py\u001b[0m in \u001b[0;36mpairwise_tukeyhsd\u001b[1;34m(endog, groups, alpha)\u001b[0m\n\u001b[0;32m     36\u001b[0m     '''\n\u001b[0;32m     37\u001b[0m \u001b[1;33m\u001b[0m\u001b[0m\n\u001b[1;32m---> 38\u001b[1;33m     \u001b[1;32mreturn\u001b[0m \u001b[0mMultiComparison\u001b[0m\u001b[1;33m(\u001b[0m\u001b[0mendog\u001b[0m\u001b[1;33m,\u001b[0m \u001b[0mgroups\u001b[0m\u001b[1;33m)\u001b[0m\u001b[1;33m.\u001b[0m\u001b[0mtukeyhsd\u001b[0m\u001b[1;33m(\u001b[0m\u001b[0malpha\u001b[0m\u001b[1;33m=\u001b[0m\u001b[0malpha\u001b[0m\u001b[1;33m)\u001b[0m\u001b[1;33m\u001b[0m\u001b[0m\n\u001b[0m",
      "\u001b[1;32mC:\\anaconda\\envs\\learn-env\\lib\\site-packages\\statsmodels\\sandbox\\stats\\multicomp.py\u001b[0m in \u001b[0;36mtukeyhsd\u001b[1;34m(self, alpha)\u001b[0m\n\u001b[0;32m    964\u001b[0m         self.groupstats = GroupsStats(\n\u001b[0;32m    965\u001b[0m                             \u001b[0mnp\u001b[0m\u001b[1;33m.\u001b[0m\u001b[0mcolumn_stack\u001b[0m\u001b[1;33m(\u001b[0m\u001b[1;33m[\u001b[0m\u001b[0mself\u001b[0m\u001b[1;33m.\u001b[0m\u001b[0mdata\u001b[0m\u001b[1;33m,\u001b[0m \u001b[0mself\u001b[0m\u001b[1;33m.\u001b[0m\u001b[0mgroupintlab\u001b[0m\u001b[1;33m]\u001b[0m\u001b[1;33m)\u001b[0m\u001b[1;33m,\u001b[0m\u001b[1;33m\u001b[0m\u001b[0m\n\u001b[1;32m--> 966\u001b[1;33m                             useranks=False)\n\u001b[0m\u001b[0;32m    967\u001b[0m \u001b[1;33m\u001b[0m\u001b[0m\n\u001b[0;32m    968\u001b[0m         \u001b[0mgmeans\u001b[0m \u001b[1;33m=\u001b[0m \u001b[0mself\u001b[0m\u001b[1;33m.\u001b[0m\u001b[0mgroupstats\u001b[0m\u001b[1;33m.\u001b[0m\u001b[0mgroupmean\u001b[0m\u001b[1;33m\u001b[0m\u001b[0m\n",
      "\u001b[1;32mC:\\anaconda\\envs\\learn-env\\lib\\site-packages\\statsmodels\\sandbox\\stats\\multicomp.py\u001b[0m in \u001b[0;36m__init__\u001b[1;34m(self, x, useranks, uni, intlab)\u001b[0m\n\u001b[0;32m    535\u001b[0m \u001b[1;33m\u001b[0m\u001b[0m\n\u001b[0;32m    536\u001b[0m         \u001b[1;31m#temporary until separated and made all lazy\u001b[0m\u001b[1;33m\u001b[0m\u001b[1;33m\u001b[0m\u001b[0m\n\u001b[1;32m--> 537\u001b[1;33m         \u001b[0mself\u001b[0m\u001b[1;33m.\u001b[0m\u001b[0mrunbasic\u001b[0m\u001b[1;33m(\u001b[0m\u001b[0museranks\u001b[0m\u001b[1;33m=\u001b[0m\u001b[0museranks\u001b[0m\u001b[1;33m)\u001b[0m\u001b[1;33m\u001b[0m\u001b[0m\n\u001b[0m\u001b[0;32m    538\u001b[0m \u001b[1;33m\u001b[0m\u001b[0m\n\u001b[0;32m    539\u001b[0m \u001b[1;33m\u001b[0m\u001b[0m\n",
      "\u001b[1;32mC:\\anaconda\\envs\\learn-env\\lib\\site-packages\\statsmodels\\sandbox\\stats\\multicomp.py\u001b[0m in \u001b[0;36mrunbasic\u001b[1;34m(self, useranks)\u001b[0m\n\u001b[0;32m    569\u001b[0m         \u001b[1;32melse\u001b[0m\u001b[1;33m:\u001b[0m\u001b[1;33m\u001b[0m\u001b[0m\n\u001b[0;32m    570\u001b[0m             \u001b[0mself\u001b[0m\u001b[1;33m.\u001b[0m\u001b[0mxx\u001b[0m \u001b[1;33m=\u001b[0m \u001b[0mx\u001b[0m\u001b[1;33m[\u001b[0m\u001b[1;33m:\u001b[0m\u001b[1;33m,\u001b[0m\u001b[1;36m0\u001b[0m\u001b[1;33m]\u001b[0m\u001b[1;33m\u001b[0m\u001b[0m\n\u001b[1;32m--> 571\u001b[1;33m         \u001b[0mself\u001b[0m\u001b[1;33m.\u001b[0m\u001b[0mgroupsum\u001b[0m \u001b[1;33m=\u001b[0m \u001b[0mgroupranksum\u001b[0m \u001b[1;33m=\u001b[0m \u001b[0mnp\u001b[0m\u001b[1;33m.\u001b[0m\u001b[0mbincount\u001b[0m\u001b[1;33m(\u001b[0m\u001b[0mself\u001b[0m\u001b[1;33m.\u001b[0m\u001b[0mintlab\u001b[0m\u001b[1;33m,\u001b[0m \u001b[0mweights\u001b[0m\u001b[1;33m=\u001b[0m\u001b[0mself\u001b[0m\u001b[1;33m.\u001b[0m\u001b[0mxx\u001b[0m\u001b[1;33m)\u001b[0m\u001b[1;33m\u001b[0m\u001b[0m\n\u001b[0m\u001b[0;32m    572\u001b[0m         \u001b[1;31m#print('groupranksum', groupranksum, groupranksum.shape, self.groupnobs.shape\u001b[0m\u001b[1;33m\u001b[0m\u001b[1;33m\u001b[0m\u001b[0m\n\u001b[0;32m    573\u001b[0m         \u001b[1;31m# start at 1 for stats.rankdata :\u001b[0m\u001b[1;33m\u001b[0m\u001b[1;33m\u001b[0m\u001b[0m\n",
      "\u001b[1;31mTypeError\u001b[0m: Cannot cast array data from dtype('O') to dtype('float64') according to the rule 'safe'"
     ]
    }
   ],
   "source": [
    "from statsmodels.stats.multicomp import pairwise_tukeyhsd\n",
    "model = pairwise_tukeyhsd(df['ShipRegion'],df['Days'])\n",
    "model.summary()"
   ]
  },
  {
   "cell_type": "code",
   "execution_count": 137,
   "metadata": {},
   "outputs": [
    {
     "name": "stderr",
     "output_type": "stream",
     "text": [
      "C:\\anaconda\\envs\\learn-env\\lib\\site-packages\\scipy\\stats\\stats.py:1713: FutureWarning:\n",
      "\n",
      "Using a non-tuple sequence for multidimensional indexing is deprecated; use `arr[tuple(seq)]` instead of `arr[seq]`. In the future this will be interpreted as an array index, `arr[np.array(seq)]`, which will result either in an error or a different result.\n",
      "\n",
      "No handles with labels found to put in legend.\n"
     ]
    },
    {
     "data": {
      "text/plain": [
       "[Text(0, 0.5, 'Days'), Text(0.5, 1.0, 'Shipment Tme by Region')]"
      ]
     },
     "execution_count": 137,
     "metadata": {},
     "output_type": "execute_result"
    },
    {
     "data": {
      "image/png": "[encoded data removed]",
      "text/plain": [
       "<Figure size 432x288 with 1 Axes>"
      ]
     },
     "metadata": {
      "needs_background": "light"
     },
     "output_type": "display_data"
    }
   ],
   "source": [
    "sns.barplot(data=df, x='S', y='Days',ci=68)\n",
    "#for k,v in groups.items():\n",
    "    #sns.distplot(v,label = k)\n",
    "#sns.barplot(data=df, x='Groups', y='Days',ci=68)\n",
    "ax = plt.gca()\n",
    "ax.legend()\n",
    "ax.set(title = 'Shipment Tme by Region',ylabel='Days')\n"
   ]
  },
  {
   "cell_type": "markdown",
   "metadata": {},
   "source": [
    "## Conclusion"
   ]
  },
  {
   "cell_type": "markdown",
   "metadata": {},
   "source": [
    "With a p-value score from the Welch test of 0.42 and alpha value of 0.05, the null hypothesis cannot be rejected in this case. A shipment's final destination doesn't have an impact on the amount it time it takes for it to arrive."
   ]
  },
  {
   "cell_type": "markdown",
   "metadata": {},
   "source": [
    "# Hypothesis 3"
   ]
  },
  {
   "cell_type": "markdown",
   "metadata": {},
   "source": [
    "> Does a employee's date of birth have a statistically significant effect on their hire date?\n",
    "\n",
    "- $H_0$: The average date of birth at hire is 30 years.\n",
    "- $H_A$: The average date of birth at hire is not 30 years."
   ]
  },
  {
   "cell_type": "code",
   "execution_count": null,
   "metadata": {},
   "outputs": [],
   "source": [
    "import sqlite3\n",
    "connect = sqlite3.connect('Northwind_small.sqlite')\n",
    "cur = connect.cursor()\n",
    "cur.execute(\"\"\"SELECT LastName,FirstName,BirthDate,HireDate FROM Employee;\"\"\")\n",
    "df = pd.DataFrame(cur.fetchall())\n",
    "df.columns = [x[0] for x in cur.description]\n",
    "df"
   ]
  },
  {
   "cell_type": "code",
   "execution_count": null,
   "metadata": {},
   "outputs": [],
   "source": [
    "#Calculating age at hire\n",
    "df['BirthDate'] = pd.to_datetime(df['BirthDate'])\n",
    "df['HireDate'] = pd.to_datetime(df['HireDate'])\n",
    "df['Age'] = abs(df['HireDate'] - df['BirthDate'])\n",
    "\n",
    "df['Age'] = (df['Age'] / np.timedelta64(1, 'D')).astype(float) #stack overflow is a god send \n",
    "df['RealAge'] = df['Age']/365\n",
    "df['RealAge'].mean()"
   ]
  },
  {
   "cell_type": "markdown",
   "metadata": {},
   "source": [
    "## Test for Normalcy"
   ]
  },
  {
   "cell_type": "code",
   "execution_count": null,
   "metadata": {},
   "outputs": [],
   "source": [
    "sns.distplot(df['RealAge'],bins=7)\n",
    "ax = plt.gca()\n",
    "ax.legend()\n",
    "ax.set(title = 'Employee Age Distribution',ylabel='Density')"
   ]
  },
  {
   "cell_type": "code",
   "execution_count": null,
   "metadata": {},
   "outputs": [],
   "source": [
    "sns.barplot(data= df,x='FirstName', y='RealAge',ci=68)\n",
    "plt.axhline(y=30,xmin = 0,xmax=1, color = 'black')\n",
    "ax = plt.gca()\n",
    "ax.legend()\n",
    "ax.set(title = 'Employee Ages',ylabel='Age')"
   ]
  },
  {
   "cell_type": "code",
   "execution_count": null,
   "metadata": {},
   "outputs": [],
   "source": [
    "#Normalcy test with scipy library\n",
    "v = df['RealAge']\n",
    "stat,p = stats.normaltest(v)\n",
    "print(f' Group {k} Normaltest p-value = {round(p,4)}')\n",
    "sig = 'is Not' if p<0.5 else 'is'\n",
    "print(f' -The data {sig} normal')"
   ]
  },
  {
   "cell_type": "code",
   "execution_count": null,
   "metadata": {},
   "outputs": [],
   "source": [
    "data = df['RealAge']\n",
    "stat,p = stats.wilcoxon(v)\n",
    "print(f\" The p-value is {round(p,4)}\")"
   ]
  },
  {
   "cell_type": "markdown",
   "metadata": {},
   "source": [
    "## Conclusion"
   ]
  },
  {
   "cell_type": "markdown",
   "metadata": {},
   "source": [
    "With a p-value of 0.01 derived from the Wilconon the, the null hypothesis, the average age of employees is 30 years old, can be rejected. "
   ]
  },
  {
   "cell_type": "markdown",
   "metadata": {},
   "source": [
    "# Hypothesis 4"
   ]
  },
  {
   "cell_type": "markdown",
   "metadata": {},
   "source": [
    "> Does a shipment's region determine its freight cost?\n",
    "\n",
    "- $H_0$: The freight costs of shipments are equal across ship regions.\n",
    "- $H_A$: The freight costs of shipments are not equal across ship regions ."
   ]
  },
  {
   "cell_type": "code",
   "execution_count": 102,
   "metadata": {
    "scrolled": true
   },
   "outputs": [
    {
     "data": {
      "text/html": [
       "<div>\n",
       "<style scoped>\n",
       "    .dataframe tbody tr th:only-of-type {\n",
       "        vertical-align: middle;\n",
       "    }\n",
       "\n",
       "    .dataframe tbody tr th {\n",
       "        vertical-align: top;\n",
       "    }\n",
       "\n",
       "    .dataframe thead th {\n",
       "        text-align: right;\n",
       "    }\n",
       "</style>\n",
       "<table border=\"1\" class=\"dataframe\">\n",
       "  <thead>\n",
       "    <tr style=\"text-align: right;\">\n",
       "      <th></th>\n",
       "      <th>Id</th>\n",
       "      <th>CustomerId</th>\n",
       "      <th>EmployeeId</th>\n",
       "      <th>OrderDate</th>\n",
       "      <th>RequiredDate</th>\n",
       "      <th>ShippedDate</th>\n",
       "      <th>ShipVia</th>\n",
       "      <th>Freight</th>\n",
       "      <th>ShipName</th>\n",
       "      <th>ShipAddress</th>\n",
       "      <th>ShipCity</th>\n",
       "      <th>ShipRegion</th>\n",
       "      <th>ShipPostalCode</th>\n",
       "      <th>ShipCountry</th>\n",
       "    </tr>\n",
       "  </thead>\n",
       "  <tbody>\n",
       "    <tr>\n",
       "      <th>0</th>\n",
       "      <td>10248</td>\n",
       "      <td>VINET</td>\n",
       "      <td>5</td>\n",
       "      <td>2012-07-04</td>\n",
       "      <td>2012-08-01</td>\n",
       "      <td>2012-07-16</td>\n",
       "      <td>3</td>\n",
       "      <td>32.38</td>\n",
       "      <td>Vins et alcools Chevalier</td>\n",
       "      <td>59 rue de l'Abbaye</td>\n",
       "      <td>Reims</td>\n",
       "      <td>Western Europe</td>\n",
       "      <td>51100</td>\n",
       "      <td>France</td>\n",
       "    </tr>\n",
       "    <tr>\n",
       "      <th>1</th>\n",
       "      <td>10249</td>\n",
       "      <td>TOMSP</td>\n",
       "      <td>6</td>\n",
       "      <td>2012-07-05</td>\n",
       "      <td>2012-08-16</td>\n",
       "      <td>2012-07-10</td>\n",
       "      <td>1</td>\n",
       "      <td>11.61</td>\n",
       "      <td>Toms Spezialitäten</td>\n",
       "      <td>Luisenstr. 48</td>\n",
       "      <td>Münster</td>\n",
       "      <td>Western Europe</td>\n",
       "      <td>44087</td>\n",
       "      <td>Germany</td>\n",
       "    </tr>\n",
       "    <tr>\n",
       "      <th>2</th>\n",
       "      <td>10250</td>\n",
       "      <td>HANAR</td>\n",
       "      <td>4</td>\n",
       "      <td>2012-07-08</td>\n",
       "      <td>2012-08-05</td>\n",
       "      <td>2012-07-12</td>\n",
       "      <td>2</td>\n",
       "      <td>65.83</td>\n",
       "      <td>Hanari Carnes</td>\n",
       "      <td>Rua do Paço, 67</td>\n",
       "      <td>Rio de Janeiro</td>\n",
       "      <td>South America</td>\n",
       "      <td>05454-876</td>\n",
       "      <td>Brazil</td>\n",
       "    </tr>\n",
       "    <tr>\n",
       "      <th>3</th>\n",
       "      <td>10251</td>\n",
       "      <td>VICTE</td>\n",
       "      <td>3</td>\n",
       "      <td>2012-07-08</td>\n",
       "      <td>2012-08-05</td>\n",
       "      <td>2012-07-15</td>\n",
       "      <td>1</td>\n",
       "      <td>41.34</td>\n",
       "      <td>Victuailles en stock</td>\n",
       "      <td>2, rue du Commerce</td>\n",
       "      <td>Lyon</td>\n",
       "      <td>Western Europe</td>\n",
       "      <td>69004</td>\n",
       "      <td>France</td>\n",
       "    </tr>\n",
       "    <tr>\n",
       "      <th>4</th>\n",
       "      <td>10252</td>\n",
       "      <td>SUPRD</td>\n",
       "      <td>4</td>\n",
       "      <td>2012-07-09</td>\n",
       "      <td>2012-08-06</td>\n",
       "      <td>2012-07-11</td>\n",
       "      <td>2</td>\n",
       "      <td>51.30</td>\n",
       "      <td>Suprêmes délices</td>\n",
       "      <td>Boulevard Tirou, 255</td>\n",
       "      <td>Charleroi</td>\n",
       "      <td>Western Europe</td>\n",
       "      <td>B-6000</td>\n",
       "      <td>Belgium</td>\n",
       "    </tr>\n",
       "  </tbody>\n",
       "</table>\n",
       "</div>"
      ],
      "text/plain": [
       "      Id CustomerId  EmployeeId   OrderDate RequiredDate ShippedDate  ShipVia  \\\n",
       "0  10248      VINET           5  2012-07-04   2012-08-01  2012-07-16        3   \n",
       "1  10249      TOMSP           6  2012-07-05   2012-08-16  2012-07-10        1   \n",
       "2  10250      HANAR           4  2012-07-08   2012-08-05  2012-07-12        2   \n",
       "3  10251      VICTE           3  2012-07-08   2012-08-05  2012-07-15        1   \n",
       "4  10252      SUPRD           4  2012-07-09   2012-08-06  2012-07-11        2   \n",
       "\n",
       "   Freight                   ShipName           ShipAddress        ShipCity  \\\n",
       "0    32.38  Vins et alcools Chevalier    59 rue de l'Abbaye           Reims   \n",
       "1    11.61         Toms Spezialitäten         Luisenstr. 48         Münster   \n",
       "2    65.83              Hanari Carnes       Rua do Paço, 67  Rio de Janeiro   \n",
       "3    41.34       Victuailles en stock    2, rue du Commerce            Lyon   \n",
       "4    51.30           Suprêmes délices  Boulevard Tirou, 255       Charleroi   \n",
       "\n",
       "       ShipRegion ShipPostalCode ShipCountry  \n",
       "0  Western Europe          51100      France  \n",
       "1  Western Europe          44087     Germany  \n",
       "2   South America      05454-876      Brazil  \n",
       "3  Western Europe          69004      France  \n",
       "4  Western Europe         B-6000     Belgium  "
      ]
     },
     "execution_count": 102,
     "metadata": {},
     "output_type": "execute_result"
    }
   ],
   "source": [
    "import sqlite3\n",
    "connect = sqlite3.connect('Northwind_small.sqlite')\n",
    "cur = connect.cursor()\n",
    "cur.execute(\"\"\"SELECT * FROM 'Order';\"\"\")\n",
    "df = pd.DataFrame(cur.fetchall())\n",
    "df.columns = [x[0] for x in cur.description]\n",
    "df.head()"
   ]
  },
  {
   "cell_type": "code",
   "execution_count": 103,
   "metadata": {},
   "outputs": [
    {
     "data": {
      "text/plain": [
       "0     True\n",
       "1     True\n",
       "2    False\n",
       "3     True\n",
       "4     True\n",
       "Name: Groups, dtype: bool"
      ]
     },
     "execution_count": 103,
     "metadata": {},
     "output_type": "execute_result"
    }
   ],
   "source": [
    "#breaking up the groups based on region\n",
    "df['Groups'] = df['ShipRegion'].str.contains('Europe'or'America')\n",
    "df['Groups'].astype(int) # used Boolean to prevent error with later tests that require two numbered columns\n",
    "df['Groups'].head()"
   ]
  },
  {
   "cell_type": "code",
   "execution_count": 104,
   "metadata": {},
   "outputs": [
    {
     "data": {
      "text/plain": [
       "count     830.000000\n",
       "mean       78.244205\n",
       "std       116.779294\n",
       "min         0.020000\n",
       "25%        13.380000\n",
       "50%        41.360000\n",
       "75%        91.430000\n",
       "max      1007.640000\n",
       "Name: Freight, dtype: float64"
      ]
     },
     "execution_count": 104,
     "metadata": {},
     "output_type": "execute_result"
    }
   ],
   "source": [
    "df['Freight'].describe()"
   ]
  },
  {
   "cell_type": "markdown",
   "metadata": {},
   "source": [
    "## Test for Outliers"
   ]
  },
  {
   "cell_type": "code",
   "execution_count": 105,
   "metadata": {
    "scrolled": false
   },
   "outputs": [],
   "source": [
    "## To better organize data based on whether an item was full-priced or not, we can create dictionaries\n",
    "groups = {}\n",
    "for grp_name in df['ShipRegion'].unique():\n",
    "    groups[grp_name] = df.groupby('ShipRegion').get_group(grp_name)['Freight']"
   ]
  },
  {
   "cell_type": "code",
   "execution_count": 106,
   "metadata": {},
   "outputs": [
    {
     "name": "stderr",
     "output_type": "stream",
     "text": [
      "C:\\anaconda\\envs\\learn-env\\lib\\site-packages\\scipy\\stats\\stats.py:1713: FutureWarning:\n",
      "\n",
      "Using a non-tuple sequence for multidimensional indexing is deprecated; use `arr[tuple(seq)]` instead of `arr[seq]`. In the future this will be interpreted as an array index, `arr[np.array(seq)]`, which will result either in an error or a different result.\n",
      "\n"
     ]
    },
    {
     "data": {
      "text/plain": [
       "<matplotlib.lines.Line2D at 0x1e99c2aa470>"
      ]
     },
     "execution_count": 106,
     "metadata": {},
     "output_type": "execute_result"
    },
    {
     "data": {
      "image/png": "[encoded data removed]",
      "text/plain": [
       "<Figure size 432x288 with 1 Axes>"
      ]
     },
     "metadata": {
      "needs_background": "light"
     },
     "output_type": "display_data"
    }
   ],
   "source": [
    "for k,v in groups.items():\n",
    "    sns.distplot(v,label = k)\n",
    "ax = plt.gca()\n",
    "ax.legend()\n",
    "ax.set(title = 'Freight Cost by Region',ylabel='Density')\n",
    "plt.axvline(x=78.2,color ='black')"
   ]
  },
  {
   "cell_type": "code",
   "execution_count": 107,
   "metadata": {},
   "outputs": [
    {
     "name": "stdout",
     "output_type": "stream",
     "text": [
      "There are 0      False\n",
      "1      False\n",
      "3      False\n",
      "4      False\n",
      "6      False\n",
      "7      False\n",
      "10     False\n",
      "12     False\n",
      "15     False\n",
      "17     False\n",
      "19     False\n",
      "25     False\n",
      "26     False\n",
      "29     False\n",
      "31     False\n",
      "36     False\n",
      "37     False\n",
      "38     False\n",
      "47     False\n",
      "49     False\n",
      "53     False\n",
      "54     False\n",
      "63     False\n",
      "64     False\n",
      "65     False\n",
      "75     False\n",
      "77     False\n",
      "83     False\n",
      "86     False\n",
      "89     False\n",
      "       ...  \n",
      "730    False\n",
      "731    False\n",
      "742    False\n",
      "743    False\n",
      "748    False\n",
      "751    False\n",
      "756    False\n",
      "760    False\n",
      "763    False\n",
      "764    False\n",
      "769     True\n",
      "772    False\n",
      "773    False\n",
      "780    False\n",
      "781    False\n",
      "785    False\n",
      "787    False\n",
      "788    False\n",
      "790    False\n",
      "793    False\n",
      "795    False\n",
      "798    False\n",
      "803    False\n",
      "805    False\n",
      "810    False\n",
      "819    False\n",
      "822    False\n",
      "824    False\n",
      "827    False\n",
      "828    False\n",
      "Length: 276, dtype: bool outliers present in Eastern Europe using Z-Score\n",
      "There are 2      False\n",
      "5      False\n",
      "8      False\n",
      "9      False\n",
      "13     False\n",
      "20     False\n",
      "35     False\n",
      "39     False\n",
      "42     False\n",
      "43     False\n",
      "44     False\n",
      "48     False\n",
      "51     False\n",
      "82     False\n",
      "99     False\n",
      "109    False\n",
      "124     True\n",
      "131    False\n",
      "133    False\n",
      "138    False\n",
      "147    False\n",
      "157    False\n",
      "158    False\n",
      "161    False\n",
      "166    False\n",
      "172    False\n",
      "173    False\n",
      "175    False\n",
      "199    False\n",
      "200    False\n",
      "       ...  \n",
      "671    False\n",
      "674    False\n",
      "677    False\n",
      "687    False\n",
      "689    False\n",
      "706    False\n",
      "709    False\n",
      "710    False\n",
      "711    False\n",
      "712    False\n",
      "713    False\n",
      "721    False\n",
      "728    False\n",
      "733    False\n",
      "738    False\n",
      "741    False\n",
      "749    False\n",
      "766    False\n",
      "771    False\n",
      "774    False\n",
      "791    False\n",
      "794    False\n",
      "801    False\n",
      "804    False\n",
      "806    False\n",
      "807    False\n",
      "811    False\n",
      "817    False\n",
      "820    False\n",
      "823    False\n",
      "Length: 145, dtype: bool outliers present in Eastern Europe using Z-Score\n",
      "There are 11     False\n",
      "28     False\n",
      "45     False\n",
      "56     False\n",
      "60     False\n",
      "71     False\n",
      "74     False\n",
      "106    False\n",
      "117    False\n",
      "226    False\n",
      "254    False\n",
      "259    False\n",
      "270     True\n",
      "287    False\n",
      "325    False\n",
      "328    False\n",
      "377    False\n",
      "428    False\n",
      "429    False\n",
      "434    False\n",
      "511    False\n",
      "594    False\n",
      "608    False\n",
      "667    False\n",
      "678    False\n",
      "747    False\n",
      "821    False\n",
      "825    False\n",
      "dtype: bool outliers present in Eastern Europe using Z-Score\n",
      "There are 14     False\n",
      "21     False\n",
      "23     False\n",
      "24     False\n",
      "46     False\n",
      "57     False\n",
      "59     False\n",
      "62     False\n",
      "66     False\n",
      "68     False\n",
      "69     False\n",
      "76     False\n",
      "81     False\n",
      "84     False\n",
      "90     False\n",
      "91     False\n",
      "96     False\n",
      "98     False\n",
      "101    False\n",
      "121    False\n",
      "127    False\n",
      "128    False\n",
      "137    False\n",
      "141    False\n",
      "145    False\n",
      "146    False\n",
      "150    False\n",
      "153    False\n",
      "162    False\n",
      "163    False\n",
      "       ...  \n",
      "670    False\n",
      "688    False\n",
      "693    False\n",
      "696    False\n",
      "701    False\n",
      "717    False\n",
      "726    False\n",
      "727    False\n",
      "734    False\n",
      "735     True\n",
      "736    False\n",
      "740    False\n",
      "744    False\n",
      "752    False\n",
      "754    False\n",
      "755    False\n",
      "758    False\n",
      "770    False\n",
      "779    False\n",
      "782     True\n",
      "783    False\n",
      "784     True\n",
      "786    False\n",
      "792    False\n",
      "797    False\n",
      "800    False\n",
      "813    False\n",
      "816    False\n",
      "818    False\n",
      "829    False\n",
      "Length: 152, dtype: bool outliers present in Eastern Europe using Z-Score\n",
      "There are 16     False\n",
      "30     False\n",
      "32     False\n",
      "79     False\n",
      "93     False\n",
      "119    False\n",
      "130    False\n",
      "136    False\n",
      "151    False\n",
      "169    False\n",
      "186    False\n",
      "196    False\n",
      "197    False\n",
      "212    False\n",
      "217    False\n",
      "276    False\n",
      "285    False\n",
      "308    False\n",
      "313    False\n",
      "324    False\n",
      "343    False\n",
      "354    False\n",
      "378    False\n",
      "394    False\n",
      "406    False\n",
      "421    False\n",
      "424    False\n",
      "440    False\n",
      "441    False\n",
      "455    False\n",
      "485    False\n",
      "496    False\n",
      "514    False\n",
      "521    False\n",
      "526    False\n",
      "530    False\n",
      "554    False\n",
      "576    False\n",
      "589    False\n",
      "609    False\n",
      "618    False\n",
      "627    False\n",
      "632    False\n",
      "654    False\n",
      "673    False\n",
      "676    False\n",
      "698    False\n",
      "707    False\n",
      "729    False\n",
      "732    False\n",
      "745    False\n",
      "746    False\n",
      "753    False\n",
      "802    False\n",
      "826    False\n",
      "dtype: bool outliers present in Eastern Europe using Z-Score\n",
      "There are 18     False\n",
      "22     False\n",
      "72     False\n",
      "85     False\n",
      "139    False\n",
      "164    False\n",
      "168    False\n",
      "189    False\n",
      "207    False\n",
      "272    False\n",
      "278    False\n",
      "305    False\n",
      "335    False\n",
      "367    False\n",
      "388    False\n",
      "391    False\n",
      "425    False\n",
      "447    False\n",
      "502    False\n",
      "533    False\n",
      "583    False\n",
      "625    False\n",
      "631    False\n",
      "661    False\n",
      "662    False\n",
      "757    False\n",
      "767    False\n",
      "777    False\n",
      "dtype: bool outliers present in Eastern Europe using Z-Score\n",
      "There are 27     False\n",
      "33     False\n",
      "34     False\n",
      "40     False\n",
      "52     False\n",
      "55     False\n",
      "58     False\n",
      "78     False\n",
      "80     False\n",
      "88     False\n",
      "104    False\n",
      "118    False\n",
      "149    False\n",
      "156    False\n",
      "174    False\n",
      "178    False\n",
      "180    False\n",
      "185    False\n",
      "195    False\n",
      "216    False\n",
      "219    False\n",
      "229    False\n",
      "243    False\n",
      "302    False\n",
      "303    False\n",
      "314    False\n",
      "320    False\n",
      "338    False\n",
      "356    False\n",
      "381    False\n",
      "       ...  \n",
      "479    False\n",
      "505    False\n",
      "506    False\n",
      "536    False\n",
      "553    False\n",
      "559    False\n",
      "564    False\n",
      "570    False\n",
      "624     True\n",
      "626    False\n",
      "639    False\n",
      "640    False\n",
      "660    False\n",
      "663    False\n",
      "669    False\n",
      "680    False\n",
      "691    False\n",
      "694    False\n",
      "700    False\n",
      "702    False\n",
      "715    False\n",
      "722    False\n",
      "759     True\n",
      "761    False\n",
      "762    False\n",
      "765    False\n",
      "778    False\n",
      "789    False\n",
      "812    False\n",
      "814    False\n",
      "Length: 64, dtype: bool outliers present in Eastern Europe using Z-Score\n",
      "There are 41     False\n",
      "50     False\n",
      "61     False\n",
      "67     False\n",
      "70     False\n",
      "73     False\n",
      "87     False\n",
      "107    False\n",
      "111    False\n",
      "116    False\n",
      "125    False\n",
      "129    False\n",
      "132    False\n",
      "135    False\n",
      "140    False\n",
      "152    False\n",
      "181    False\n",
      "187    False\n",
      "205    False\n",
      "214    False\n",
      "223    False\n",
      "224    False\n",
      "225    False\n",
      "236    False\n",
      "255    False\n",
      "268    False\n",
      "269    False\n",
      "275    False\n",
      "284    False\n",
      "290    False\n",
      "       ...  \n",
      "488    False\n",
      "493    False\n",
      "495    False\n",
      "501    False\n",
      "504    False\n",
      "520    False\n",
      "545    False\n",
      "550    False\n",
      "552    False\n",
      "556    False\n",
      "581    False\n",
      "600    False\n",
      "616    False\n",
      "621    False\n",
      "649     True\n",
      "664     True\n",
      "672    False\n",
      "685    False\n",
      "695    False\n",
      "699    False\n",
      "705    False\n",
      "737    False\n",
      "739    False\n",
      "768    False\n",
      "775    False\n",
      "776    False\n",
      "799    False\n",
      "808    False\n",
      "809    False\n",
      "815    False\n",
      "Length: 75, dtype: bool outliers present in Eastern Europe using Z-Score\n",
      "There are 126    False\n",
      "363    False\n",
      "544    False\n",
      "622    False\n",
      "658    False\n",
      "750    False\n",
      "796    False\n",
      "dtype: bool outliers present in Eastern Europe using Z-Score\n"
     ]
    }
   ],
   "source": [
    "for k,v in groups.items():\n",
    "    idx_out = find_outliers_Z(v)\n",
    "    \n",
    "    print(f'There are {idx_out} outliers present in {grp_name} using Z-Score')\n",
    "    groups[k] = v[~idx_out]"
   ]
  },
  {
   "cell_type": "markdown",
   "metadata": {},
   "source": [
    "## Test for Normalcy"
   ]
  },
  {
   "cell_type": "code",
   "execution_count": 108,
   "metadata": {},
   "outputs": [
    {
     "name": "stdout",
     "output_type": "stream",
     "text": [
      " Group Eastern Europe Normaltest p-value = 0.0\n",
      " -The data is Not normal\n"
     ]
    }
   ],
   "source": [
    "#Normalcy test with scipy library\n",
    "v = df['Freight']\n",
    "stat,p = stats.normaltest(v)\n",
    "print(f' Group {k} Normaltest p-value = {round(p,4)}')\n",
    "sig = 'is Not' if p<0.5 else 'is'\n",
    "print(f' -The data {sig} normal')"
   ]
  },
  {
   "cell_type": "markdown",
   "metadata": {},
   "source": [
    "## Test for Equal Variance"
   ]
  },
  {
   "cell_type": "code",
   "execution_count": 109,
   "metadata": {},
   "outputs": [
    {
     "name": "stdout",
     "output_type": "stream",
     "text": [
      "Levene Test for Equal Variance p-value = 0.0\n",
      " -The data is Not equally varied\n"
     ]
    }
   ],
   "source": [
    "data = []\n",
    "for k, v in groups.items():\n",
    "    data.append(v)\n",
    "\n",
    "stat,p = stats.levene(*data)\n",
    "\n",
    "print (f'Levene Test for Equal Variance p-value = {round(p,4)}')\n",
    "sig = 'is Not' if p<0.5 else 'is'\n",
    "print(f' -The data {sig} equally varied')"
   ]
  },
  {
   "cell_type": "markdown",
   "metadata": {},
   "source": [
    "## ANOVA Testing"
   ]
  },
  {
   "cell_type": "code",
   "execution_count": 110,
   "metadata": {},
   "outputs": [
    {
     "name": "stdout",
     "output_type": "stream",
     "text": [
      " ANOVA p-value is 0.0\n"
     ]
    }
   ],
   "source": [
    "stat,p = stats.f_oneway(*data)\n",
    "print(f\" ANOVA p-value is {round(p,4)}\")"
   ]
  },
  {
   "cell_type": "markdown",
   "metadata": {},
   "source": [
    "## Effect Size"
   ]
  },
  {
   "cell_type": "code",
   "execution_count": 111,
   "metadata": {},
   "outputs": [
    {
     "ename": "TypeError",
     "evalue": "Cohen_d() takes from 2 to 3 positional arguments but 9 were given",
     "output_type": "error",
     "traceback": [
      "\u001b[1;31m---------------------------------------------------------------------------\u001b[0m",
      "\u001b[1;31mTypeError\u001b[0m                                 Traceback (most recent call last)",
      "\u001b[1;32m<ipython-input-111-37dd90e063a6>\u001b[0m in \u001b[0;36m<module>\u001b[1;34m()\u001b[0m\n\u001b[1;32m----> 1\u001b[1;33m \u001b[0mCohen_d\u001b[0m\u001b[1;33m(\u001b[0m\u001b[1;33m*\u001b[0m\u001b[0mdata\u001b[0m\u001b[1;33m)\u001b[0m\u001b[1;33m\u001b[0m\u001b[0m\n\u001b[0m",
      "\u001b[1;31mTypeError\u001b[0m: Cohen_d() takes from 2 to 3 positional arguments but 9 were given"
     ]
    }
   ],
   "source": [
    "Cohen_d(*data)"
   ]
  },
  {
   "cell_type": "code",
   "execution_count": 112,
   "metadata": {},
   "outputs": [
    {
     "name": "stderr",
     "output_type": "stream",
     "text": [
      "C:\\anaconda\\envs\\learn-env\\lib\\site-packages\\scipy\\stats\\stats.py:1713: FutureWarning:\n",
      "\n",
      "Using a non-tuple sequence for multidimensional indexing is deprecated; use `arr[tuple(seq)]` instead of `arr[seq]`. In the future this will be interpreted as an array index, `arr[np.array(seq)]`, which will result either in an error or a different result.\n",
      "\n"
     ]
    },
    {
     "data": {
      "text/plain": [
       "[Text(0, 0, 'Western Europe'),\n",
       " Text(0, 0, 'South America'),\n",
       " Text(0, 0, 'Central America'),\n",
       " Text(0, 0, 'North America'),\n",
       " Text(0, 0, 'Northern Europe'),\n",
       " Text(0, 0, 'Scandinavia'),\n",
       " Text(0, 0, 'Southern Europe'),\n",
       " Text(0, 0, 'British Isles'),\n",
       " Text(0, 0, 'Eastern Europe')]"
      ]
     },
     "execution_count": 112,
     "metadata": {},
     "output_type": "execute_result"
    },
    {
     "data": {
      "image/png": "[encoded data removed]",
      "text/plain": [
       "<Figure size 432x288 with 1 Axes>"
      ]
     },
     "metadata": {
      "needs_background": "light"
     },
     "output_type": "display_data"
    }
   ],
   "source": [
    "sns.barplot(data= df,x='ShipRegion', y='Freight',ci=68)\n",
    "ax = plt.gca()\n",
    "#ax.legend()\n",
    "ax.set(title = 'Freight Cost by Region',ylabel='Freight')\n",
    "ax.set_xticklabels(ax.get_xticklabels(),rotation = 45,ha = 'right')\n"
   ]
  },
  {
   "cell_type": "code",
   "execution_count": 113,
   "metadata": {},
   "outputs": [],
   "source": [
    "def prep_data_for_tukeys(data):\n",
    "    \"\"\"Accepts a dictionary with group names as the keys \n",
    "    and pandas series as the values. \n",
    "    \n",
    "    Returns a dataframe ready for tukeys test:\n",
    "    - with a 'data' column and a 'group' column for sms.stats.multicomp.pairwise_tukeyhsd \n",
    "    \n",
    "    Example Use:\n",
    "    df_tukey = prep_data_for_tukeys(grp_data)\n",
    "    tukey = sms.stats.multicomp.pairwise_tukeyhsd(df_tukey['data'], df_tukey['group'])\n",
    "    tukey.summary()\n",
    "    \"\"\"\n",
    "    import pandas as pd\n",
    "    df_tukey = pd.DataFrame(columns=['data','group'])\n",
    "\n",
    "    for k,v in  data.items():\n",
    "        grp_df = v.rename('data').to_frame()\n",
    "        \n",
    "        \n",
    "        grp_df['group'] = k\n",
    "        df_tukey=pd.concat([df_tukey,grp_df],axis=0)\n",
    "    return df_tukey"
   ]
  },
  {
   "cell_type": "code",
   "execution_count": 115,
   "metadata": {},
   "outputs": [
    {
     "ename": "AttributeError",
     "evalue": "'str' object has no attribute 'rename'",
     "output_type": "error",
     "traceback": [
      "\u001b[1;31m---------------------------------------------------------------------------\u001b[0m",
      "\u001b[1;31mAttributeError\u001b[0m                            Traceback (most recent call last)",
      "\u001b[1;32m<ipython-input-115-9da34f4137cf>\u001b[0m in \u001b[0;36m<module>\u001b[1;34m()\u001b[0m\n\u001b[1;32m----> 1\u001b[1;33m \u001b[0mprep_data_for_tukeys\u001b[0m\u001b[1;33m(\u001b[0m\u001b[0mdf\u001b[0m\u001b[1;33m[\u001b[0m\u001b[1;34m'ShipRegion'\u001b[0m\u001b[1;33m]\u001b[0m\u001b[1;33m)\u001b[0m\u001b[1;33m\u001b[0m\u001b[0m\n\u001b[0m",
      "\u001b[1;32m<ipython-input-113-4c14abb431b0>\u001b[0m in \u001b[0;36mprep_data_for_tukeys\u001b[1;34m(data)\u001b[0m\n\u001b[0;32m     15\u001b[0m \u001b[1;33m\u001b[0m\u001b[0m\n\u001b[0;32m     16\u001b[0m     \u001b[1;32mfor\u001b[0m \u001b[0mk\u001b[0m\u001b[1;33m,\u001b[0m\u001b[0mv\u001b[0m \u001b[1;32min\u001b[0m  \u001b[0mdata\u001b[0m\u001b[1;33m.\u001b[0m\u001b[0mitems\u001b[0m\u001b[1;33m(\u001b[0m\u001b[1;33m)\u001b[0m\u001b[1;33m:\u001b[0m\u001b[1;33m\u001b[0m\u001b[0m\n\u001b[1;32m---> 17\u001b[1;33m         \u001b[0mgrp_df\u001b[0m \u001b[1;33m=\u001b[0m \u001b[0mv\u001b[0m\u001b[1;33m.\u001b[0m\u001b[0mrename\u001b[0m\u001b[1;33m(\u001b[0m\u001b[1;34m'data'\u001b[0m\u001b[1;33m)\u001b[0m\u001b[1;33m.\u001b[0m\u001b[0mto_frame\u001b[0m\u001b[1;33m(\u001b[0m\u001b[1;33m)\u001b[0m\u001b[1;33m\u001b[0m\u001b[0m\n\u001b[0m\u001b[0;32m     18\u001b[0m \u001b[1;33m\u001b[0m\u001b[0m\n\u001b[0;32m     19\u001b[0m \u001b[1;33m\u001b[0m\u001b[0m\n",
      "\u001b[1;31mAttributeError\u001b[0m: 'str' object has no attribute 'rename'"
     ]
    }
   ],
   "source": [
    "prep_data_for_tukeys(df['ShipRegion'])"
   ]
  },
  {
   "cell_type": "code",
   "execution_count": 116,
   "metadata": {},
   "outputs": [
    {
     "ename": "TypeError",
     "evalue": "Cannot cast array data from dtype('O') to dtype('float64') according to the rule 'safe'",
     "output_type": "error",
     "traceback": [
      "\u001b[1;31m---------------------------------------------------------------------------\u001b[0m",
      "\u001b[1;31mTypeError\u001b[0m                                 Traceback (most recent call last)",
      "\u001b[1;32m<ipython-input-116-fdb3ebd1d19c>\u001b[0m in \u001b[0;36m<module>\u001b[1;34m()\u001b[0m\n\u001b[0;32m      1\u001b[0m \u001b[1;32mfrom\u001b[0m \u001b[0mstatsmodels\u001b[0m\u001b[1;33m.\u001b[0m\u001b[0mstats\u001b[0m\u001b[1;33m.\u001b[0m\u001b[0mmulticomp\u001b[0m \u001b[1;32mimport\u001b[0m \u001b[0mpairwise_tukeyhsd\u001b[0m\u001b[1;33m\u001b[0m\u001b[0m\n\u001b[1;32m----> 2\u001b[1;33m \u001b[0mmodel\u001b[0m \u001b[1;33m=\u001b[0m \u001b[0mpairwise_tukeyhsd\u001b[0m\u001b[1;33m(\u001b[0m\u001b[0mdf\u001b[0m\u001b[1;33m[\u001b[0m\u001b[1;34m'ShipRegion'\u001b[0m\u001b[1;33m]\u001b[0m\u001b[1;33m,\u001b[0m\u001b[0mdf\u001b[0m\u001b[1;33m[\u001b[0m\u001b[1;34m'Freight'\u001b[0m\u001b[1;33m]\u001b[0m\u001b[1;33m)\u001b[0m\u001b[1;33m\u001b[0m\u001b[0m\n\u001b[0m\u001b[0;32m      3\u001b[0m \u001b[0mmodel\u001b[0m\u001b[1;33m.\u001b[0m\u001b[0msummary\u001b[0m\u001b[1;33m(\u001b[0m\u001b[1;33m)\u001b[0m\u001b[1;33m\u001b[0m\u001b[0m\n",
      "\u001b[1;32mC:\\anaconda\\envs\\learn-env\\lib\\site-packages\\statsmodels\\stats\\multicomp.py\u001b[0m in \u001b[0;36mpairwise_tukeyhsd\u001b[1;34m(endog, groups, alpha)\u001b[0m\n\u001b[0;32m     36\u001b[0m     '''\n\u001b[0;32m     37\u001b[0m \u001b[1;33m\u001b[0m\u001b[0m\n\u001b[1;32m---> 38\u001b[1;33m     \u001b[1;32mreturn\u001b[0m \u001b[0mMultiComparison\u001b[0m\u001b[1;33m(\u001b[0m\u001b[0mendog\u001b[0m\u001b[1;33m,\u001b[0m \u001b[0mgroups\u001b[0m\u001b[1;33m)\u001b[0m\u001b[1;33m.\u001b[0m\u001b[0mtukeyhsd\u001b[0m\u001b[1;33m(\u001b[0m\u001b[0malpha\u001b[0m\u001b[1;33m=\u001b[0m\u001b[0malpha\u001b[0m\u001b[1;33m)\u001b[0m\u001b[1;33m\u001b[0m\u001b[0m\n\u001b[0m",
      "\u001b[1;32mC:\\anaconda\\envs\\learn-env\\lib\\site-packages\\statsmodels\\sandbox\\stats\\multicomp.py\u001b[0m in \u001b[0;36mtukeyhsd\u001b[1;34m(self, alpha)\u001b[0m\n\u001b[0;32m    964\u001b[0m         self.groupstats = GroupsStats(\n\u001b[0;32m    965\u001b[0m                             \u001b[0mnp\u001b[0m\u001b[1;33m.\u001b[0m\u001b[0mcolumn_stack\u001b[0m\u001b[1;33m(\u001b[0m\u001b[1;33m[\u001b[0m\u001b[0mself\u001b[0m\u001b[1;33m.\u001b[0m\u001b[0mdata\u001b[0m\u001b[1;33m,\u001b[0m \u001b[0mself\u001b[0m\u001b[1;33m.\u001b[0m\u001b[0mgroupintlab\u001b[0m\u001b[1;33m]\u001b[0m\u001b[1;33m)\u001b[0m\u001b[1;33m,\u001b[0m\u001b[1;33m\u001b[0m\u001b[0m\n\u001b[1;32m--> 966\u001b[1;33m                             useranks=False)\n\u001b[0m\u001b[0;32m    967\u001b[0m \u001b[1;33m\u001b[0m\u001b[0m\n\u001b[0;32m    968\u001b[0m         \u001b[0mgmeans\u001b[0m \u001b[1;33m=\u001b[0m \u001b[0mself\u001b[0m\u001b[1;33m.\u001b[0m\u001b[0mgroupstats\u001b[0m\u001b[1;33m.\u001b[0m\u001b[0mgroupmean\u001b[0m\u001b[1;33m\u001b[0m\u001b[0m\n",
      "\u001b[1;32mC:\\anaconda\\envs\\learn-env\\lib\\site-packages\\statsmodels\\sandbox\\stats\\multicomp.py\u001b[0m in \u001b[0;36m__init__\u001b[1;34m(self, x, useranks, uni, intlab)\u001b[0m\n\u001b[0;32m    535\u001b[0m \u001b[1;33m\u001b[0m\u001b[0m\n\u001b[0;32m    536\u001b[0m         \u001b[1;31m#temporary until separated and made all lazy\u001b[0m\u001b[1;33m\u001b[0m\u001b[1;33m\u001b[0m\u001b[0m\n\u001b[1;32m--> 537\u001b[1;33m         \u001b[0mself\u001b[0m\u001b[1;33m.\u001b[0m\u001b[0mrunbasic\u001b[0m\u001b[1;33m(\u001b[0m\u001b[0museranks\u001b[0m\u001b[1;33m=\u001b[0m\u001b[0museranks\u001b[0m\u001b[1;33m)\u001b[0m\u001b[1;33m\u001b[0m\u001b[0m\n\u001b[0m\u001b[0;32m    538\u001b[0m \u001b[1;33m\u001b[0m\u001b[0m\n\u001b[0;32m    539\u001b[0m \u001b[1;33m\u001b[0m\u001b[0m\n",
      "\u001b[1;32mC:\\anaconda\\envs\\learn-env\\lib\\site-packages\\statsmodels\\sandbox\\stats\\multicomp.py\u001b[0m in \u001b[0;36mrunbasic\u001b[1;34m(self, useranks)\u001b[0m\n\u001b[0;32m    569\u001b[0m         \u001b[1;32melse\u001b[0m\u001b[1;33m:\u001b[0m\u001b[1;33m\u001b[0m\u001b[0m\n\u001b[0;32m    570\u001b[0m             \u001b[0mself\u001b[0m\u001b[1;33m.\u001b[0m\u001b[0mxx\u001b[0m \u001b[1;33m=\u001b[0m \u001b[0mx\u001b[0m\u001b[1;33m[\u001b[0m\u001b[1;33m:\u001b[0m\u001b[1;33m,\u001b[0m\u001b[1;36m0\u001b[0m\u001b[1;33m]\u001b[0m\u001b[1;33m\u001b[0m\u001b[0m\n\u001b[1;32m--> 571\u001b[1;33m         \u001b[0mself\u001b[0m\u001b[1;33m.\u001b[0m\u001b[0mgroupsum\u001b[0m \u001b[1;33m=\u001b[0m \u001b[0mgroupranksum\u001b[0m \u001b[1;33m=\u001b[0m \u001b[0mnp\u001b[0m\u001b[1;33m.\u001b[0m\u001b[0mbincount\u001b[0m\u001b[1;33m(\u001b[0m\u001b[0mself\u001b[0m\u001b[1;33m.\u001b[0m\u001b[0mintlab\u001b[0m\u001b[1;33m,\u001b[0m \u001b[0mweights\u001b[0m\u001b[1;33m=\u001b[0m\u001b[0mself\u001b[0m\u001b[1;33m.\u001b[0m\u001b[0mxx\u001b[0m\u001b[1;33m)\u001b[0m\u001b[1;33m\u001b[0m\u001b[0m\n\u001b[0m\u001b[0;32m    572\u001b[0m         \u001b[1;31m#print('groupranksum', groupranksum, groupranksum.shape, self.groupnobs.shape\u001b[0m\u001b[1;33m\u001b[0m\u001b[1;33m\u001b[0m\u001b[0m\n\u001b[0;32m    573\u001b[0m         \u001b[1;31m# start at 1 for stats.rankdata :\u001b[0m\u001b[1;33m\u001b[0m\u001b[1;33m\u001b[0m\u001b[0m\n",
      "\u001b[1;31mTypeError\u001b[0m: Cannot cast array data from dtype('O') to dtype('float64') according to the rule 'safe'"
     ]
    }
   ],
   "source": [
    "from statsmodels.stats.multicomp import pairwise_tukeyhsd\n",
    "model = pairwise_tukeyhsd(df['ShipRegion'],df['Freight'])\n",
    "model.summary()"
   ]
  },
  {
   "cell_type": "markdown",
   "metadata": {},
   "source": [
    "## Conclusion"
   ]
  },
  {
   "cell_type": "markdown",
   "metadata": {},
   "source": [
    "With a p-value of 0.003 derived from the above test, the null hypothesis that an item's freight cost will remainthe same regardless of shipping region is false"
   ]
  }
 ],
 "metadata": {
  "kernelspec": {
   "display_name": "Python 3",
   "language": "python",
   "name": "python3"
  },
  "language_info": {
   "codemirror_mode": {
    "name": "ipython",
    "version": 3
   },
   "file_extension": ".py",
   "mimetype": "text/x-python",
   "name": "python",
   "nbconvert_exporter": "python",
   "pygments_lexer": "ipython3",
   "version": "3.6.6"
  },
  "toc": {
   "base_numbering": 1,
   "nav_menu": {},
   "number_sections": false,
   "sideBar": true,
   "skip_h1_title": false,
   "title_cell": "Table of Contents",
   "title_sidebar": "Contents",
   "toc_cell": false,
   "toc_position": {
    "height": "calc(100% - 180px)",
    "left": "10px",
    "top": "150px",
    "width": "165px"
   },
   "toc_section_display": true,
   "toc_window_display": true
  },
  "varInspector": {
   "cols": {
    "lenName": 16,
    "lenType": 16,
    "lenVar": 40
   },
   "kernels_config": {
    "python": {
     "delete_cmd_postfix": "",
     "delete_cmd_prefix": "del ",
     "library": "var_list.py",
     "varRefreshCmd": "print(var_dic_list())"
    },
    "r": {
     "delete_cmd_postfix": ") ",
     "delete_cmd_prefix": "rm(",
     "library": "var_list.r",
     "varRefreshCmd": "cat(var_dic_list()) "
    }
   },
   "types_to_exclude": [
    "module",
    "function",
    "builtin_function_or_method",
    "instance",
    "_Feature"
   ],
   "window_display": false
  }
 },
 "nbformat": 4,
 "nbformat_minor": 2
}
