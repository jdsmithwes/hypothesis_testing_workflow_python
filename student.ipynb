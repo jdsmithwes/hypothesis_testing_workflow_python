{
  "nbformat": 4,
  "nbformat_minor": 0,
  "metadata": {
    "kernelspec": {
      "display_name": "Python 3.6.9 64-bit ('learn-env': conda)",
      "language": "python",
      "name": "python36964bitlearnenvconda5e778df2e0df4e31951cf19db85f0750"
    },
    "language_info": {
      "codemirror_mode": {
        "name": "ipython",
        "version": 3
      },
      "file_extension": ".py",
      "mimetype": "text/x-python",
      "name": "python",
      "nbconvert_exporter": "python",
      "pygments_lexer": "ipython3",
      "version": "3.6.9-final"
    },
    "toc": {
      "base_numbering": 1,
      "nav_menu": {},
      "number_sections": false,
      "sideBar": true,
      "skip_h1_title": false,
      "title_cell": "Table of Contents",
      "title_sidebar": "Contents",
      "toc_cell": false,
      "toc_position": {
        "height": "calc(100% - 180px)",
        "left": "10px",
        "top": "150px",
        "width": "165px"
      },
      "toc_section_display": true,
      "toc_window_display": true
    },
    "varInspector": {
      "cols": {
        "lenName": 16,
        "lenType": 16,
        "lenVar": 40
      },
      "kernels_config": {
        "python": {
          "delete_cmd_postfix": "",
          "delete_cmd_prefix": "del ",
          "library": "var_list.py",
          "varRefreshCmd": "print(var_dic_list())"
        },
        "r": {
          "delete_cmd_postfix": ") ",
          "delete_cmd_prefix": "rm(",
          "library": "var_list.r",
          "varRefreshCmd": "cat(var_dic_list()) "
        }
      },
      "types_to_exclude": [
        "module",
        "function",
        "builtin_function_or_method",
        "instance",
        "_Feature"
      ],
      "window_display": false
    },
    "colab": {
      "name": "student.ipynb",
      "provenance": []
    }
  },
  "cells": [
    {
      "cell_type": "markdown",
      "metadata": {
        "id": "7fFoGIsz9nKu",
        "colab_type": "text"
      },
      "source": [
        "# Mod 3 Final Project"
      ]
    },
    {
      "cell_type": "markdown",
      "metadata": {
        "id": "37sgPq_L9nKz",
        "colab_type": "text"
      },
      "source": [
        "## Student Info\n",
        "\n",
        "- Name: Jamaal Smith\n",
        "- Cohort: \n",
        "- Instructor: James Irving, Phd\n"
      ]
    },
    {
      "cell_type": "markdown",
      "metadata": {
        "id": "i8WcdFqL9nK0",
        "colab_type": "text"
      },
      "source": [
        "## Instructions:"
      ]
    },
    {
      "cell_type": "markdown",
      "metadata": {
        "id": "91KxK75z9nK1",
        "colab_type": "text"
      },
      "source": [
        "- Open and read the project assignment and guidelines in `MOD_PROJECT_README.ipynb`\n",
        "- Review the hypothesis testing workflow found in this repo's `README.md` and at the bottom of the `MOD_PROJECT_README.ipynb`\n",
        "- 3 functions from study group/learn.co lessons have been provided inside `functions.py`\n",
        "    - `Cohen_d`, `find_outliers_IQR`,`find_outliers_Z`"
      ]
    },
    {
      "cell_type": "markdown",
      "metadata": {
        "id": "Vrw2YRsN9nK3",
        "colab_type": "text"
      },
      "source": [
        ""
      ]
    },
    {
      "cell_type": "markdown",
      "metadata": {
        "id": "gZEpuP9J9nK4",
        "colab_type": "text"
      },
      "source": [
        "<img src=\"https://raw.githubusercontent.com/jirvingphd/dsc-mod-3-project-online-ds-ft-100719/master/Northwind_ERD_updated.png\">"
      ]
    },
    {
      "cell_type": "markdown",
      "metadata": {
        "id": "jEl9Bz-c9nK6",
        "colab_type": "text"
      },
      "source": [
        "# PROJECT"
      ]
    },
    {
      "cell_type": "code",
      "metadata": {
        "id": "6V5L9Ojx9nK7",
        "colab_type": "code",
        "colab": {
          "base_uri": "https://localhost:8080/",
          "height": 238
        },
        "outputId": "19975071-f718-4543-b3c9-7412498d3f7d"
      },
      "source": [
        "!pip install -U fsds_100719\n",
        "from fsds_100719.imports import *\n",
        "\n",
        "import pandas as pd\n"
      ],
      "execution_count": 1,
      "outputs": [
        {
          "output_type": "stream",
          "text": [
            "fsds_1007219  v0.7.4 loaded.  Read the docs: https://fsds.readthedocs.io/en/latest/ \n"
          ],
          "name": "stdout"
        },
        {
          "output_type": "display_data",
          "data": {
            "text/html": [
              "<style  type=\"text/css\" >\n",
              "</style><table id=\"T_f460786a_4c71_11ea_9ae7_0242ac1c0002\" ><caption>Loaded Packages and Handles</caption><thead>    <tr>        <th class=\"col_heading level0 col0\" >Handle</th>        <th class=\"col_heading level0 col1\" >Package</th>        <th class=\"col_heading level0 col2\" >Description</th>    </tr></thead><tbody>\n",
              "                <tr>\n",
              "                                <td id=\"T_f460786a_4c71_11ea_9ae7_0242ac1c0002row0_col0\" class=\"data row0 col0\" >dp</td>\n",
              "                        <td id=\"T_f460786a_4c71_11ea_9ae7_0242ac1c0002row0_col1\" class=\"data row0 col1\" >IPython.display</td>\n",
              "                        <td id=\"T_f460786a_4c71_11ea_9ae7_0242ac1c0002row0_col2\" class=\"data row0 col2\" >Display modules with helpful display and clearing commands.</td>\n",
              "            </tr>\n",
              "            <tr>\n",
              "                                <td id=\"T_f460786a_4c71_11ea_9ae7_0242ac1c0002row1_col0\" class=\"data row1 col0\" >fs</td>\n",
              "                        <td id=\"T_f460786a_4c71_11ea_9ae7_0242ac1c0002row1_col1\" class=\"data row1 col1\" >fsds_100719</td>\n",
              "                        <td id=\"T_f460786a_4c71_11ea_9ae7_0242ac1c0002row1_col2\" class=\"data row1 col2\" >Custom data science bootcamp student package</td>\n",
              "            </tr>\n",
              "            <tr>\n",
              "                                <td id=\"T_f460786a_4c71_11ea_9ae7_0242ac1c0002row2_col0\" class=\"data row2 col0\" >mpl</td>\n",
              "                        <td id=\"T_f460786a_4c71_11ea_9ae7_0242ac1c0002row2_col1\" class=\"data row2 col1\" >matplotlib</td>\n",
              "                        <td id=\"T_f460786a_4c71_11ea_9ae7_0242ac1c0002row2_col2\" class=\"data row2 col2\" >Matplotlib's base OOP module with formatting artists</td>\n",
              "            </tr>\n",
              "            <tr>\n",
              "                                <td id=\"T_f460786a_4c71_11ea_9ae7_0242ac1c0002row3_col0\" class=\"data row3 col0\" >plt</td>\n",
              "                        <td id=\"T_f460786a_4c71_11ea_9ae7_0242ac1c0002row3_col1\" class=\"data row3 col1\" >matplotlib.pyplot</td>\n",
              "                        <td id=\"T_f460786a_4c71_11ea_9ae7_0242ac1c0002row3_col2\" class=\"data row3 col2\" >Matplotlib's matlab-like plotting module</td>\n",
              "            </tr>\n",
              "            <tr>\n",
              "                                <td id=\"T_f460786a_4c71_11ea_9ae7_0242ac1c0002row4_col0\" class=\"data row4 col0\" >np</td>\n",
              "                        <td id=\"T_f460786a_4c71_11ea_9ae7_0242ac1c0002row4_col1\" class=\"data row4 col1\" >numpy</td>\n",
              "                        <td id=\"T_f460786a_4c71_11ea_9ae7_0242ac1c0002row4_col2\" class=\"data row4 col2\" >scientific computing with Python</td>\n",
              "            </tr>\n",
              "            <tr>\n",
              "                                <td id=\"T_f460786a_4c71_11ea_9ae7_0242ac1c0002row5_col0\" class=\"data row5 col0\" >pd</td>\n",
              "                        <td id=\"T_f460786a_4c71_11ea_9ae7_0242ac1c0002row5_col1\" class=\"data row5 col1\" >pandas</td>\n",
              "                        <td id=\"T_f460786a_4c71_11ea_9ae7_0242ac1c0002row5_col2\" class=\"data row5 col2\" >High performance data structures and tools</td>\n",
              "            </tr>\n",
              "            <tr>\n",
              "                                <td id=\"T_f460786a_4c71_11ea_9ae7_0242ac1c0002row6_col0\" class=\"data row6 col0\" >sns</td>\n",
              "                        <td id=\"T_f460786a_4c71_11ea_9ae7_0242ac1c0002row6_col1\" class=\"data row6 col1\" >seaborn</td>\n",
              "                        <td id=\"T_f460786a_4c71_11ea_9ae7_0242ac1c0002row6_col2\" class=\"data row6 col2\" >High-level data visualization library based on matplotlib</td>\n",
              "            </tr>\n",
              "    </tbody></table>"
            ],
            "text/plain": [
              "<pandas.io.formats.style.Styler at 0x7f3a1e312f98>"
            ]
          },
          "metadata": {
            "tags": []
          }
        },
        {
          "output_type": "display_data",
          "data": {
            "text/html": [
              "        <script type=\"text/javascript\">\n",
              "        window.PlotlyConfig = {MathJaxConfig: 'local'};\n",
              "        if (window.MathJax) {MathJax.Hub.Config({SVG: {font: \"STIX-Web\"}});}\n",
              "        if (typeof require !== 'undefined') {\n",
              "        require.undef(\"plotly\");\n",
              "        requirejs.config({\n",
              "            paths: {\n",
              "                'plotly': ['https://cdn.plot.ly/plotly-latest.min']\n",
              "            }\n",
              "        });\n",
              "        require(['plotly'], function(Plotly) {\n",
              "            window._Plotly = Plotly;\n",
              "        });\n",
              "        }\n",
              "        </script>\n",
              "        "
            ]
          },
          "metadata": {
            "tags": []
          }
        },
        {
          "output_type": "stream",
          "text": [
            "['[i] Pandas .iplot() method activated.']\n"
          ],
          "name": "stdout"
        }
      ]
    },
    {
      "cell_type": "code",
      "metadata": {
        "id": "6ny2gY2s9nLL",
        "colab_type": "code",
        "colab": {}
      },
      "source": [
        "import sqlite3\n",
        "connect = sqlite3.connect('Northwind_small.sqlite')\n",
        "cur = connect.cursor()"
      ],
      "execution_count": 0,
      "outputs": []
    },
    {
      "cell_type": "markdown",
      "metadata": {
        "id": "PUgMTE2c9nLQ",
        "colab_type": "text"
      },
      "source": [
        "# Hypothesis 1"
      ]
    },
    {
      "cell_type": "markdown",
      "metadata": {
        "id": "tPeWQePd9nLR",
        "colab_type": "text"
      },
      "source": [
        "> Does discount amount have a statistically significant effect on the quantity of a product in an order? If so, at what level(s) of discount?\n",
        "\n",
        "- $H_0$: A product's discount has no effect on the quantity of a product in an order.\n",
        "- $H_A$: A product's discount does have an effect on the quantity of a product in an order."
      ]
    },
    {
      "cell_type": "code",
      "metadata": {
        "id": "7CPjMO4E-QNP",
        "colab_type": "code",
        "colab": {}
      },
      "source": [
        ""
      ],
      "execution_count": 0,
      "outputs": []
    }
  ]
}