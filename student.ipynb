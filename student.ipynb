{
 "cells": [
  {
   "cell_type": "markdown",
   "metadata": {},
   "source": [
    "# Mod 3 Final Project"
   ]
  },
  {
   "cell_type": "markdown",
   "metadata": {},
   "source": [
    "## Student Info\n",
    "\n",
    "- Name: Jamaal Smith\n",
    "- Cohort: \n",
    "- Instructor: James Irving, Phd\n"
   ]
  },
  {
   "cell_type": "markdown",
   "metadata": {},
   "source": [
    "## Instructions:"
   ]
  },
  {
   "cell_type": "markdown",
   "metadata": {},
   "source": [
    "- Open and read the project assignment and guidelines in `MOD_PROJECT_README.ipynb`\n",
    "- Review the hypothesis testing workflow found in this repo's `README.md` and at the bottom of the `MOD_PROJECT_README.ipynb`\n",
    "- 3 functions from study group/learn.co lessons have been provided inside `functions.py`\n",
    "    - `Cohen_d`, `find_outliers_IQR`,`find_outliers_Z`"
   ]
  },
  {
   "cell_type": "markdown",
   "metadata": {},
   "source": []
  },
  {
   "cell_type": "markdown",
   "metadata": {},
   "source": [
    "<img src=\"https://raw.githubusercontent.com/jirvingphd/dsc-mod-3-project-online-ds-ft-100719/master/Northwind_ERD_updated.png\">"
   ]
  },
  {
   "cell_type": "code",
   "execution_count": 32,
   "metadata": {},
   "outputs": [
    {
     "name": "stdout",
     "output_type": "stream",
     "text": [
      "Requirement already up-to-date: fsds_100719 in c:\\anaconda\\envs\\learn-env\\lib\\site-packages (0.7.4)\n",
      "Requirement not upgraded as not directly required: selenium in c:\\anaconda\\envs\\learn-env\\lib\\site-packages (from fsds_100719) (3.141.0)\n",
      "Requirement not upgraded as not directly required: scipy in c:\\anaconda\\envs\\learn-env\\lib\\site-packages (from fsds_100719) (1.1.0)\n",
      "Requirement not upgraded as not directly required: ipywidgets in c:\\anaconda\\envs\\learn-env\\lib\\site-packages (from fsds_100719) (7.5.1)\n",
      "Requirement not upgraded as not directly required: pandas-profiling in c:\\anaconda\\envs\\learn-env\\lib\\site-packages (from fsds_100719) (2.4.0)\n",
      "Requirement not upgraded as not directly required: wordcloud in c:\\anaconda\\envs\\learn-env\\lib\\site-packages (from fsds_100719) (1.6.0)\n",
      "Requirement not upgraded as not directly required: IPython in c:\\anaconda\\envs\\learn-env\\lib\\site-packages (from fsds_100719) (6.5.0)\n",
      "Requirement not upgraded as not directly required: pyperclip in c:\\anaconda\\envs\\learn-env\\lib\\site-packages (from fsds_100719) (1.7.0)\n",
      "Requirement not upgraded as not directly required: missingno in c:\\anaconda\\envs\\learn-env\\lib\\site-packages (from fsds_100719) (0.4.2)\n",
      "Requirement not upgraded as not directly required: seaborn in c:\\anaconda\\envs\\learn-env\\lib\\site-packages (from fsds_100719) (0.9.0)\n",
      "Requirement not upgraded as not directly required: numpy in c:\\anaconda\\envs\\learn-env\\lib\\site-packages (from fsds_100719) (1.16.5)\n",
      "Requirement not upgraded as not directly required: matplotlib in c:\\anaconda\\envs\\learn-env\\lib\\site-packages (from fsds_100719) (3.0.2)\n",
      "Requirement not upgraded as not directly required: scikit-learn>=0.22.1 in c:\\anaconda\\envs\\learn-env\\lib\\site-packages (from fsds_100719) (0.22.1)\n",
      "Requirement not upgraded as not directly required: fake-useragent in c:\\anaconda\\envs\\learn-env\\lib\\site-packages (from fsds_100719) (0.1.11)\n",
      "Requirement not upgraded as not directly required: lxml in c:\\anaconda\\envs\\learn-env\\lib\\site-packages (from fsds_100719) (4.5.0)\n",
      "Requirement not upgraded as not directly required: cufflinks in c:\\anaconda\\envs\\learn-env\\lib\\site-packages (from fsds_100719) (0.17.0)\n",
      "Requirement not upgraded as not directly required: tzlocal in c:\\anaconda\\envs\\learn-env\\lib\\site-packages (from fsds_100719) (2.0.0)\n",
      "Requirement not upgraded as not directly required: pprint in c:\\anaconda\\envs\\learn-env\\lib\\site-packages (from fsds_100719) (0.1)\n",
      "Requirement not upgraded as not directly required: pandas in c:\\anaconda\\envs\\learn-env\\lib\\site-packages (from fsds_100719) (0.23.4)\n",
      "Requirement not upgraded as not directly required: urllib3 in c:\\anaconda\\envs\\learn-env\\lib\\site-packages (from selenium->fsds_100719) (1.23)\n",
      "Requirement not upgraded as not directly required: traitlets>=4.3.1 in c:\\anaconda\\envs\\learn-env\\lib\\site-packages (from ipywidgets->fsds_100719) (4.3.2)\n",
      "Requirement not upgraded as not directly required: widgetsnbextension~=3.5.0 in c:\\anaconda\\envs\\learn-env\\lib\\site-packages (from ipywidgets->fsds_100719) (3.5.1)\n",
      "Requirement not upgraded as not directly required: nbformat>=4.2.0 in c:\\anaconda\\envs\\learn-env\\lib\\site-packages (from ipywidgets->fsds_100719) (4.4.0)\n",
      "Requirement not upgraded as not directly required: ipykernel>=4.5.1 in c:\\anaconda\\envs\\learn-env\\lib\\site-packages (from ipywidgets->fsds_100719) (5.1.2)\n",
      "Requirement not upgraded as not directly required: htmlmin>=0.1.12 in c:\\anaconda\\envs\\learn-env\\lib\\site-packages (from pandas-profiling->fsds_100719) (0.1.12)\n",
      "Requirement not upgraded as not directly required: jinja2>=2.8 in c:\\anaconda\\envs\\learn-env\\lib\\site-packages (from pandas-profiling->fsds_100719) (2.10.3)\n",
      "Requirement not upgraded as not directly required: phik>=0.9.8 in c:\\anaconda\\envs\\learn-env\\lib\\site-packages (from pandas-profiling->fsds_100719) (0.9.9)\n",
      "Requirement not upgraded as not directly required: astropy in c:\\anaconda\\envs\\learn-env\\lib\\site-packages (from pandas-profiling->fsds_100719) (4.0)\n",
      "Requirement not upgraded as not directly required: confuse>=1.0.0 in c:\\anaconda\\envs\\learn-env\\lib\\site-packages (from pandas-profiling->fsds_100719) (1.0.0)\n",
      "Requirement not upgraded as not directly required: pillow in c:\\anaconda\\envs\\learn-env\\lib\\site-packages (from wordcloud->fsds_100719) (7.0.0)\n",
      "Requirement not upgraded as not directly required: simplegeneric>0.8 in c:\\anaconda\\envs\\learn-env\\lib\\site-packages (from IPython->fsds_100719) (0.8.1)\n",
      "Requirement not upgraded as not directly required: decorator in c:\\anaconda\\envs\\learn-env\\lib\\site-packages (from IPython->fsds_100719) (4.3.0)\n",
      "Requirement not upgraded as not directly required: setuptools>=18.5 in c:\\anaconda\\envs\\learn-env\\lib\\site-packages (from IPython->fsds_100719) (40.0.0)\n",
      "Requirement not upgraded as not directly required: pickleshare in c:\\anaconda\\envs\\learn-env\\lib\\site-packages (from IPython->fsds_100719) (0.7.4)\n",
      "Requirement not upgraded as not directly required: colorama; sys_platform == \"win32\" in c:\\anaconda\\envs\\learn-env\\lib\\site-packages (from IPython->fsds_100719) (0.4.1)\n",
      "Requirement not upgraded as not directly required: prompt-toolkit<2.0.0,>=1.0.15 in c:\\anaconda\\envs\\learn-env\\lib\\site-packages (from IPython->fsds_100719) (1.0.15)\n",
      "Requirement not upgraded as not directly required: pygments in c:\\anaconda\\envs\\learn-env\\lib\\site-packages (from IPython->fsds_100719) (2.2.0)\n",
      "Requirement not upgraded as not directly required: backcall in c:\\anaconda\\envs\\learn-env\\lib\\site-packages (from IPython->fsds_100719) (0.1.0)\n",
      "Requirement not upgraded as not directly required: jedi>=0.10 in c:\\anaconda\\envs\\learn-env\\lib\\site-packages (from IPython->fsds_100719) (0.12.1)\n",
      "Requirement not upgraded as not directly required: cycler>=0.10 in c:\\anaconda\\envs\\learn-env\\lib\\site-packages (from matplotlib->fsds_100719) (0.10.0)\n",
      "Requirement not upgraded as not directly required: kiwisolver>=1.0.1 in c:\\anaconda\\envs\\learn-env\\lib\\site-packages (from matplotlib->fsds_100719) (1.1.0)\n",
      "Requirement not upgraded as not directly required: pyparsing!=2.0.4,!=2.1.2,!=2.1.6,>=2.0.1 in c:\\anaconda\\envs\\learn-env\\lib\\site-packages (from matplotlib->fsds_100719) (2.4.2)\n",
      "Requirement not upgraded as not directly required: python-dateutil>=2.1 in c:\\anaconda\\envs\\learn-env\\lib\\site-packages (from matplotlib->fsds_100719) (2.8.0)\n",
      "Requirement not upgraded as not directly required: joblib>=0.11 in c:\\anaconda\\envs\\learn-env\\lib\\site-packages (from scikit-learn>=0.22.1->fsds_100719) (0.14.0)\n",
      "Requirement not upgraded as not directly required: plotly>=4.1.1 in c:\\anaconda\\envs\\learn-env\\lib\\site-packages (from cufflinks->fsds_100719) (4.5.0)\n",
      "Requirement not upgraded as not directly required: six>=1.9.0 in c:\\anaconda\\envs\\learn-env\\lib\\site-packages (from cufflinks->fsds_100719) (1.11.0)\n",
      "Requirement not upgraded as not directly required: chart-studio>=1.0.0 in c:\\anaconda\\envs\\learn-env\\lib\\site-packages (from cufflinks->fsds_100719) (1.0.0)\n",
      "Requirement not upgraded as not directly required: colorlover>=0.2.1 in c:\\anaconda\\envs\\learn-env\\lib\\site-packages (from cufflinks->fsds_100719) (0.3.0)\n",
      "Requirement not upgraded as not directly required: pytz in c:\\anaconda\\envs\\learn-env\\lib\\site-packages (from tzlocal->fsds_100719) (2018.5)\n",
      "Requirement not upgraded as not directly required: ipython_genutils in c:\\anaconda\\envs\\learn-env\\lib\\site-packages (from traitlets>=4.3.1->ipywidgets->fsds_100719) (0.2.0)\n",
      "Requirement not upgraded as not directly required: notebook>=4.4.1 in c:\\anaconda\\envs\\learn-env\\lib\\site-packages (from widgetsnbextension~=3.5.0->ipywidgets->fsds_100719) (6.0.1)\n",
      "Requirement not upgraded as not directly required: jsonschema!=2.5.0,>=2.4 in c:\\anaconda\\envs\\learn-env\\lib\\site-packages (from nbformat>=4.2.0->ipywidgets->fsds_100719) (2.6.0)\n",
      "Requirement not upgraded as not directly required: jupyter_core in c:\\anaconda\\envs\\learn-env\\lib\\site-packages (from nbformat>=4.2.0->ipywidgets->fsds_100719) (4.4.0)\n",
      "Requirement not upgraded as not directly required: jupyter-client in c:\\anaconda\\envs\\learn-env\\lib\\site-packages (from ipykernel>=4.5.1->ipywidgets->fsds_100719) (5.3.3)\n",
      "Requirement not upgraded as not directly required: tornado>=4.2 in c:\\anaconda\\envs\\learn-env\\lib\\site-packages (from ipykernel>=4.5.1->ipywidgets->fsds_100719) (6.0.3)\n",
      "Requirement not upgraded as not directly required: MarkupSafe>=0.23 in c:\\anaconda\\envs\\learn-env\\lib\\site-packages (from jinja2>=2.8->pandas-profiling->fsds_100719) (1.1.1)\n",
      "Requirement not upgraded as not directly required: pytest-pylint>=0.13.0 in c:\\anaconda\\envs\\learn-env\\lib\\site-packages (from phik>=0.9.8->pandas-profiling->fsds_100719) (0.15.0)\n",
      "Requirement not upgraded as not directly required: pytest>=4.0.2 in c:\\anaconda\\envs\\learn-env\\lib\\site-packages (from phik>=0.9.8->pandas-profiling->fsds_100719) (5.3.5)\n",
      "Requirement not upgraded as not directly required: numba>=0.38.1 in c:\\anaconda\\envs\\learn-env\\lib\\site-packages (from phik>=0.9.8->pandas-profiling->fsds_100719) (0.48.0)\n",
      "Requirement not upgraded as not directly required: nbconvert>=5.3.1 in c:\\anaconda\\envs\\learn-env\\lib\\site-packages (from phik>=0.9.8->pandas-profiling->fsds_100719) (5.6.0)\n",
      "Requirement not upgraded as not directly required: pyyaml in c:\\anaconda\\envs\\learn-env\\lib\\site-packages (from confuse>=1.0.0->pandas-profiling->fsds_100719) (5.1.2)\n",
      "Requirement not upgraded as not directly required: wcwidth in c:\\anaconda\\envs\\learn-env\\lib\\site-packages (from prompt-toolkit<2.0.0,>=1.0.15->IPython->fsds_100719) (0.1.7)\n",
      "Requirement not upgraded as not directly required: parso>=0.3.0 in c:\\anaconda\\envs\\learn-env\\lib\\site-packages (from jedi>=0.10->IPython->fsds_100719) (0.3.1)\n",
      "Requirement not upgraded as not directly required: retrying>=1.3.3 in c:\\anaconda\\envs\\learn-env\\lib\\site-packages (from plotly>=4.1.1->cufflinks->fsds_100719) (1.3.3)\n",
      "Requirement not upgraded as not directly required: requests in c:\\anaconda\\envs\\learn-env\\lib\\site-packages (from chart-studio>=1.0.0->cufflinks->fsds_100719) (2.19.1)\n",
      "Requirement not upgraded as not directly required: pyzmq>=17 in c:\\anaconda\\envs\\learn-env\\lib\\site-packages (from notebook>=4.4.1->widgetsnbextension~=3.5.0->ipywidgets->fsds_100719) (18.1.0)\n",
      "Requirement not upgraded as not directly required: terminado>=0.8.1 in c:\\anaconda\\envs\\learn-env\\lib\\site-packages (from notebook>=4.4.1->widgetsnbextension~=3.5.0->ipywidgets->fsds_100719) (0.8.2)\n",
      "Requirement not upgraded as not directly required: Send2Trash in c:\\anaconda\\envs\\learn-env\\lib\\site-packages (from notebook>=4.4.1->widgetsnbextension~=3.5.0->ipywidgets->fsds_100719) (1.5.0)\n",
      "Requirement not upgraded as not directly required: prometheus-client in c:\\anaconda\\envs\\learn-env\\lib\\site-packages (from notebook>=4.4.1->widgetsnbextension~=3.5.0->ipywidgets->fsds_100719) (0.7.1)\n",
      "Requirement not upgraded as not directly required: pywin32>=1.0; sys_platform == \"win32\" in c:\\anaconda\\envs\\learn-env\\lib\\site-packages (from jupyter-client->ipykernel>=4.5.1->ipywidgets->fsds_100719) (223)\n",
      "Requirement not upgraded as not directly required: pylint>=2.0.0 in c:\\anaconda\\envs\\learn-env\\lib\\site-packages (from pytest-pylint>=0.13.0->phik>=0.9.8->pandas-profiling->fsds_100719) (2.4.4)\n",
      "Requirement not upgraded as not directly required: attrs>=17.4.0 in c:\\anaconda\\envs\\learn-env\\lib\\site-packages (from pytest>=4.0.2->phik>=0.9.8->pandas-profiling->fsds_100719) (19.2.0)\n",
      "Requirement not upgraded as not directly required: more-itertools>=4.0.0 in c:\\anaconda\\envs\\learn-env\\lib\\site-packages (from pytest>=4.0.2->phik>=0.9.8->pandas-profiling->fsds_100719) (7.2.0)\n",
      "Requirement not upgraded as not directly required: pluggy<1.0,>=0.12 in c:\\anaconda\\envs\\learn-env\\lib\\site-packages (from pytest>=4.0.2->phik>=0.9.8->pandas-profiling->fsds_100719) (0.13.0)\n",
      "Requirement not upgraded as not directly required: py>=1.5.0 in c:\\anaconda\\envs\\learn-env\\lib\\site-packages (from pytest>=4.0.2->phik>=0.9.8->pandas-profiling->fsds_100719) (1.8.0)\n",
      "Requirement not upgraded as not directly required: importlib-metadata>=0.12; python_version < \"3.8\" in c:\\anaconda\\envs\\learn-env\\lib\\site-packages (from pytest>=4.0.2->phik>=0.9.8->pandas-profiling->fsds_100719) (0.23)\n",
      "Requirement not upgraded as not directly required: atomicwrites>=1.0; sys_platform == \"win32\" in c:\\anaconda\\envs\\learn-env\\lib\\site-packages (from pytest>=4.0.2->phik>=0.9.8->pandas-profiling->fsds_100719) (1.3.0)\n",
      "Requirement not upgraded as not directly required: packaging in c:\\anaconda\\envs\\learn-env\\lib\\site-packages (from pytest>=4.0.2->phik>=0.9.8->pandas-profiling->fsds_100719) (20.1)\n",
      "Requirement not upgraded as not directly required: llvmlite<0.32.0,>=0.31.0dev0 in c:\\anaconda\\envs\\learn-env\\lib\\site-packages (from numba>=0.38.1->phik>=0.9.8->pandas-profiling->fsds_100719) (0.31.0)\n",
      "Requirement not upgraded as not directly required: bleach in c:\\anaconda\\envs\\learn-env\\lib\\site-packages (from nbconvert>=5.3.1->phik>=0.9.8->pandas-profiling->fsds_100719) (1.5.0)\n",
      "Requirement not upgraded as not directly required: mistune<2,>=0.8.1 in c:\\anaconda\\envs\\learn-env\\lib\\site-packages (from nbconvert>=5.3.1->phik>=0.9.8->pandas-profiling->fsds_100719) (0.8.4)\n",
      "Requirement not upgraded as not directly required: defusedxml in c:\\anaconda\\envs\\learn-env\\lib\\site-packages (from nbconvert>=5.3.1->phik>=0.9.8->pandas-profiling->fsds_100719) (0.6.0)\n",
      "Requirement not upgraded as not directly required: testpath in c:\\anaconda\\envs\\learn-env\\lib\\site-packages (from nbconvert>=5.3.1->phik>=0.9.8->pandas-profiling->fsds_100719) (0.4.2)\n",
      "Requirement not upgraded as not directly required: pandocfilters>=1.4.1 in c:\\anaconda\\envs\\learn-env\\lib\\site-packages (from nbconvert>=5.3.1->phik>=0.9.8->pandas-profiling->fsds_100719) (1.4.2)\n",
      "Requirement not upgraded as not directly required: entrypoints>=0.2.2 in c:\\anaconda\\envs\\learn-env\\lib\\site-packages (from nbconvert>=5.3.1->phik>=0.9.8->pandas-profiling->fsds_100719) (0.3)\n",
      "Requirement not upgraded as not directly required: idna<2.8,>=2.5 in c:\\anaconda\\envs\\learn-env\\lib\\site-packages (from requests->chart-studio>=1.0.0->cufflinks->fsds_100719) (2.7)\n",
      "Requirement not upgraded as not directly required: certifi>=2017.4.17 in c:\\anaconda\\envs\\learn-env\\lib\\site-packages (from requests->chart-studio>=1.0.0->cufflinks->fsds_100719) (2018.8.13)\n",
      "Requirement not upgraded as not directly required: chardet<3.1.0,>=3.0.2 in c:\\anaconda\\envs\\learn-env\\lib\\site-packages (from requests->chart-studio>=1.0.0->cufflinks->fsds_100719) (3.0.4)\n",
      "Requirement not upgraded as not directly required: mccabe<0.7,>=0.6 in c:\\anaconda\\envs\\learn-env\\lib\\site-packages (from pylint>=2.0.0->pytest-pylint>=0.13.0->phik>=0.9.8->pandas-profiling->fsds_100719) (0.6.1)\n",
      "Requirement not upgraded as not directly required: isort<5,>=4.2.5 in c:\\anaconda\\envs\\learn-env\\lib\\site-packages (from pylint>=2.0.0->pytest-pylint>=0.13.0->phik>=0.9.8->pandas-profiling->fsds_100719) (4.3.21)\n",
      "Requirement not upgraded as not directly required: astroid<2.4,>=2.3.0 in c:\\anaconda\\envs\\learn-env\\lib\\site-packages (from pylint>=2.0.0->pytest-pylint>=0.13.0->phik>=0.9.8->pandas-profiling->fsds_100719) (2.3.3)\n",
      "Requirement not upgraded as not directly required: zipp>=0.5 in c:\\anaconda\\envs\\learn-env\\lib\\site-packages (from importlib-metadata>=0.12; python_version < \"3.8\"->pytest>=4.0.2->phik>=0.9.8->pandas-profiling->fsds_100719) (0.6.0)\n",
      "Requirement not upgraded as not directly required: html5lib!=0.9999,!=0.99999,<0.99999999,>=0.999 in c:\\anaconda\\envs\\learn-env\\lib\\site-packages (from bleach->nbconvert>=5.3.1->phik>=0.9.8->pandas-profiling->fsds_100719) (0.9999999)\n",
      "Requirement not upgraded as not directly required: lazy-object-proxy==1.4.* in c:\\anaconda\\envs\\learn-env\\lib\\site-packages (from astroid<2.4,>=2.3.0->pylint>=2.0.0->pytest-pylint>=0.13.0->phik>=0.9.8->pandas-profiling->fsds_100719) (1.4.3)\n",
      "Requirement not upgraded as not directly required: typed-ast<1.5,>=1.4.0; implementation_name == \"cpython\" and python_version < \"3.8\" in c:\\anaconda\\envs\\learn-env\\lib\\site-packages (from astroid<2.4,>=2.3.0->pylint>=2.0.0->pytest-pylint>=0.13.0->phik>=0.9.8->pandas-profiling->fsds_100719) (1.4.1)\n",
      "Requirement not upgraded as not directly required: wrapt==1.11.* in c:\\anaconda\\envs\\learn-env\\lib\\site-packages (from astroid<2.4,>=2.3.0->pylint>=2.0.0->pytest-pylint>=0.13.0->phik>=0.9.8->pandas-profiling->fsds_100719) (1.11.2)\n"
     ]
    },
    {
     "name": "stderr",
     "output_type": "stream",
     "text": [
      "pexpect 4.6.0 requires ptyprocess>=0.5, which is not installed.\n",
      "phik 0.9.9 has requirement joblib>=0.14.1, but you'll have joblib 0.14.0 which is incompatible.\n",
      "astroid 2.3.3 has requirement six~=1.12, but you'll have six 1.11.0 which is incompatible.\n",
      "You are using pip version 10.0.1, however version 20.0.2 is available.\n",
      "You should consider upgrading via the 'python -m pip install --upgrade pip' command.\n"
     ]
    }
   ],
   "source": [
    "!pip install -U fsds_100719\n",
    "from fsds_100719.imports import *\n",
    "\n",
    "import pandas as pd\n"
   ]
  },
  {
   "cell_type": "markdown",
   "metadata": {},
   "source": [
    "# PROJECT"
   ]
  },
  {
   "cell_type": "markdown",
   "metadata": {},
   "source": [
    "# Hypothesis 1"
   ]
  },
  {
   "cell_type": "markdown",
   "metadata": {},
   "source": [
    "> Does discount amount have a statistically significant effect on the quantity of a product in an order? If so, at what level(s) of discount?\n",
    "\n",
    "- $H_0$: A product's discount has no effect on the quantity of a product in an order\n",
    "- $H_A$: A product's discount does have an effect on the quantity of a product in an order"
   ]
  },
  {
   "cell_type": "code",
   "execution_count": 124,
   "metadata": {},
   "outputs": [
    {
     "data": {
      "text/html": [
       "<div>\n",
       "<style scoped>\n",
       "    .dataframe tbody tr th:only-of-type {\n",
       "        vertical-align: middle;\n",
       "    }\n",
       "\n",
       "    .dataframe tbody tr th {\n",
       "        vertical-align: top;\n",
       "    }\n",
       "\n",
       "    .dataframe thead th {\n",
       "        text-align: right;\n",
       "    }\n",
       "</style>\n",
       "<table border=\"1\" class=\"dataframe\">\n",
       "  <thead>\n",
       "    <tr style=\"text-align: right;\">\n",
       "      <th></th>\n",
       "      <th>Id</th>\n",
       "      <th>OrderId</th>\n",
       "      <th>ProductId</th>\n",
       "      <th>UnitPrice</th>\n",
       "      <th>Quantity</th>\n",
       "      <th>Discount</th>\n",
       "    </tr>\n",
       "  </thead>\n",
       "  <tbody>\n",
       "    <tr>\n",
       "      <th>0</th>\n",
       "      <td>10248/11</td>\n",
       "      <td>10248</td>\n",
       "      <td>11</td>\n",
       "      <td>14.0</td>\n",
       "      <td>12</td>\n",
       "      <td>0.0</td>\n",
       "    </tr>\n",
       "    <tr>\n",
       "      <th>1</th>\n",
       "      <td>10248/42</td>\n",
       "      <td>10248</td>\n",
       "      <td>42</td>\n",
       "      <td>9.8</td>\n",
       "      <td>10</td>\n",
       "      <td>0.0</td>\n",
       "    </tr>\n",
       "    <tr>\n",
       "      <th>2</th>\n",
       "      <td>10248/72</td>\n",
       "      <td>10248</td>\n",
       "      <td>72</td>\n",
       "      <td>34.8</td>\n",
       "      <td>5</td>\n",
       "      <td>0.0</td>\n",
       "    </tr>\n",
       "    <tr>\n",
       "      <th>3</th>\n",
       "      <td>10249/14</td>\n",
       "      <td>10249</td>\n",
       "      <td>14</td>\n",
       "      <td>18.6</td>\n",
       "      <td>9</td>\n",
       "      <td>0.0</td>\n",
       "    </tr>\n",
       "    <tr>\n",
       "      <th>4</th>\n",
       "      <td>10249/51</td>\n",
       "      <td>10249</td>\n",
       "      <td>51</td>\n",
       "      <td>42.4</td>\n",
       "      <td>40</td>\n",
       "      <td>0.0</td>\n",
       "    </tr>\n",
       "  </tbody>\n",
       "</table>\n",
       "</div>"
      ],
      "text/plain": [
       "         Id  OrderId  ProductId  UnitPrice  Quantity  Discount\n",
       "0  10248/11    10248         11       14.0        12       0.0\n",
       "1  10248/42    10248         42        9.8        10       0.0\n",
       "2  10248/72    10248         72       34.8         5       0.0\n",
       "3  10249/14    10249         14       18.6         9       0.0\n",
       "4  10249/51    10249         51       42.4        40       0.0"
      ]
     },
     "execution_count": 124,
     "metadata": {},
     "output_type": "execute_result"
    }
   ],
   "source": [
    "import sqlite3\n",
    "connect = sqlite3.connect('Northwind_small.sqlite')\n",
    "cur = connect.cursor()\n",
    "cur.execute(\"\"\"SELECT * FROM OrderDetail\"\"\")\n",
    "df = pd.DataFrame(cur.fetchall())\n",
    "df.columns = [x[0] for x in cur.description]\n",
    "df.head()"
   ]
  },
  {
   "cell_type": "code",
   "execution_count": 125,
   "metadata": {},
   "outputs": [
    {
     "data": {
      "text/html": [
       "<div>\n",
       "<style scoped>\n",
       "    .dataframe tbody tr th:only-of-type {\n",
       "        vertical-align: middle;\n",
       "    }\n",
       "\n",
       "    .dataframe tbody tr th {\n",
       "        vertical-align: top;\n",
       "    }\n",
       "\n",
       "    .dataframe thead th {\n",
       "        text-align: right;\n",
       "    }\n",
       "</style>\n",
       "<table border=\"1\" class=\"dataframe\">\n",
       "  <thead>\n",
       "    <tr style=\"text-align: right;\">\n",
       "      <th></th>\n",
       "      <th>Id</th>\n",
       "      <th>OrderId</th>\n",
       "      <th>ProductId</th>\n",
       "      <th>UnitPrice</th>\n",
       "      <th>Quantity</th>\n",
       "      <th>Discount</th>\n",
       "      <th>Groups</th>\n",
       "      <th>Groups_Number</th>\n",
       "    </tr>\n",
       "  </thead>\n",
       "  <tbody>\n",
       "    <tr>\n",
       "      <th>0</th>\n",
       "      <td>10248/11</td>\n",
       "      <td>10248</td>\n",
       "      <td>11</td>\n",
       "      <td>14.0</td>\n",
       "      <td>12</td>\n",
       "      <td>0.00</td>\n",
       "      <td>Full Price</td>\n",
       "      <td>0</td>\n",
       "    </tr>\n",
       "    <tr>\n",
       "      <th>1</th>\n",
       "      <td>10248/42</td>\n",
       "      <td>10248</td>\n",
       "      <td>42</td>\n",
       "      <td>9.8</td>\n",
       "      <td>10</td>\n",
       "      <td>0.00</td>\n",
       "      <td>Full Price</td>\n",
       "      <td>0</td>\n",
       "    </tr>\n",
       "    <tr>\n",
       "      <th>2</th>\n",
       "      <td>10248/72</td>\n",
       "      <td>10248</td>\n",
       "      <td>72</td>\n",
       "      <td>34.8</td>\n",
       "      <td>5</td>\n",
       "      <td>0.00</td>\n",
       "      <td>Full Price</td>\n",
       "      <td>0</td>\n",
       "    </tr>\n",
       "    <tr>\n",
       "      <th>3</th>\n",
       "      <td>10249/14</td>\n",
       "      <td>10249</td>\n",
       "      <td>14</td>\n",
       "      <td>18.6</td>\n",
       "      <td>9</td>\n",
       "      <td>0.00</td>\n",
       "      <td>Full Price</td>\n",
       "      <td>0</td>\n",
       "    </tr>\n",
       "    <tr>\n",
       "      <th>4</th>\n",
       "      <td>10249/51</td>\n",
       "      <td>10249</td>\n",
       "      <td>51</td>\n",
       "      <td>42.4</td>\n",
       "      <td>40</td>\n",
       "      <td>0.00</td>\n",
       "      <td>Full Price</td>\n",
       "      <td>0</td>\n",
       "    </tr>\n",
       "    <tr>\n",
       "      <th>5</th>\n",
       "      <td>10250/41</td>\n",
       "      <td>10250</td>\n",
       "      <td>41</td>\n",
       "      <td>7.7</td>\n",
       "      <td>10</td>\n",
       "      <td>0.00</td>\n",
       "      <td>Full Price</td>\n",
       "      <td>0</td>\n",
       "    </tr>\n",
       "    <tr>\n",
       "      <th>6</th>\n",
       "      <td>10250/51</td>\n",
       "      <td>10250</td>\n",
       "      <td>51</td>\n",
       "      <td>42.4</td>\n",
       "      <td>35</td>\n",
       "      <td>0.15</td>\n",
       "      <td>Discounted</td>\n",
       "      <td>1</td>\n",
       "    </tr>\n",
       "    <tr>\n",
       "      <th>7</th>\n",
       "      <td>10250/65</td>\n",
       "      <td>10250</td>\n",
       "      <td>65</td>\n",
       "      <td>16.8</td>\n",
       "      <td>15</td>\n",
       "      <td>0.15</td>\n",
       "      <td>Discounted</td>\n",
       "      <td>1</td>\n",
       "    </tr>\n",
       "    <tr>\n",
       "      <th>8</th>\n",
       "      <td>10251/22</td>\n",
       "      <td>10251</td>\n",
       "      <td>22</td>\n",
       "      <td>16.8</td>\n",
       "      <td>6</td>\n",
       "      <td>0.05</td>\n",
       "      <td>Discounted</td>\n",
       "      <td>1</td>\n",
       "    </tr>\n",
       "    <tr>\n",
       "      <th>9</th>\n",
       "      <td>10251/57</td>\n",
       "      <td>10251</td>\n",
       "      <td>57</td>\n",
       "      <td>15.6</td>\n",
       "      <td>15</td>\n",
       "      <td>0.05</td>\n",
       "      <td>Discounted</td>\n",
       "      <td>1</td>\n",
       "    </tr>\n",
       "  </tbody>\n",
       "</table>\n",
       "</div>"
      ],
      "text/plain": [
       "         Id  OrderId  ProductId  UnitPrice  Quantity  Discount      Groups  \\\n",
       "0  10248/11    10248         11       14.0        12      0.00  Full Price   \n",
       "1  10248/42    10248         42        9.8        10      0.00  Full Price   \n",
       "2  10248/72    10248         72       34.8         5      0.00  Full Price   \n",
       "3  10249/14    10249         14       18.6         9      0.00  Full Price   \n",
       "4  10249/51    10249         51       42.4        40      0.00  Full Price   \n",
       "5  10250/41    10250         41        7.7        10      0.00  Full Price   \n",
       "6  10250/51    10250         51       42.4        35      0.15  Discounted   \n",
       "7  10250/65    10250         65       16.8        15      0.15  Discounted   \n",
       "8  10251/22    10251         22       16.8         6      0.05  Discounted   \n",
       "9  10251/57    10251         57       15.6        15      0.05  Discounted   \n",
       "\n",
       "   Groups_Number  \n",
       "0              0  \n",
       "1              0  \n",
       "2              0  \n",
       "3              0  \n",
       "4              0  \n",
       "5              0  \n",
       "6              1  \n",
       "7              1  \n",
       "8              1  \n",
       "9              1  "
      ]
     },
     "execution_count": 125,
     "metadata": {},
     "output_type": "execute_result"
    }
   ],
   "source": [
    "df['Groups'] = df['Discount']>0\n",
    "df['Groups'] = df['Groups'].map({True:'Discounted',False:'Full Price'})\n",
    "df['Groups_Number'] = df['Groups'].map({'Discounted': 1, 'Full Price': 0})\n",
    "df.head(10)"
   ]
  },
  {
   "cell_type": "markdown",
   "metadata": {},
   "source": [
    "- The data is numerical and we are comparing two groups. Thus, we must employ a 2-sample T-test. TO complete this test, we must make sure that the data meets the following assumptions: no significant outliers, normality and equal variance"
   ]
  },
  {
   "cell_type": "markdown",
   "metadata": {},
   "source": [
    "## Test for outliers"
   ]
  },
  {
   "cell_type": "code",
   "execution_count": 126,
   "metadata": {},
   "outputs": [
    {
     "data": {
      "text/plain": [
       "{'Full Price': 0        12\n",
       " 1        10\n",
       " 2         5\n",
       " 3         9\n",
       " 4        40\n",
       " 5        10\n",
       " 10       20\n",
       " 13       40\n",
       " 14       20\n",
       " 15       42\n",
       " 16       40\n",
       " 19       21\n",
       " 20       20\n",
       " 21       35\n",
       " 22       25\n",
       " 23       30\n",
       " 24       15\n",
       " 25       12\n",
       " 26       25\n",
       " 27        6\n",
       " 28       15\n",
       " 32       10\n",
       " 33        1\n",
       " 35       50\n",
       " 38       20\n",
       " 39       20\n",
       " 41       15\n",
       " 42        2\n",
       " 44       28\n",
       " 47       35\n",
       "        ... \n",
       " 2088      4\n",
       " 2089     10\n",
       " 2090     15\n",
       " 2093     30\n",
       " 2097     12\n",
       " 2100     55\n",
       " 2103      3\n",
       " 2104     42\n",
       " 2105     35\n",
       " 2106      9\n",
       " 2110     20\n",
       " 2114     20\n",
       " 2117      8\n",
       " 2118     40\n",
       " 2119     22\n",
       " 2120    130\n",
       " 2121     10\n",
       " 2122     20\n",
       " 2131      4\n",
       " 2132      1\n",
       " 2136      1\n",
       " 2138      4\n",
       " 2142      2\n",
       " 2143      1\n",
       " 2145      3\n",
       " 2147      2\n",
       " 2148      2\n",
       " 2151      1\n",
       " 2153      4\n",
       " 2154      2\n",
       " Name: Quantity, Length: 1317, dtype: int64, 'Discounted': 6       35\n",
       " 7       15\n",
       " 8        6\n",
       " 9       15\n",
       " 11      40\n",
       " 12      25\n",
       " 17      15\n",
       " 18      21\n",
       " 29      50\n",
       " 30      65\n",
       " 31       6\n",
       " 34      16\n",
       " 36      15\n",
       " 37      21\n",
       " 40      12\n",
       " 43      60\n",
       " 45      60\n",
       " 46      36\n",
       " 48      25\n",
       " 51      12\n",
       " 53      70\n",
       " 54      15\n",
       " 57      60\n",
       " 58      20\n",
       " 65      24\n",
       " 66      15\n",
       " 68      60\n",
       " 69      33\n",
       " 72      12\n",
       " 73       6\n",
       "         ..\n",
       " 2101     4\n",
       " 2102    20\n",
       " 2107     8\n",
       " 2108    36\n",
       " 2109    28\n",
       " 2111    40\n",
       " 2112    20\n",
       " 2113    30\n",
       " 2115    15\n",
       " 2116    10\n",
       " 2123    14\n",
       " 2124    10\n",
       " 2125    30\n",
       " 2126     2\n",
       " 2127    20\n",
       " 2128    20\n",
       " 2129    10\n",
       " 2130    24\n",
       " 2133     1\n",
       " 2134     1\n",
       " 2135     2\n",
       " 2137     2\n",
       " 2139     1\n",
       " 2140     2\n",
       " 2141     1\n",
       " 2144     2\n",
       " 2146     3\n",
       " 2149     2\n",
       " 2150     2\n",
       " 2152     2\n",
       " Name: Quantity, Length: 838, dtype: int64}"
      ]
     },
     "execution_count": 126,
     "metadata": {},
     "output_type": "execute_result"
    }
   ],
   "source": [
    "## To better organize data based on whether an item was full-priced or not, we can create dictionaries\n",
    "groups = {}\n",
    "for grp_name in df['Groups'].unique():\n",
    "    groups[grp_name] = df.groupby('Groups').get_group(grp_name)['Quantity']\n",
    "groups"
   ]
  },
  {
   "cell_type": "code",
   "execution_count": 127,
   "metadata": {},
   "outputs": [
    {
     "name": "stderr",
     "output_type": "stream",
     "text": [
      "C:\\anaconda\\envs\\learn-env\\lib\\site-packages\\scipy\\stats\\stats.py:1713: FutureWarning:\n",
      "\n",
      "Using a non-tuple sequence for multidimensional indexing is deprecated; use `arr[tuple(seq)]` instead of `arr[seq]`. In the future this will be interpreted as an array index, `arr[np.array(seq)]`, which will result either in an error or a different result.\n",
      "\n"
     ]
    },
    {
     "data": {
      "text/plain": [
       "[Text(0, 0.5, 'Density'), Text(0.5, 1.0, 'Quantities Ordered by Price Type')]"
      ]
     },
     "execution_count": 127,
     "metadata": {},
     "output_type": "execute_result"
    },
    {
     "data": {
      "image/png": "[encoded data removed]",
      "text/plain": [
       "<Figure size 432x288 with 1 Axes>"
      ]
     },
     "metadata": {
      "needs_background": "light"
     },
     "output_type": "display_data"
    }
   ],
   "source": [
    "#Visualize the data to get sense of present outlier\n",
    "\n",
    "for k,v in groups.items():\n",
    "    sns.distplot(v,label = k)\n",
    "ax = plt.gca()\n",
    "ax.legend()\n",
    "ax.set(title = 'Quantities Ordered by Price Type',ylabel='Density')"
   ]
  },
  {
   "cell_type": "code",
   "execution_count": 128,
   "metadata": {},
   "outputs": [],
   "source": [
    "from functions import Cohen_d,find_outliers_IQR,find_outliers_Z"
   ]
  },
  {
   "cell_type": "code",
   "execution_count": 129,
   "metadata": {},
   "outputs": [
    {
     "name": "stdout",
     "output_type": "stream",
     "text": [
      "There are 0       False\n",
      "1       False\n",
      "2       False\n",
      "3       False\n",
      "4       False\n",
      "5       False\n",
      "10      False\n",
      "13      False\n",
      "14      False\n",
      "15      False\n",
      "16      False\n",
      "19      False\n",
      "20      False\n",
      "21      False\n",
      "22      False\n",
      "23      False\n",
      "24      False\n",
      "25      False\n",
      "26      False\n",
      "27      False\n",
      "28      False\n",
      "32      False\n",
      "33      False\n",
      "35      False\n",
      "38      False\n",
      "39      False\n",
      "41      False\n",
      "42      False\n",
      "44      False\n",
      "47      False\n",
      "        ...  \n",
      "2088    False\n",
      "2089    False\n",
      "2090    False\n",
      "2093    False\n",
      "2097    False\n",
      "2100    False\n",
      "2103    False\n",
      "2104    False\n",
      "2105    False\n",
      "2106    False\n",
      "2110    False\n",
      "2114    False\n",
      "2117    False\n",
      "2118    False\n",
      "2119    False\n",
      "2120     True\n",
      "2121    False\n",
      "2122    False\n",
      "2131    False\n",
      "2132    False\n",
      "2136    False\n",
      "2138    False\n",
      "2142    False\n",
      "2143    False\n",
      "2145    False\n",
      "2147    False\n",
      "2148    False\n",
      "2151    False\n",
      "2153    False\n",
      "2154    False\n",
      "Length: 1317, dtype: bool outliers present in Discounted using Z-Score\n",
      "There are 6       False\n",
      "7       False\n",
      "8       False\n",
      "9       False\n",
      "11      False\n",
      "12      False\n",
      "17      False\n",
      "18      False\n",
      "29      False\n",
      "30      False\n",
      "31      False\n",
      "34      False\n",
      "36      False\n",
      "37      False\n",
      "40      False\n",
      "43      False\n",
      "45      False\n",
      "46      False\n",
      "48      False\n",
      "51      False\n",
      "53      False\n",
      "54      False\n",
      "57      False\n",
      "58      False\n",
      "65      False\n",
      "66      False\n",
      "68      False\n",
      "69      False\n",
      "72      False\n",
      "73      False\n",
      "        ...  \n",
      "2101    False\n",
      "2102    False\n",
      "2107    False\n",
      "2108    False\n",
      "2109    False\n",
      "2111    False\n",
      "2112    False\n",
      "2113    False\n",
      "2115    False\n",
      "2116    False\n",
      "2123    False\n",
      "2124    False\n",
      "2125    False\n",
      "2126    False\n",
      "2127    False\n",
      "2128    False\n",
      "2129    False\n",
      "2130    False\n",
      "2133    False\n",
      "2134    False\n",
      "2135    False\n",
      "2137    False\n",
      "2139    False\n",
      "2140    False\n",
      "2141    False\n",
      "2144    False\n",
      "2146    False\n",
      "2149    False\n",
      "2150    False\n",
      "2152    False\n",
      "Length: 838, dtype: bool outliers present in Discounted using Z-Score\n"
     ]
    }
   ],
   "source": [
    "#Identifying Outliers\n",
    "\n",
    "for k,v in groups.items():\n",
    "    idx_out = find_outliers_Z(v)\n",
    "    print(f'There are {idx_out} outliers present in {grp_name} using Z-Score')\n",
    "    groups[k] = v[~idx_out]\n",
    "    "
   ]
  },
  {
   "cell_type": "code",
   "execution_count": 130,
   "metadata": {},
   "outputs": [
    {
     "name": "stderr",
     "output_type": "stream",
     "text": [
      "C:\\anaconda\\envs\\learn-env\\lib\\site-packages\\scipy\\stats\\stats.py:1713: FutureWarning:\n",
      "\n",
      "Using a non-tuple sequence for multidimensional indexing is deprecated; use `arr[tuple(seq)]` instead of `arr[seq]`. In the future this will be interpreted as an array index, `arr[np.array(seq)]`, which will result either in an error or a different result.\n",
      "\n"
     ]
    },
    {
     "data": {
      "text/plain": [
       "[Text(0, 0.5, 'Density'), Text(0.5, 1.0, 'Quantities Ordered by Price Type')]"
      ]
     },
     "execution_count": 130,
     "metadata": {},
     "output_type": "execute_result"
    },
    {
     "data": {
      "image/png": "[encoded data removed]",
      "text/plain": [
       "<Figure size 432x288 with 1 Axes>"
      ]
     },
     "metadata": {
      "needs_background": "light"
     },
     "output_type": "display_data"
    }
   ],
   "source": [
    "#Replotting of density plot without outliers\n",
    "\n",
    "for k,v in groups.items():\n",
    "    sns.distplot(v,label = k)\n",
    "ax = plt.gca()\n",
    "ax.legend()\n",
    "ax.set(title = 'Quantities Ordered by Price Type',ylabel='Density')\n",
    "\n"
   ]
  },
  {
   "cell_type": "markdown",
   "metadata": {},
   "source": [
    "## Testing for Normality"
   ]
  },
  {
   "cell_type": "code",
   "execution_count": 131,
   "metadata": {},
   "outputs": [],
   "source": [
    "import scipy.stats as stats    "
   ]
  },
  {
   "cell_type": "code",
   "execution_count": 132,
   "metadata": {},
   "outputs": [
    {
     "name": "stdout",
     "output_type": "stream",
     "text": [
      " Group Full Price Normaltest p-value = 0.0\n",
      " -The data is is Not normal\n",
      " Group Discounted Normaltest p-value = 0.0\n",
      " -The data is is Not normal\n"
     ]
    }
   ],
   "source": [
    "#Normalcy test with scipy library\n",
    "for k,v in groups.items():\n",
    "    stat,p = stats.normaltest(v)\n",
    "    print(f' Group {k} Normaltest p-value = {round(p,4)}')\n",
    "    sig = 'is Not' if p<0.5 else 'is'\n",
    "    print(f' -The data is {sig} normal')"
   ]
  },
  {
   "cell_type": "code",
   "execution_count": 133,
   "metadata": {},
   "outputs": [
    {
     "data": {
      "text/plain": [
       "(1297, 823)"
      ]
     },
     "execution_count": 133,
     "metadata": {},
     "output_type": "execute_result"
    }
   ],
   "source": [
    "#large data sets are ok to be used as long as data set is large\n",
    "len(groups['Full Price']), len(groups['Discounted'])"
   ]
  },
  {
   "cell_type": "markdown",
   "metadata": {},
   "source": [
    "## Equal Variance"
   ]
  },
  {
   "cell_type": "code",
   "execution_count": 134,
   "metadata": {},
   "outputs": [
    {
     "name": "stdout",
     "output_type": "stream",
     "text": [
      "Levene Test for Equal Variance p-value = 0.0\n",
      " -The data is Not equally varied\n"
     ]
    }
   ],
   "source": [
    "data = []\n",
    "for k, v in groups.items():\n",
    "    data.append(v)\n",
    "\n",
    "stat,p = stats.levene(*data)\n",
    "\n",
    "print (f'Levene Test for Equal Variance p-value = {round(p,4)}')\n",
    "sig = 'is Not' if p<0.5 else 'is'\n",
    "print(f' -The data {sig} equally varied')"
   ]
  },
  {
   "cell_type": "markdown",
   "metadata": {},
   "source": [
    "- Due to the data not having equal variance, we must use the Welch's test"
   ]
  },
  {
   "cell_type": "code",
   "execution_count": 135,
   "metadata": {},
   "outputs": [
    {
     "name": "stdout",
     "output_type": "stream",
     "text": [
      " Welch's t-test p-value is 0.0\n"
     ]
    }
   ],
   "source": [
    "stat,p = stats.ttest_ind(*data, equal_var=False)\n",
    "print(f\" Welch's t-test p-value is {round(p,4)}\")"
   ]
  },
  {
   "cell_type": "markdown",
   "metadata": {},
   "source": [
    "## Effect Size"
   ]
  },
  {
   "cell_type": "code",
   "execution_count": 136,
   "metadata": {},
   "outputs": [
    {
     "data": {
      "text/plain": [
       "-0.32001140965727837"
      ]
     },
     "execution_count": 136,
     "metadata": {},
     "output_type": "execute_result"
    }
   ],
   "source": [
    "Cohen_d(*data)"
   ]
  },
  {
   "cell_type": "code",
   "execution_count": 137,
   "metadata": {},
   "outputs": [
    {
     "ename": "TypeError",
     "evalue": "summary() takes 1 positional argument but 2 were given",
     "output_type": "error",
     "traceback": [
      "\u001b[1;31m---------------------------------------------------------------------------\u001b[0m",
      "\u001b[1;31mTypeError\u001b[0m                                 Traceback (most recent call last)",
      "\u001b[1;32m<ipython-input-137-7d55d3f6f5eb>\u001b[0m in \u001b[0;36m<module>\u001b[1;34m()\u001b[0m\n\u001b[0;32m      1\u001b[0m \u001b[1;32mfrom\u001b[0m \u001b[0mstatsmodels\u001b[0m\u001b[1;33m.\u001b[0m\u001b[0mstats\u001b[0m\u001b[1;33m.\u001b[0m\u001b[0mmulticomp\u001b[0m \u001b[1;32mimport\u001b[0m \u001b[0mpairwise_tukeyhsd\u001b[0m\u001b[1;33m\u001b[0m\u001b[0m\n\u001b[0;32m      2\u001b[0m \u001b[0mmodel\u001b[0m \u001b[1;33m=\u001b[0m \u001b[0mpairwise_tukeyhsd\u001b[0m\u001b[1;33m(\u001b[0m\u001b[0mdf\u001b[0m\u001b[1;33m[\u001b[0m\u001b[1;34m'Quantity'\u001b[0m\u001b[1;33m]\u001b[0m\u001b[1;33m,\u001b[0m\u001b[0mdf\u001b[0m\u001b[1;33m[\u001b[0m\u001b[1;34m'Discount'\u001b[0m\u001b[1;33m]\u001b[0m\u001b[1;33m)\u001b[0m\u001b[1;33m\u001b[0m\u001b[0m\n\u001b[1;32m----> 3\u001b[1;33m \u001b[0mmodel\u001b[0m\u001b[1;33m.\u001b[0m\u001b[0msummary\u001b[0m\u001b[1;33m(\u001b[0m\u001b[1;36m10\u001b[0m\u001b[1;33m)\u001b[0m\u001b[1;33m\u001b[0m\u001b[0m\n\u001b[0m",
      "\u001b[1;31mTypeError\u001b[0m: summary() takes 1 positional argument but 2 were given"
     ]
    }
   ],
   "source": [
    "from statsmodels.stats.multicomp import pairwise_tukeyhsd\n",
    "model = pairwise_tukeyhsd(df['Quantity'],df['Discount'])\n",
    "model.summary(10)"
   ]
  },
  {
   "cell_type": "code",
   "execution_count": 138,
   "metadata": {},
   "outputs": [
    {
     "name": "stderr",
     "output_type": "stream",
     "text": [
      "C:\\anaconda\\envs\\learn-env\\lib\\site-packages\\scipy\\stats\\stats.py:1713: FutureWarning:\n",
      "\n",
      "Using a non-tuple sequence for multidimensional indexing is deprecated; use `arr[tuple(seq)]` instead of `arr[seq]`. In the future this will be interpreted as an array index, `arr[np.array(seq)]`, which will result either in an error or a different result.\n",
      "\n"
     ]
    },
    {
     "data": {
      "text/plain": [
       "<matplotlib.axes._subplots.AxesSubplot at 0x2ab28052f60>"
      ]
     },
     "execution_count": 138,
     "metadata": {},
     "output_type": "execute_result"
    },
    {
     "data": {
      "image/png": "[encoded data removed]",
      "text/plain": [
       "<Figure size 432x288 with 1 Axes>"
      ]
     },
     "metadata": {
      "needs_background": "light"
     },
     "output_type": "display_data"
    }
   ],
   "source": [
    "sns.barplot(data=df, x='Discount', y='Quantity',ci=68)"
   ]
  },
  {
   "cell_type": "markdown",
   "metadata": {},
   "source": [
    "# Hypothesis 2"
   ]
  },
  {
   "cell_type": "markdown",
   "metadata": {},
   "source": [
    "> Does a product's unit price have a statisticaly significant effect on how many units are kept in stock?\n",
    "\n",
    "- $H_0$: A product's unit price has no effect on how many units are kept in stock.\n",
    "- $H_A$: A product's unit price has an effect on how many units are kept in stock."
   ]
  },
  {
   "cell_type": "code",
   "execution_count": 164,
   "metadata": {},
   "outputs": [
    {
     "data": {
      "text/html": [
       "<div>\n",
       "<style scoped>\n",
       "    .dataframe tbody tr th:only-of-type {\n",
       "        vertical-align: middle;\n",
       "    }\n",
       "\n",
       "    .dataframe tbody tr th {\n",
       "        vertical-align: top;\n",
       "    }\n",
       "\n",
       "    .dataframe thead th {\n",
       "        text-align: right;\n",
       "    }\n",
       "</style>\n",
       "<table border=\"1\" class=\"dataframe\">\n",
       "  <thead>\n",
       "    <tr style=\"text-align: right;\">\n",
       "      <th></th>\n",
       "      <th>Id</th>\n",
       "      <th>ProductName</th>\n",
       "      <th>SupplierId</th>\n",
       "      <th>CategoryId</th>\n",
       "      <th>QuantityPerUnit</th>\n",
       "      <th>UnitPrice</th>\n",
       "      <th>UnitsInStock</th>\n",
       "      <th>UnitsOnOrder</th>\n",
       "      <th>ReorderLevel</th>\n",
       "      <th>Discontinued</th>\n",
       "    </tr>\n",
       "  </thead>\n",
       "  <tbody>\n",
       "    <tr>\n",
       "      <th>0</th>\n",
       "      <td>1</td>\n",
       "      <td>Chai</td>\n",
       "      <td>1</td>\n",
       "      <td>1</td>\n",
       "      <td>10 boxes x 20 bags</td>\n",
       "      <td>18.00</td>\n",
       "      <td>39</td>\n",
       "      <td>0</td>\n",
       "      <td>10</td>\n",
       "      <td>0</td>\n",
       "    </tr>\n",
       "    <tr>\n",
       "      <th>1</th>\n",
       "      <td>2</td>\n",
       "      <td>Chang</td>\n",
       "      <td>1</td>\n",
       "      <td>1</td>\n",
       "      <td>24 - 12 oz bottles</td>\n",
       "      <td>19.00</td>\n",
       "      <td>17</td>\n",
       "      <td>40</td>\n",
       "      <td>25</td>\n",
       "      <td>0</td>\n",
       "    </tr>\n",
       "    <tr>\n",
       "      <th>2</th>\n",
       "      <td>3</td>\n",
       "      <td>Aniseed Syrup</td>\n",
       "      <td>1</td>\n",
       "      <td>2</td>\n",
       "      <td>12 - 550 ml bottles</td>\n",
       "      <td>10.00</td>\n",
       "      <td>13</td>\n",
       "      <td>70</td>\n",
       "      <td>25</td>\n",
       "      <td>0</td>\n",
       "    </tr>\n",
       "    <tr>\n",
       "      <th>3</th>\n",
       "      <td>4</td>\n",
       "      <td>Chef Anton's Cajun Seasoning</td>\n",
       "      <td>2</td>\n",
       "      <td>2</td>\n",
       "      <td>48 - 6 oz jars</td>\n",
       "      <td>22.00</td>\n",
       "      <td>53</td>\n",
       "      <td>0</td>\n",
       "      <td>0</td>\n",
       "      <td>0</td>\n",
       "    </tr>\n",
       "    <tr>\n",
       "      <th>4</th>\n",
       "      <td>5</td>\n",
       "      <td>Chef Anton's Gumbo Mix</td>\n",
       "      <td>2</td>\n",
       "      <td>2</td>\n",
       "      <td>36 boxes</td>\n",
       "      <td>21.35</td>\n",
       "      <td>0</td>\n",
       "      <td>0</td>\n",
       "      <td>0</td>\n",
       "      <td>1</td>\n",
       "    </tr>\n",
       "  </tbody>\n",
       "</table>\n",
       "</div>"
      ],
      "text/plain": [
       "   Id                   ProductName  SupplierId  CategoryId  \\\n",
       "0   1                          Chai           1           1   \n",
       "1   2                         Chang           1           1   \n",
       "2   3                 Aniseed Syrup           1           2   \n",
       "3   4  Chef Anton's Cajun Seasoning           2           2   \n",
       "4   5        Chef Anton's Gumbo Mix           2           2   \n",
       "\n",
       "       QuantityPerUnit  UnitPrice  UnitsInStock  UnitsOnOrder  ReorderLevel  \\\n",
       "0   10 boxes x 20 bags      18.00            39             0            10   \n",
       "1   24 - 12 oz bottles      19.00            17            40            25   \n",
       "2  12 - 550 ml bottles      10.00            13            70            25   \n",
       "3       48 - 6 oz jars      22.00            53             0             0   \n",
       "4             36 boxes      21.35             0             0             0   \n",
       "\n",
       "   Discontinued  \n",
       "0             0  \n",
       "1             0  \n",
       "2             0  \n",
       "3             0  \n",
       "4             1  "
      ]
     },
     "execution_count": 164,
     "metadata": {},
     "output_type": "execute_result"
    }
   ],
   "source": [
    "import sqlite3\n",
    "connect = sqlite3.connect('Northwind_small.sqlite')\n",
    "cur = connect.cursor()\n",
    "cur.execute(\"\"\"SELECT * FROM Product;\"\"\")\n",
    "df = pd.DataFrame(cur.fetchall())\n",
    "df.columns = [x[0] for x in cur.description]\n",
    "df.head()"
   ]
  },
  {
   "cell_type": "markdown",
   "metadata": {},
   "source": [
    "# Hypothesis 3"
   ]
  },
  {
   "cell_type": "markdown",
   "metadata": {},
   "source": [
    "> Does a employee's date of birth have a statistically significant effect on their hire date?\n",
    "\n",
    "- $H_0$: An employee's date of birth does not have an effect on their hire date.\n",
    "- $H_A$: An employee's date of birth does have an effect on their hire date."
   ]
  },
  {
   "cell_type": "code",
   "execution_count": 170,
   "metadata": {},
   "outputs": [
    {
     "data": {
      "text/html": [
       "<div>\n",
       "<style scoped>\n",
       "    .dataframe tbody tr th:only-of-type {\n",
       "        vertical-align: middle;\n",
       "    }\n",
       "\n",
       "    .dataframe tbody tr th {\n",
       "        vertical-align: top;\n",
       "    }\n",
       "\n",
       "    .dataframe thead th {\n",
       "        text-align: right;\n",
       "    }\n",
       "</style>\n",
       "<table border=\"1\" class=\"dataframe\">\n",
       "  <thead>\n",
       "    <tr style=\"text-align: right;\">\n",
       "      <th></th>\n",
       "      <th>LastName</th>\n",
       "      <th>FirstName</th>\n",
       "      <th>BirthDate</th>\n",
       "      <th>HireDate</th>\n",
       "    </tr>\n",
       "  </thead>\n",
       "  <tbody>\n",
       "    <tr>\n",
       "      <th>0</th>\n",
       "      <td>Davolio</td>\n",
       "      <td>Nancy</td>\n",
       "      <td>1980-12-08</td>\n",
       "      <td>2024-05-01</td>\n",
       "    </tr>\n",
       "    <tr>\n",
       "      <th>1</th>\n",
       "      <td>Fuller</td>\n",
       "      <td>Andrew</td>\n",
       "      <td>1984-02-19</td>\n",
       "      <td>2024-08-14</td>\n",
       "    </tr>\n",
       "    <tr>\n",
       "      <th>2</th>\n",
       "      <td>Leverling</td>\n",
       "      <td>Janet</td>\n",
       "      <td>1995-08-30</td>\n",
       "      <td>2024-04-01</td>\n",
       "    </tr>\n",
       "    <tr>\n",
       "      <th>3</th>\n",
       "      <td>Peacock</td>\n",
       "      <td>Margaret</td>\n",
       "      <td>1969-09-19</td>\n",
       "      <td>2025-05-03</td>\n",
       "    </tr>\n",
       "    <tr>\n",
       "      <th>4</th>\n",
       "      <td>Buchanan</td>\n",
       "      <td>Steven</td>\n",
       "      <td>1987-03-04</td>\n",
       "      <td>2025-10-17</td>\n",
       "    </tr>\n",
       "  </tbody>\n",
       "</table>\n",
       "</div>"
      ],
      "text/plain": [
       "    LastName FirstName   BirthDate    HireDate\n",
       "0    Davolio     Nancy  1980-12-08  2024-05-01\n",
       "1     Fuller    Andrew  1984-02-19  2024-08-14\n",
       "2  Leverling     Janet  1995-08-30  2024-04-01\n",
       "3    Peacock  Margaret  1969-09-19  2025-05-03\n",
       "4   Buchanan    Steven  1987-03-04  2025-10-17"
      ]
     },
     "execution_count": 170,
     "metadata": {},
     "output_type": "execute_result"
    }
   ],
   "source": [
    "import sqlite3\n",
    "connect = sqlite3.connect('Northwind_small.sqlite')\n",
    "cur = connect.cursor()\n",
    "cur.execute(\"\"\"SELECT LastName,FirstName,BirthDate,HireDate FROM Employee;\"\"\")\n",
    "df = pd.DataFrame(cur.fetchall())\n",
    "df.columns = [x[0] for x in cur.description]\n",
    "df.head()"
   ]
  },
  {
   "cell_type": "code",
   "execution_count": null,
   "metadata": {},
   "outputs": [],
   "source": []
  }
 ],
 "metadata": {
  "kernelspec": {
   "display_name": "Python 3",
   "language": "python",
   "name": "python3"
  },
  "language_info": {
   "codemirror_mode": {
    "name": "ipython",
    "version": 3
   },
   "file_extension": ".py",
   "mimetype": "text/x-python",
   "name": "python",
   "nbconvert_exporter": "python",
   "pygments_lexer": "ipython3",
   "version": "3.6.6"
  },
  "toc": {
   "base_numbering": 1,
   "nav_menu": {},
   "number_sections": false,
   "sideBar": true,
   "skip_h1_title": false,
   "title_cell": "Table of Contents",
   "title_sidebar": "Contents",
   "toc_cell": false,
   "toc_position": {
    "height": "calc(100% - 180px)",
    "left": "10px",
    "top": "150px",
    "width": "165px"
   },
   "toc_section_display": true,
   "toc_window_display": true
  },
  "varInspector": {
   "cols": {
    "lenName": 16,
    "lenType": 16,
    "lenVar": 40
   },
   "kernels_config": {
    "python": {
     "delete_cmd_postfix": "",
     "delete_cmd_prefix": "del ",
     "library": "var_list.py",
     "varRefreshCmd": "print(var_dic_list())"
    },
    "r": {
     "delete_cmd_postfix": ") ",
     "delete_cmd_prefix": "rm(",
     "library": "var_list.r",
     "varRefreshCmd": "cat(var_dic_list()) "
    }
   },
   "types_to_exclude": [
    "module",
    "function",
    "builtin_function_or_method",
    "instance",
    "_Feature"
   ],
   "window_display": false
  }
 },
 "nbformat": 4,
 "nbformat_minor": 2
}
