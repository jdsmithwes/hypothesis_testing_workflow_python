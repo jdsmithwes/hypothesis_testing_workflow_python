{
 "cells": [
  {
   "cell_type": "markdown",
   "metadata": {},
   "source": [
    "# Mod 3 Final Project"
   ]
  },
  {
   "cell_type": "markdown",
   "metadata": {},
   "source": [
    "## Student Info\n",
    "\n",
    "- Name: Jamaal Smith\n",
    "- Cohort: \n",
    "- Instructor: James Irving, Phd\n"
   ]
  },
  {
   "cell_type": "markdown",
   "metadata": {},
   "source": [
    "## Instructions:"
   ]
  },
  {
   "cell_type": "markdown",
   "metadata": {},
   "source": [
    "- Open and read the project assignment and guidelines in `MOD_PROJECT_README.ipynb`\n",
    "- Review the hypothesis testing workflow found in this repo's `README.md` and at the bottom of the `MOD_PROJECT_README.ipynb`\n",
    "- 3 functions from study group/learn.co lessons have been provided inside `functions.py`\n",
    "    - `Cohen_d`, `find_outliers_IQR`,`find_outliers_Z`"
   ]
  },
  {
   "cell_type": "markdown",
   "metadata": {},
   "source": []
  },
  {
   "cell_type": "markdown",
   "metadata": {},
   "source": [
    "<img src=\"https://raw.githubusercontent.com/jirvingphd/dsc-mod-3-project-online-ds-ft-100719/master/Northwind_ERD_updated.png\">"
   ]
  },
  {
   "cell_type": "code",
   "execution_count": 1,
   "metadata": {},
   "outputs": [
    {
     "name": "stdout",
     "output_type": "stream",
     "text": [
      "fsds_1007219  v0.7.6 loaded.  Read the docs: https://fsds.readthedocs.io/en/latest/ \n"
     ]
    },
    {
     "data": {
      "text/html": [
       "<style  type=\"text/css\" >\n",
       "</style>  \n",
       "<table id=\"T_1aa300e4_52b7_11ea_9a3c_5c93a2f59d0c\" ><caption>Loaded Packages and Handles</caption> \n",
       "<thead>    <tr> \n",
       "        <th class=\"col_heading level0 col0\" >Handle</th> \n",
       "        <th class=\"col_heading level0 col1\" >Package</th> \n",
       "        <th class=\"col_heading level0 col2\" >Description</th> \n",
       "    </tr></thead> \n",
       "<tbody>    <tr> \n",
       "        <td id=\"T_1aa300e4_52b7_11ea_9a3c_5c93a2f59d0crow0_col0\" class=\"data row0 col0\" >dp</td> \n",
       "        <td id=\"T_1aa300e4_52b7_11ea_9a3c_5c93a2f59d0crow0_col1\" class=\"data row0 col1\" >IPython.display</td> \n",
       "        <td id=\"T_1aa300e4_52b7_11ea_9a3c_5c93a2f59d0crow0_col2\" class=\"data row0 col2\" >Display modules with helpful display and clearing commands.</td> \n",
       "    </tr>    <tr> \n",
       "        <td id=\"T_1aa300e4_52b7_11ea_9a3c_5c93a2f59d0crow1_col0\" class=\"data row1 col0\" >fs</td> \n",
       "        <td id=\"T_1aa300e4_52b7_11ea_9a3c_5c93a2f59d0crow1_col1\" class=\"data row1 col1\" >fsds_100719</td> \n",
       "        <td id=\"T_1aa300e4_52b7_11ea_9a3c_5c93a2f59d0crow1_col2\" class=\"data row1 col2\" >Custom data science bootcamp student package</td> \n",
       "    </tr>    <tr> \n",
       "        <td id=\"T_1aa300e4_52b7_11ea_9a3c_5c93a2f59d0crow2_col0\" class=\"data row2 col0\" >mpl</td> \n",
       "        <td id=\"T_1aa300e4_52b7_11ea_9a3c_5c93a2f59d0crow2_col1\" class=\"data row2 col1\" >matplotlib</td> \n",
       "        <td id=\"T_1aa300e4_52b7_11ea_9a3c_5c93a2f59d0crow2_col2\" class=\"data row2 col2\" >Matplotlib's base OOP module with formatting artists</td> \n",
       "    </tr>    <tr> \n",
       "        <td id=\"T_1aa300e4_52b7_11ea_9a3c_5c93a2f59d0crow3_col0\" class=\"data row3 col0\" >plt</td> \n",
       "        <td id=\"T_1aa300e4_52b7_11ea_9a3c_5c93a2f59d0crow3_col1\" class=\"data row3 col1\" >matplotlib.pyplot</td> \n",
       "        <td id=\"T_1aa300e4_52b7_11ea_9a3c_5c93a2f59d0crow3_col2\" class=\"data row3 col2\" >Matplotlib's matlab-like plotting module</td> \n",
       "    </tr>    <tr> \n",
       "        <td id=\"T_1aa300e4_52b7_11ea_9a3c_5c93a2f59d0crow4_col0\" class=\"data row4 col0\" >np</td> \n",
       "        <td id=\"T_1aa300e4_52b7_11ea_9a3c_5c93a2f59d0crow4_col1\" class=\"data row4 col1\" >numpy</td> \n",
       "        <td id=\"T_1aa300e4_52b7_11ea_9a3c_5c93a2f59d0crow4_col2\" class=\"data row4 col2\" >scientific computing with Python</td> \n",
       "    </tr>    <tr> \n",
       "        <td id=\"T_1aa300e4_52b7_11ea_9a3c_5c93a2f59d0crow5_col0\" class=\"data row5 col0\" >pd</td> \n",
       "        <td id=\"T_1aa300e4_52b7_11ea_9a3c_5c93a2f59d0crow5_col1\" class=\"data row5 col1\" >pandas</td> \n",
       "        <td id=\"T_1aa300e4_52b7_11ea_9a3c_5c93a2f59d0crow5_col2\" class=\"data row5 col2\" >High performance data structures and tools</td> \n",
       "    </tr>    <tr> \n",
       "        <td id=\"T_1aa300e4_52b7_11ea_9a3c_5c93a2f59d0crow6_col0\" class=\"data row6 col0\" >sns</td> \n",
       "        <td id=\"T_1aa300e4_52b7_11ea_9a3c_5c93a2f59d0crow6_col1\" class=\"data row6 col1\" >seaborn</td> \n",
       "        <td id=\"T_1aa300e4_52b7_11ea_9a3c_5c93a2f59d0crow6_col2\" class=\"data row6 col2\" >High-level data visualization library based on matplotlib</td> \n",
       "    </tr></tbody> \n",
       "</table> "
      ],
      "text/plain": [
       "<pandas.io.formats.style.Styler at 0x275cef3c7b8>"
      ]
     },
     "metadata": {},
     "output_type": "display_data"
    },
    {
     "data": {
      "text/html": [
       "        <script type=\"text/javascript\">\n",
       "        window.PlotlyConfig = {MathJaxConfig: 'local'};\n",
       "        if (window.MathJax) {MathJax.Hub.Config({SVG: {font: \"STIX-Web\"}});}\n",
       "        if (typeof require !== 'undefined') {\n",
       "        require.undef(\"plotly\");\n",
       "        requirejs.config({\n",
       "            paths: {\n",
       "                'plotly': ['https://cdn.plot.ly/plotly-latest.min']\n",
       "            }\n",
       "        });\n",
       "        require(['plotly'], function(Plotly) {\n",
       "            window._Plotly = Plotly;\n",
       "        });\n",
       "        }\n",
       "        </script>\n",
       "        "
      ]
     },
     "metadata": {},
     "output_type": "display_data"
    },
    {
     "name": "stdout",
     "output_type": "stream",
     "text": [
      "['[i] Pandas .iplot() method activated.']\n"
     ]
    }
   ],
   "source": [
    "!pip install -U fsds_100719\n",
    "from fsds_100719.imports import *\n",
    "\n",
    "import pandas as pd\n"
   ]
  },
  {
   "cell_type": "markdown",
   "metadata": {},
   "source": [
    "# PROJECT"
   ]
  },
  {
   "cell_type": "markdown",
   "metadata": {},
   "source": [
    "# Hypothesis 1"
   ]
  },
  {
   "cell_type": "markdown",
   "metadata": {},
   "source": [
    "> Does discount amount have a statistically significant effect on the quantity of a product in an order? If so, at what level(s) of discount?\n",
    "\n",
    "- $H_0$: A product's discount has no effect on the quantity of a product in an order\n",
    "- $H_A$: A product's discount does have an effect on the quantity of a product in an order"
   ]
  },
  {
   "cell_type": "code",
   "execution_count": 2,
   "metadata": {},
   "outputs": [
    {
     "data": {
      "text/html": [
       "<div>\n",
       "<style scoped>\n",
       "    .dataframe tbody tr th:only-of-type {\n",
       "        vertical-align: middle;\n",
       "    }\n",
       "\n",
       "    .dataframe tbody tr th {\n",
       "        vertical-align: top;\n",
       "    }\n",
       "\n",
       "    .dataframe thead th {\n",
       "        text-align: right;\n",
       "    }\n",
       "</style>\n",
       "<table border=\"1\" class=\"dataframe\">\n",
       "  <thead>\n",
       "    <tr style=\"text-align: right;\">\n",
       "      <th></th>\n",
       "      <th>Id</th>\n",
       "      <th>OrderId</th>\n",
       "      <th>ProductId</th>\n",
       "      <th>UnitPrice</th>\n",
       "      <th>Quantity</th>\n",
       "      <th>Discount</th>\n",
       "    </tr>\n",
       "  </thead>\n",
       "  <tbody>\n",
       "    <tr>\n",
       "      <th>0</th>\n",
       "      <td>10248/11</td>\n",
       "      <td>10248</td>\n",
       "      <td>11</td>\n",
       "      <td>14.0</td>\n",
       "      <td>12</td>\n",
       "      <td>0.0</td>\n",
       "    </tr>\n",
       "    <tr>\n",
       "      <th>1</th>\n",
       "      <td>10248/42</td>\n",
       "      <td>10248</td>\n",
       "      <td>42</td>\n",
       "      <td>9.8</td>\n",
       "      <td>10</td>\n",
       "      <td>0.0</td>\n",
       "    </tr>\n",
       "    <tr>\n",
       "      <th>2</th>\n",
       "      <td>10248/72</td>\n",
       "      <td>10248</td>\n",
       "      <td>72</td>\n",
       "      <td>34.8</td>\n",
       "      <td>5</td>\n",
       "      <td>0.0</td>\n",
       "    </tr>\n",
       "    <tr>\n",
       "      <th>3</th>\n",
       "      <td>10249/14</td>\n",
       "      <td>10249</td>\n",
       "      <td>14</td>\n",
       "      <td>18.6</td>\n",
       "      <td>9</td>\n",
       "      <td>0.0</td>\n",
       "    </tr>\n",
       "    <tr>\n",
       "      <th>4</th>\n",
       "      <td>10249/51</td>\n",
       "      <td>10249</td>\n",
       "      <td>51</td>\n",
       "      <td>42.4</td>\n",
       "      <td>40</td>\n",
       "      <td>0.0</td>\n",
       "    </tr>\n",
       "  </tbody>\n",
       "</table>\n",
       "</div>"
      ],
      "text/plain": [
       "         Id  OrderId  ProductId  UnitPrice  Quantity  Discount\n",
       "0  10248/11    10248         11       14.0        12       0.0\n",
       "1  10248/42    10248         42        9.8        10       0.0\n",
       "2  10248/72    10248         72       34.8         5       0.0\n",
       "3  10249/14    10249         14       18.6         9       0.0\n",
       "4  10249/51    10249         51       42.4        40       0.0"
      ]
     },
     "execution_count": 2,
     "metadata": {},
     "output_type": "execute_result"
    }
   ],
   "source": [
    "import sqlite3\n",
    "connect = sqlite3.connect('Northwind_small.sqlite')\n",
    "cur = connect.cursor()\n",
    "cur.execute(\"\"\"SELECT * FROM OrderDetail\"\"\")\n",
    "df = pd.DataFrame(cur.fetchall())\n",
    "df.columns = [x[0] for x in cur.description]\n",
    "df.head()"
   ]
  },
  {
   "cell_type": "code",
   "execution_count": 3,
   "metadata": {},
   "outputs": [
    {
     "data": {
      "text/html": [
       "<div>\n",
       "<style scoped>\n",
       "    .dataframe tbody tr th:only-of-type {\n",
       "        vertical-align: middle;\n",
       "    }\n",
       "\n",
       "    .dataframe tbody tr th {\n",
       "        vertical-align: top;\n",
       "    }\n",
       "\n",
       "    .dataframe thead th {\n",
       "        text-align: right;\n",
       "    }\n",
       "</style>\n",
       "<table border=\"1\" class=\"dataframe\">\n",
       "  <thead>\n",
       "    <tr style=\"text-align: right;\">\n",
       "      <th></th>\n",
       "      <th>Id</th>\n",
       "      <th>OrderId</th>\n",
       "      <th>ProductId</th>\n",
       "      <th>UnitPrice</th>\n",
       "      <th>Quantity</th>\n",
       "      <th>Discount</th>\n",
       "      <th>Groups</th>\n",
       "      <th>Groups_Number</th>\n",
       "    </tr>\n",
       "  </thead>\n",
       "  <tbody>\n",
       "    <tr>\n",
       "      <th>0</th>\n",
       "      <td>10248/11</td>\n",
       "      <td>10248</td>\n",
       "      <td>11</td>\n",
       "      <td>14.0</td>\n",
       "      <td>12</td>\n",
       "      <td>0.00</td>\n",
       "      <td>Full Price</td>\n",
       "      <td>0</td>\n",
       "    </tr>\n",
       "    <tr>\n",
       "      <th>1</th>\n",
       "      <td>10248/42</td>\n",
       "      <td>10248</td>\n",
       "      <td>42</td>\n",
       "      <td>9.8</td>\n",
       "      <td>10</td>\n",
       "      <td>0.00</td>\n",
       "      <td>Full Price</td>\n",
       "      <td>0</td>\n",
       "    </tr>\n",
       "    <tr>\n",
       "      <th>2</th>\n",
       "      <td>10248/72</td>\n",
       "      <td>10248</td>\n",
       "      <td>72</td>\n",
       "      <td>34.8</td>\n",
       "      <td>5</td>\n",
       "      <td>0.00</td>\n",
       "      <td>Full Price</td>\n",
       "      <td>0</td>\n",
       "    </tr>\n",
       "    <tr>\n",
       "      <th>3</th>\n",
       "      <td>10249/14</td>\n",
       "      <td>10249</td>\n",
       "      <td>14</td>\n",
       "      <td>18.6</td>\n",
       "      <td>9</td>\n",
       "      <td>0.00</td>\n",
       "      <td>Full Price</td>\n",
       "      <td>0</td>\n",
       "    </tr>\n",
       "    <tr>\n",
       "      <th>4</th>\n",
       "      <td>10249/51</td>\n",
       "      <td>10249</td>\n",
       "      <td>51</td>\n",
       "      <td>42.4</td>\n",
       "      <td>40</td>\n",
       "      <td>0.00</td>\n",
       "      <td>Full Price</td>\n",
       "      <td>0</td>\n",
       "    </tr>\n",
       "    <tr>\n",
       "      <th>5</th>\n",
       "      <td>10250/41</td>\n",
       "      <td>10250</td>\n",
       "      <td>41</td>\n",
       "      <td>7.7</td>\n",
       "      <td>10</td>\n",
       "      <td>0.00</td>\n",
       "      <td>Full Price</td>\n",
       "      <td>0</td>\n",
       "    </tr>\n",
       "    <tr>\n",
       "      <th>6</th>\n",
       "      <td>10250/51</td>\n",
       "      <td>10250</td>\n",
       "      <td>51</td>\n",
       "      <td>42.4</td>\n",
       "      <td>35</td>\n",
       "      <td>0.15</td>\n",
       "      <td>Discounted</td>\n",
       "      <td>1</td>\n",
       "    </tr>\n",
       "    <tr>\n",
       "      <th>7</th>\n",
       "      <td>10250/65</td>\n",
       "      <td>10250</td>\n",
       "      <td>65</td>\n",
       "      <td>16.8</td>\n",
       "      <td>15</td>\n",
       "      <td>0.15</td>\n",
       "      <td>Discounted</td>\n",
       "      <td>1</td>\n",
       "    </tr>\n",
       "    <tr>\n",
       "      <th>8</th>\n",
       "      <td>10251/22</td>\n",
       "      <td>10251</td>\n",
       "      <td>22</td>\n",
       "      <td>16.8</td>\n",
       "      <td>6</td>\n",
       "      <td>0.05</td>\n",
       "      <td>Discounted</td>\n",
       "      <td>1</td>\n",
       "    </tr>\n",
       "    <tr>\n",
       "      <th>9</th>\n",
       "      <td>10251/57</td>\n",
       "      <td>10251</td>\n",
       "      <td>57</td>\n",
       "      <td>15.6</td>\n",
       "      <td>15</td>\n",
       "      <td>0.05</td>\n",
       "      <td>Discounted</td>\n",
       "      <td>1</td>\n",
       "    </tr>\n",
       "  </tbody>\n",
       "</table>\n",
       "</div>"
      ],
      "text/plain": [
       "         Id  OrderId  ProductId  UnitPrice  Quantity  Discount      Groups  \\\n",
       "0  10248/11    10248         11       14.0        12      0.00  Full Price   \n",
       "1  10248/42    10248         42        9.8        10      0.00  Full Price   \n",
       "2  10248/72    10248         72       34.8         5      0.00  Full Price   \n",
       "3  10249/14    10249         14       18.6         9      0.00  Full Price   \n",
       "4  10249/51    10249         51       42.4        40      0.00  Full Price   \n",
       "5  10250/41    10250         41        7.7        10      0.00  Full Price   \n",
       "6  10250/51    10250         51       42.4        35      0.15  Discounted   \n",
       "7  10250/65    10250         65       16.8        15      0.15  Discounted   \n",
       "8  10251/22    10251         22       16.8         6      0.05  Discounted   \n",
       "9  10251/57    10251         57       15.6        15      0.05  Discounted   \n",
       "\n",
       "   Groups_Number  \n",
       "0              0  \n",
       "1              0  \n",
       "2              0  \n",
       "3              0  \n",
       "4              0  \n",
       "5              0  \n",
       "6              1  \n",
       "7              1  \n",
       "8              1  \n",
       "9              1  "
      ]
     },
     "execution_count": 3,
     "metadata": {},
     "output_type": "execute_result"
    }
   ],
   "source": [
    "df['Groups'] = df['Discount']>0\n",
    "df['Groups'] = df['Groups'].map({True:'Discounted',False:'Full Price'})\n",
    "df['Groups_Number'] = df['Groups'].map({'Discounted': 1, 'Full Price': 0})\n",
    "df.head(10)"
   ]
  },
  {
   "cell_type": "markdown",
   "metadata": {},
   "source": [
    "- The data is numerical and we are comparing two groups. Thus, we must employ a 2-sample T-test. TO complete this test, we must make sure that the data meets the following assumptions: no significant outliers, normality and equal variance"
   ]
  },
  {
   "cell_type": "markdown",
   "metadata": {},
   "source": [
    "## Test for outliers"
   ]
  },
  {
   "cell_type": "code",
   "execution_count": 4,
   "metadata": {},
   "outputs": [
    {
     "data": {
      "text/plain": [
       "{'Full Price': 0        12\n",
       " 1        10\n",
       " 2         5\n",
       " 3         9\n",
       " 4        40\n",
       " 5        10\n",
       " 10       20\n",
       " 13       40\n",
       " 14       20\n",
       " 15       42\n",
       " 16       40\n",
       " 19       21\n",
       " 20       20\n",
       " 21       35\n",
       " 22       25\n",
       " 23       30\n",
       " 24       15\n",
       " 25       12\n",
       " 26       25\n",
       " 27        6\n",
       " 28       15\n",
       " 32       10\n",
       " 33        1\n",
       " 35       50\n",
       " 38       20\n",
       " 39       20\n",
       " 41       15\n",
       " 42        2\n",
       " 44       28\n",
       " 47       35\n",
       "        ... \n",
       " 2088      4\n",
       " 2089     10\n",
       " 2090     15\n",
       " 2093     30\n",
       " 2097     12\n",
       " 2100     55\n",
       " 2103      3\n",
       " 2104     42\n",
       " 2105     35\n",
       " 2106      9\n",
       " 2110     20\n",
       " 2114     20\n",
       " 2117      8\n",
       " 2118     40\n",
       " 2119     22\n",
       " 2120    130\n",
       " 2121     10\n",
       " 2122     20\n",
       " 2131      4\n",
       " 2132      1\n",
       " 2136      1\n",
       " 2138      4\n",
       " 2142      2\n",
       " 2143      1\n",
       " 2145      3\n",
       " 2147      2\n",
       " 2148      2\n",
       " 2151      1\n",
       " 2153      4\n",
       " 2154      2\n",
       " Name: Quantity, Length: 1317, dtype: int64, 'Discounted': 6       35\n",
       " 7       15\n",
       " 8        6\n",
       " 9       15\n",
       " 11      40\n",
       " 12      25\n",
       " 17      15\n",
       " 18      21\n",
       " 29      50\n",
       " 30      65\n",
       " 31       6\n",
       " 34      16\n",
       " 36      15\n",
       " 37      21\n",
       " 40      12\n",
       " 43      60\n",
       " 45      60\n",
       " 46      36\n",
       " 48      25\n",
       " 51      12\n",
       " 53      70\n",
       " 54      15\n",
       " 57      60\n",
       " 58      20\n",
       " 65      24\n",
       " 66      15\n",
       " 68      60\n",
       " 69      33\n",
       " 72      12\n",
       " 73       6\n",
       "         ..\n",
       " 2101     4\n",
       " 2102    20\n",
       " 2107     8\n",
       " 2108    36\n",
       " 2109    28\n",
       " 2111    40\n",
       " 2112    20\n",
       " 2113    30\n",
       " 2115    15\n",
       " 2116    10\n",
       " 2123    14\n",
       " 2124    10\n",
       " 2125    30\n",
       " 2126     2\n",
       " 2127    20\n",
       " 2128    20\n",
       " 2129    10\n",
       " 2130    24\n",
       " 2133     1\n",
       " 2134     1\n",
       " 2135     2\n",
       " 2137     2\n",
       " 2139     1\n",
       " 2140     2\n",
       " 2141     1\n",
       " 2144     2\n",
       " 2146     3\n",
       " 2149     2\n",
       " 2150     2\n",
       " 2152     2\n",
       " Name: Quantity, Length: 838, dtype: int64}"
      ]
     },
     "execution_count": 4,
     "metadata": {},
     "output_type": "execute_result"
    }
   ],
   "source": [
    "## To better organize data based on whether an item was full-priced or not, we can create dictionaries\n",
    "groups = {}\n",
    "for grp_name in df['Groups'].unique():\n",
    "    groups[grp_name] = df.groupby('Groups').get_group(grp_name)['Quantity']\n",
    "groups"
   ]
  },
  {
   "cell_type": "code",
   "execution_count": 5,
   "metadata": {},
   "outputs": [
    {
     "name": "stderr",
     "output_type": "stream",
     "text": [
      "C:\\anaconda\\envs\\learn-env\\lib\\site-packages\\scipy\\stats\\stats.py:1713: FutureWarning:\n",
      "\n",
      "Using a non-tuple sequence for multidimensional indexing is deprecated; use `arr[tuple(seq)]` instead of `arr[seq]`. In the future this will be interpreted as an array index, `arr[np.array(seq)]`, which will result either in an error or a different result.\n",
      "\n"
     ]
    },
    {
     "data": {
      "text/plain": [
       "[Text(0, 0.5, 'Density'), Text(0.5, 1.0, 'Quantities Ordered by Price Type')]"
      ]
     },
     "execution_count": 5,
     "metadata": {},
     "output_type": "execute_result"
    },
    {
     "data": {
      "image/png": "[encoded data removed]",
      "text/plain": [
       "<Figure size 432x288 with 1 Axes>"
      ]
     },
     "metadata": {
      "needs_background": "light"
     },
     "output_type": "display_data"
    }
   ],
   "source": [
    "#Visualize the data to get sense of present outlier\n",
    "\n",
    "for k,v in groups.items():\n",
    "    sns.distplot(v,label = k)\n",
    "ax = plt.gca()\n",
    "ax.legend()\n",
    "ax.set(title = 'Quantities Ordered by Price Type',ylabel='Density')"
   ]
  },
  {
   "cell_type": "code",
   "execution_count": 6,
   "metadata": {},
   "outputs": [],
   "source": [
    "from functions import Cohen_d,find_outliers_IQR,find_outliers_Z"
   ]
  },
  {
   "cell_type": "code",
   "execution_count": 7,
   "metadata": {},
   "outputs": [
    {
     "name": "stdout",
     "output_type": "stream",
     "text": [
      "There are 0       False\n",
      "1       False\n",
      "2       False\n",
      "3       False\n",
      "4       False\n",
      "5       False\n",
      "10      False\n",
      "13      False\n",
      "14      False\n",
      "15      False\n",
      "16      False\n",
      "19      False\n",
      "20      False\n",
      "21      False\n",
      "22      False\n",
      "23      False\n",
      "24      False\n",
      "25      False\n",
      "26      False\n",
      "27      False\n",
      "28      False\n",
      "32      False\n",
      "33      False\n",
      "35      False\n",
      "38      False\n",
      "39      False\n",
      "41      False\n",
      "42      False\n",
      "44      False\n",
      "47      False\n",
      "        ...  \n",
      "2088    False\n",
      "2089    False\n",
      "2090    False\n",
      "2093    False\n",
      "2097    False\n",
      "2100    False\n",
      "2103    False\n",
      "2104    False\n",
      "2105    False\n",
      "2106    False\n",
      "2110    False\n",
      "2114    False\n",
      "2117    False\n",
      "2118    False\n",
      "2119    False\n",
      "2120     True\n",
      "2121    False\n",
      "2122    False\n",
      "2131    False\n",
      "2132    False\n",
      "2136    False\n",
      "2138    False\n",
      "2142    False\n",
      "2143    False\n",
      "2145    False\n",
      "2147    False\n",
      "2148    False\n",
      "2151    False\n",
      "2153    False\n",
      "2154    False\n",
      "Length: 1317, dtype: bool outliers present in Discounted using Z-Score\n",
      "There are 6       False\n",
      "7       False\n",
      "8       False\n",
      "9       False\n",
      "11      False\n",
      "12      False\n",
      "17      False\n",
      "18      False\n",
      "29      False\n",
      "30      False\n",
      "31      False\n",
      "34      False\n",
      "36      False\n",
      "37      False\n",
      "40      False\n",
      "43      False\n",
      "45      False\n",
      "46      False\n",
      "48      False\n",
      "51      False\n",
      "53      False\n",
      "54      False\n",
      "57      False\n",
      "58      False\n",
      "65      False\n",
      "66      False\n",
      "68      False\n",
      "69      False\n",
      "72      False\n",
      "73      False\n",
      "        ...  \n",
      "2101    False\n",
      "2102    False\n",
      "2107    False\n",
      "2108    False\n",
      "2109    False\n",
      "2111    False\n",
      "2112    False\n",
      "2113    False\n",
      "2115    False\n",
      "2116    False\n",
      "2123    False\n",
      "2124    False\n",
      "2125    False\n",
      "2126    False\n",
      "2127    False\n",
      "2128    False\n",
      "2129    False\n",
      "2130    False\n",
      "2133    False\n",
      "2134    False\n",
      "2135    False\n",
      "2137    False\n",
      "2139    False\n",
      "2140    False\n",
      "2141    False\n",
      "2144    False\n",
      "2146    False\n",
      "2149    False\n",
      "2150    False\n",
      "2152    False\n",
      "Length: 838, dtype: bool outliers present in Discounted using Z-Score\n"
     ]
    }
   ],
   "source": [
    "#Identifying Outliers\n",
    "\n",
    "for k,v in groups.items():\n",
    "    idx_out = find_outliers_Z(v)\n",
    "    print(f'There are {idx_out} outliers present in {grp_name} using Z-Score')\n",
    "    groups[k] = v[~idx_out]\n",
    "    "
   ]
  },
  {
   "cell_type": "code",
   "execution_count": 8,
   "metadata": {},
   "outputs": [
    {
     "name": "stderr",
     "output_type": "stream",
     "text": [
      "C:\\anaconda\\envs\\learn-env\\lib\\site-packages\\scipy\\stats\\stats.py:1713: FutureWarning:\n",
      "\n",
      "Using a non-tuple sequence for multidimensional indexing is deprecated; use `arr[tuple(seq)]` instead of `arr[seq]`. In the future this will be interpreted as an array index, `arr[np.array(seq)]`, which will result either in an error or a different result.\n",
      "\n"
     ]
    },
    {
     "data": {
      "text/plain": [
       "[Text(0, 0.5, 'Density'), Text(0.5, 1.0, 'Quantities Ordered by Price Type')]"
      ]
     },
     "execution_count": 8,
     "metadata": {},
     "output_type": "execute_result"
    },
    {
     "data": {
      "image/png": "[encoded data removed]",
      "text/plain": [
       "<Figure size 432x288 with 1 Axes>"
      ]
     },
     "metadata": {
      "needs_background": "light"
     },
     "output_type": "display_data"
    }
   ],
   "source": [
    "#Replotting of density plot without outliers\n",
    "\n",
    "for k,v in groups.items():\n",
    "    sns.distplot(v,label = k)\n",
    "ax = plt.gca()\n",
    "ax.legend()\n",
    "ax.set(title = 'Quantities Ordered by Price Type',ylabel='Density')\n",
    "\n"
   ]
  },
  {
   "cell_type": "markdown",
   "metadata": {},
   "source": [
    "## Testing for Normality"
   ]
  },
  {
   "cell_type": "code",
   "execution_count": 9,
   "metadata": {},
   "outputs": [],
   "source": [
    "import scipy.stats as stats    "
   ]
  },
  {
   "cell_type": "code",
   "execution_count": 10,
   "metadata": {},
   "outputs": [
    {
     "name": "stdout",
     "output_type": "stream",
     "text": [
      " Group Full Price Normaltest p-value = 0.0\n",
      " -The data is is Not normal\n",
      " Group Discounted Normaltest p-value = 0.0\n",
      " -The data is is Not normal\n"
     ]
    }
   ],
   "source": [
    "#Normalcy test with scipy library\n",
    "for k,v in groups.items():\n",
    "    stat,p = stats.normaltest(v)\n",
    "    print(f' Group {k} Normaltest p-value = {round(p,4)}')\n",
    "    sig = 'is Not' if p<0.5 else 'is'\n",
    "    print(f' -The data is {sig} normal')"
   ]
  },
  {
   "cell_type": "code",
   "execution_count": 11,
   "metadata": {},
   "outputs": [
    {
     "data": {
      "text/plain": [
       "(1297, 823)"
      ]
     },
     "execution_count": 11,
     "metadata": {},
     "output_type": "execute_result"
    }
   ],
   "source": [
    "#large data sets are ok to be used as long as data set is large\n",
    "len(groups['Full Price']), len(groups['Discounted'])"
   ]
  },
  {
   "cell_type": "markdown",
   "metadata": {},
   "source": [
    "## Equal Variance"
   ]
  },
  {
   "cell_type": "code",
   "execution_count": 12,
   "metadata": {},
   "outputs": [
    {
     "name": "stdout",
     "output_type": "stream",
     "text": [
      "Levene Test for Equal Variance p-value = 0.0\n",
      " -The data is Not equally varied\n"
     ]
    }
   ],
   "source": [
    "data = []\n",
    "for k, v in groups.items():\n",
    "    data.append(v)\n",
    "\n",
    "stat,p = stats.levene(*data)\n",
    "\n",
    "print (f'Levene Test for Equal Variance p-value = {round(p,4)}')\n",
    "sig = 'is Not' if p<0.5 else 'is'\n",
    "print(f' -The data {sig} equally varied')"
   ]
  },
  {
   "cell_type": "markdown",
   "metadata": {},
   "source": [
    "- Due to the data not having equal variance, we must use the Welch's test"
   ]
  },
  {
   "cell_type": "code",
   "execution_count": 13,
   "metadata": {},
   "outputs": [
    {
     "name": "stdout",
     "output_type": "stream",
     "text": [
      " Welch's t-test p-value is 0.0\n"
     ]
    }
   ],
   "source": [
    "stat,p = stats.ttest_ind(*data, equal_var=False)\n",
    "print(f\" Welch's t-test p-value is {round(p,4)}\")"
   ]
  },
  {
   "cell_type": "markdown",
   "metadata": {},
   "source": [
    "## Effect Size"
   ]
  },
  {
   "cell_type": "code",
   "execution_count": 14,
   "metadata": {},
   "outputs": [
    {
     "data": {
      "text/plain": [
       "-0.32001140965727837"
      ]
     },
     "execution_count": 14,
     "metadata": {},
     "output_type": "execute_result"
    }
   ],
   "source": [
    "Cohen_d(*data)"
   ]
  },
  {
   "cell_type": "code",
   "execution_count": 15,
   "metadata": {},
   "outputs": [
    {
     "data": {
      "text/html": [
       "<table class=\"simpletable\">\n",
       "<caption>Multiple Comparison of Means - Tukey HSD,FWER=0.05</caption>\n",
       "<tr>\n",
       "  <th>group1</th> <th>group2</th> <th>meandiff</th>   <th>lower</th>   <th>upper</th>  <th>reject</th>\n",
       "</tr>\n",
       "<tr>\n",
       "    <td>0.0</td>   <td>0.01</td>  <td>-19.7153</td> <td>-80.3306</td> <td>40.9001</td>  <td>False</td>\n",
       "</tr>\n",
       "<tr>\n",
       "    <td>0.0</td>   <td>0.02</td>  <td>-19.7153</td>  <td>-62.593</td> <td>23.1625</td>  <td>False</td>\n",
       "</tr>\n",
       "<tr>\n",
       "    <td>0.0</td>   <td>0.03</td>  <td>-20.0486</td> <td>-55.0714</td> <td>14.9742</td>  <td>False</td>\n",
       "</tr>\n",
       "<tr>\n",
       "    <td>0.0</td>   <td>0.04</td>  <td>-20.7153</td> <td>-81.3306</td> <td>39.9001</td>  <td>False</td>\n",
       "</tr>\n",
       "<tr>\n",
       "    <td>0.0</td>   <td>0.05</td>   <td>6.2955</td>   <td>1.5381</td>  <td>11.053</td>   <td>True</td> \n",
       "</tr>\n",
       "<tr>\n",
       "    <td>0.0</td>   <td>0.06</td>  <td>-19.7153</td> <td>-80.3306</td> <td>40.9001</td>  <td>False</td>\n",
       "</tr>\n",
       "<tr>\n",
       "    <td>0.0</td>    <td>0.1</td>   <td>3.5217</td>   <td>-1.3783</td> <td>8.4217</td>   <td>False</td>\n",
       "</tr>\n",
       "<tr>\n",
       "    <td>0.0</td>   <td>0.15</td>   <td>6.6669</td>    <td>1.551</td>  <td>11.7828</td>  <td>True</td> \n",
       "</tr>\n",
       "<tr>\n",
       "    <td>0.0</td>    <td>0.2</td>   <td>5.3096</td>   <td>0.2508</td>  <td>10.3684</td>  <td>True</td> \n",
       "</tr>\n",
       "<tr>\n",
       "    <td>0.0</td>   <td>0.25</td>    <td>6.525</td>   <td>1.3647</td>  <td>11.6852</td>  <td>True</td> \n",
       "</tr>\n",
       "<tr>\n",
       "   <td>0.01</td>   <td>0.02</td>     <td>0.0</td>   <td>-74.2101</td> <td>74.2101</td>  <td>False</td>\n",
       "</tr>\n",
       "<tr>\n",
       "   <td>0.01</td>   <td>0.03</td>   <td>-0.3333</td> <td>-70.2993</td> <td>69.6326</td>  <td>False</td>\n",
       "</tr>\n",
       "<tr>\n",
       "   <td>0.01</td>   <td>0.04</td>    <td>-1.0</td>   <td>-86.6905</td> <td>84.6905</td>  <td>False</td>\n",
       "</tr>\n",
       "<tr>\n",
       "   <td>0.01</td>   <td>0.05</td>   <td>26.0108</td>  <td>-34.745</td> <td>86.7667</td>  <td>False</td>\n",
       "</tr>\n",
       "<tr>\n",
       "   <td>0.01</td>   <td>0.06</td>     <td>0.0</td>   <td>-85.6905</td> <td>85.6905</td>  <td>False</td>\n",
       "</tr>\n",
       "<tr>\n",
       "   <td>0.01</td>    <td>0.1</td>   <td>23.237</td>  <td>-37.5302</td> <td>84.0042</td>  <td>False</td>\n",
       "</tr>\n",
       "<tr>\n",
       "   <td>0.01</td>   <td>0.15</td>   <td>26.3822</td> <td>-34.4028</td> <td>87.1671</td>  <td>False</td>\n",
       "</tr>\n",
       "<tr>\n",
       "   <td>0.01</td>    <td>0.2</td>   <td>25.0248</td> <td>-35.7554</td> <td>85.805</td>   <td>False</td>\n",
       "</tr>\n",
       "<tr>\n",
       "   <td>0.01</td>   <td>0.25</td>   <td>26.2403</td> <td>-34.5485</td> <td>87.029</td>   <td>False</td>\n",
       "</tr>\n",
       "<tr>\n",
       "   <td>0.02</td>   <td>0.03</td>   <td>-0.3333</td> <td>-55.6463</td> <td>54.9796</td>  <td>False</td>\n",
       "</tr>\n",
       "<tr>\n",
       "   <td>0.02</td>   <td>0.04</td>    <td>-1.0</td>   <td>-75.2101</td> <td>73.2101</td>  <td>False</td>\n",
       "</tr>\n",
       "<tr>\n",
       "   <td>0.02</td>   <td>0.05</td>   <td>26.0108</td> <td>-17.0654</td> <td>69.087</td>   <td>False</td>\n",
       "</tr>\n",
       "<tr>\n",
       "   <td>0.02</td>   <td>0.06</td>     <td>0.0</td>   <td>-74.2101</td> <td>74.2101</td>  <td>False</td>\n",
       "</tr>\n",
       "<tr>\n",
       "   <td>0.02</td>    <td>0.1</td>   <td>23.237</td>  <td>-19.8552</td> <td>66.3292</td>  <td>False</td>\n",
       "</tr>\n",
       "<tr>\n",
       "   <td>0.02</td>   <td>0.15</td>   <td>26.3822</td> <td>-16.7351</td> <td>69.4994</td>  <td>False</td>\n",
       "</tr>\n",
       "<tr>\n",
       "   <td>0.02</td>    <td>0.2</td>   <td>25.0248</td> <td>-18.0857</td> <td>68.1354</td>  <td>False</td>\n",
       "</tr>\n",
       "<tr>\n",
       "   <td>0.02</td>   <td>0.25</td>   <td>26.2403</td> <td>-16.8823</td> <td>69.3628</td>  <td>False</td>\n",
       "</tr>\n",
       "<tr>\n",
       "   <td>0.03</td>   <td>0.04</td>   <td>-0.6667</td> <td>-70.6326</td> <td>69.2993</td>  <td>False</td>\n",
       "</tr>\n",
       "<tr>\n",
       "   <td>0.03</td>   <td>0.05</td>   <td>26.3441</td>  <td>-8.9214</td> <td>61.6096</td>  <td>False</td>\n",
       "</tr>\n",
       "<tr>\n",
       "   <td>0.03</td>   <td>0.06</td>   <td>0.3333</td>  <td>-69.6326</td> <td>70.2993</td>  <td>False</td>\n",
       "</tr>\n",
       "<tr>\n",
       "   <td>0.03</td>    <td>0.1</td>   <td>23.5703</td> <td>-11.7147</td> <td>58.8553</td>  <td>False</td>\n",
       "</tr>\n",
       "<tr>\n",
       "   <td>0.03</td>   <td>0.15</td>   <td>26.7155</td>  <td>-8.6001</td> <td>62.0311</td>  <td>False</td>\n",
       "</tr>\n",
       "<tr>\n",
       "   <td>0.03</td>    <td>0.2</td>   <td>25.3582</td>  <td>-9.9492</td> <td>60.6656</td>  <td>False</td>\n",
       "</tr>\n",
       "<tr>\n",
       "   <td>0.03</td>   <td>0.25</td>   <td>26.5736</td>  <td>-8.7485</td> <td>61.8957</td>  <td>False</td>\n",
       "</tr>\n",
       "<tr>\n",
       "   <td>0.04</td>   <td>0.05</td>   <td>27.0108</td>  <td>-33.745</td> <td>87.7667</td>  <td>False</td>\n",
       "</tr>\n",
       "<tr>\n",
       "   <td>0.04</td>   <td>0.06</td>     <td>1.0</td>   <td>-84.6905</td> <td>86.6905</td>  <td>False</td>\n",
       "</tr>\n",
       "<tr>\n",
       "   <td>0.04</td>    <td>0.1</td>   <td>24.237</td>  <td>-36.5302</td> <td>85.0042</td>  <td>False</td>\n",
       "</tr>\n",
       "<tr>\n",
       "   <td>0.04</td>   <td>0.15</td>   <td>27.3822</td> <td>-33.4028</td> <td>88.1671</td>  <td>False</td>\n",
       "</tr>\n",
       "<tr>\n",
       "   <td>0.04</td>    <td>0.2</td>   <td>26.0248</td> <td>-34.7554</td> <td>86.805</td>   <td>False</td>\n",
       "</tr>\n",
       "<tr>\n",
       "   <td>0.04</td>   <td>0.25</td>   <td>27.2403</td> <td>-33.5485</td> <td>88.029</td>   <td>False</td>\n",
       "</tr>\n",
       "<tr>\n",
       "   <td>0.05</td>   <td>0.06</td>  <td>-26.0108</td> <td>-86.7667</td> <td>34.745</td>   <td>False</td>\n",
       "</tr>\n",
       "<tr>\n",
       "   <td>0.05</td>    <td>0.1</td>   <td>-2.7738</td>  <td>-9.1822</td> <td>3.6346</td>   <td>False</td>\n",
       "</tr>\n",
       "<tr>\n",
       "   <td>0.05</td>   <td>0.15</td>   <td>0.3714</td>   <td>-6.2036</td> <td>6.9463</td>   <td>False</td>\n",
       "</tr>\n",
       "<tr>\n",
       "   <td>0.05</td>    <td>0.2</td>   <td>-0.986</td>   <td>-7.5166</td> <td>5.5447</td>   <td>False</td>\n",
       "</tr>\n",
       "<tr>\n",
       "   <td>0.05</td>   <td>0.25</td>   <td>0.2294</td>   <td>-6.3801</td>  <td>6.839</td>   <td>False</td>\n",
       "</tr>\n",
       "<tr>\n",
       "   <td>0.06</td>    <td>0.1</td>   <td>23.237</td>  <td>-37.5302</td> <td>84.0042</td>  <td>False</td>\n",
       "</tr>\n",
       "<tr>\n",
       "   <td>0.06</td>   <td>0.15</td>   <td>26.3822</td> <td>-34.4028</td> <td>87.1671</td>  <td>False</td>\n",
       "</tr>\n",
       "<tr>\n",
       "   <td>0.06</td>    <td>0.2</td>   <td>25.0248</td> <td>-35.7554</td> <td>85.805</td>   <td>False</td>\n",
       "</tr>\n",
       "<tr>\n",
       "   <td>0.06</td>   <td>0.25</td>   <td>26.2403</td> <td>-34.5485</td> <td>87.029</td>   <td>False</td>\n",
       "</tr>\n",
       "<tr>\n",
       "    <td>0.1</td>   <td>0.15</td>   <td>3.1452</td>   <td>-3.5337</td>  <td>9.824</td>   <td>False</td>\n",
       "</tr>\n",
       "<tr>\n",
       "    <td>0.1</td>    <td>0.2</td>   <td>1.7879</td>   <td>-4.8474</td> <td>8.4231</td>   <td>False</td>\n",
       "</tr>\n",
       "<tr>\n",
       "    <td>0.1</td>   <td>0.25</td>   <td>3.0033</td>   <td>-3.7096</td> <td>9.7161</td>   <td>False</td>\n",
       "</tr>\n",
       "<tr>\n",
       "   <td>0.15</td>    <td>0.2</td>   <td>-1.3573</td>  <td>-8.1536</td> <td>5.4389</td>   <td>False</td>\n",
       "</tr>\n",
       "<tr>\n",
       "   <td>0.15</td>   <td>0.25</td>   <td>-0.1419</td>  <td>-7.014</td>  <td>6.7302</td>   <td>False</td>\n",
       "</tr>\n",
       "<tr>\n",
       "    <td>0.2</td>   <td>0.25</td>   <td>1.2154</td>   <td>-5.6143</td> <td>8.0451</td>   <td>False</td>\n",
       "</tr>\n",
       "</table>"
      ],
      "text/plain": [
       "<class 'statsmodels.iolib.table.SimpleTable'>"
      ]
     },
     "execution_count": 15,
     "metadata": {},
     "output_type": "execute_result"
    }
   ],
   "source": [
    "from statsmodels.stats.multicomp import pairwise_tukeyhsd\n",
    "model = pairwise_tukeyhsd(df['Quantity'],df['Discount'])\n",
    "model.summary()"
   ]
  },
  {
   "cell_type": "code",
   "execution_count": 16,
   "metadata": {
    "scrolled": true
   },
   "outputs": [
    {
     "name": "stderr",
     "output_type": "stream",
     "text": [
      "C:\\anaconda\\envs\\learn-env\\lib\\site-packages\\scipy\\stats\\stats.py:1713: FutureWarning:\n",
      "\n",
      "Using a non-tuple sequence for multidimensional indexing is deprecated; use `arr[tuple(seq)]` instead of `arr[seq]`. In the future this will be interpreted as an array index, `arr[np.array(seq)]`, which will result either in an error or a different result.\n",
      "\n"
     ]
    },
    {
     "data": {
      "text/plain": [
       "<matplotlib.axes._subplots.AxesSubplot at 0x275d1ff8c50>"
      ]
     },
     "execution_count": 16,
     "metadata": {},
     "output_type": "execute_result"
    },
    {
     "data": {
      "image/png": "[encoded data removed]",
      "text/plain": [
       "<Figure size 432x288 with 1 Axes>"
      ]
     },
     "metadata": {
      "needs_background": "light"
     },
     "output_type": "display_data"
    }
   ],
   "source": [
    "sns.barplot(data=df, x='Discount', y='Quantity',ci=68)"
   ]
  },
  {
   "cell_type": "markdown",
   "metadata": {},
   "source": [
    "# Hypothesis 2"
   ]
  },
  {
   "cell_type": "markdown",
   "metadata": {},
   "source": [
    "> Does a shipment's final destination impact the length of time for it to be delivered?\n",
    "\n",
    "- $H_0$: A shipment's final destination has no impact on the length of time it takes to be delivered.\n",
    "- $H_A$: A shipment's final destination has an impact on the length of time it takes to be delivered."
   ]
  },
  {
   "cell_type": "code",
   "execution_count": 27,
   "metadata": {},
   "outputs": [
    {
     "data": {
      "text/html": [
       "<div>\n",
       "<style scoped>\n",
       "    .dataframe tbody tr th:only-of-type {\n",
       "        vertical-align: middle;\n",
       "    }\n",
       "\n",
       "    .dataframe tbody tr th {\n",
       "        vertical-align: top;\n",
       "    }\n",
       "\n",
       "    .dataframe thead th {\n",
       "        text-align: right;\n",
       "    }\n",
       "</style>\n",
       "<table border=\"1\" class=\"dataframe\">\n",
       "  <thead>\n",
       "    <tr style=\"text-align: right;\">\n",
       "      <th></th>\n",
       "      <th>OrderDate</th>\n",
       "      <th>RequiredDate</th>\n",
       "      <th>ShippedDate</th>\n",
       "      <th>ShipRegion</th>\n",
       "    </tr>\n",
       "  </thead>\n",
       "  <tbody>\n",
       "    <tr>\n",
       "      <th>0</th>\n",
       "      <td>2012-07-04</td>\n",
       "      <td>2012-08-01</td>\n",
       "      <td>2012-07-16</td>\n",
       "      <td>Western Europe</td>\n",
       "    </tr>\n",
       "    <tr>\n",
       "      <th>1</th>\n",
       "      <td>2012-07-05</td>\n",
       "      <td>2012-08-16</td>\n",
       "      <td>2012-07-10</td>\n",
       "      <td>Western Europe</td>\n",
       "    </tr>\n",
       "    <tr>\n",
       "      <th>2</th>\n",
       "      <td>2012-07-08</td>\n",
       "      <td>2012-08-05</td>\n",
       "      <td>2012-07-12</td>\n",
       "      <td>South America</td>\n",
       "    </tr>\n",
       "    <tr>\n",
       "      <th>3</th>\n",
       "      <td>2012-07-08</td>\n",
       "      <td>2012-08-05</td>\n",
       "      <td>2012-07-15</td>\n",
       "      <td>Western Europe</td>\n",
       "    </tr>\n",
       "    <tr>\n",
       "      <th>4</th>\n",
       "      <td>2012-07-09</td>\n",
       "      <td>2012-08-06</td>\n",
       "      <td>2012-07-11</td>\n",
       "      <td>Western Europe</td>\n",
       "    </tr>\n",
       "  </tbody>\n",
       "</table>\n",
       "</div>"
      ],
      "text/plain": [
       "    OrderDate RequiredDate ShippedDate      ShipRegion\n",
       "0  2012-07-04   2012-08-01  2012-07-16  Western Europe\n",
       "1  2012-07-05   2012-08-16  2012-07-10  Western Europe\n",
       "2  2012-07-08   2012-08-05  2012-07-12   South America\n",
       "3  2012-07-08   2012-08-05  2012-07-15  Western Europe\n",
       "4  2012-07-09   2012-08-06  2012-07-11  Western Europe"
      ]
     },
     "execution_count": 27,
     "metadata": {},
     "output_type": "execute_result"
    }
   ],
   "source": [
    "import sqlite3\n",
    "connect = sqlite3.connect('Northwind_small.sqlite')\n",
    "cur = connect.cursor()\n",
    "cur.execute(\"\"\"SELECT OrderDate,RequiredDate,ShippedDate,ShipRegion FROM 'Order';\"\"\")\n",
    "df = pd.DataFrame(cur.fetchall())\n",
    "df.columns = [x[0] for x in cur.description]\n",
    "df.head()"
   ]
  },
  {
   "cell_type": "code",
   "execution_count": 41,
   "metadata": {},
   "outputs": [
    {
     "data": {
      "text/html": [
       "<div>\n",
       "<style scoped>\n",
       "    .dataframe tbody tr th:only-of-type {\n",
       "        vertical-align: middle;\n",
       "    }\n",
       "\n",
       "    .dataframe tbody tr th {\n",
       "        vertical-align: top;\n",
       "    }\n",
       "\n",
       "    .dataframe thead th {\n",
       "        text-align: right;\n",
       "    }\n",
       "</style>\n",
       "<table border=\"1\" class=\"dataframe\">\n",
       "  <thead>\n",
       "    <tr style=\"text-align: right;\">\n",
       "      <th></th>\n",
       "      <th>OrderDate</th>\n",
       "      <th>RequiredDate</th>\n",
       "      <th>ShippedDate</th>\n",
       "      <th>ShipRegion</th>\n",
       "      <th>Time2Delivery</th>\n",
       "      <th>Days</th>\n",
       "    </tr>\n",
       "  </thead>\n",
       "  <tbody>\n",
       "    <tr>\n",
       "      <th>0</th>\n",
       "      <td>2012-07-04</td>\n",
       "      <td>2012-08-01</td>\n",
       "      <td>2012-07-16</td>\n",
       "      <td>Western Europe</td>\n",
       "      <td>28 days</td>\n",
       "      <td>28</td>\n",
       "    </tr>\n",
       "    <tr>\n",
       "      <th>1</th>\n",
       "      <td>2012-07-05</td>\n",
       "      <td>2012-08-16</td>\n",
       "      <td>2012-07-10</td>\n",
       "      <td>Western Europe</td>\n",
       "      <td>42 days</td>\n",
       "      <td>42</td>\n",
       "    </tr>\n",
       "    <tr>\n",
       "      <th>2</th>\n",
       "      <td>2012-07-08</td>\n",
       "      <td>2012-08-05</td>\n",
       "      <td>2012-07-12</td>\n",
       "      <td>South America</td>\n",
       "      <td>28 days</td>\n",
       "      <td>28</td>\n",
       "    </tr>\n",
       "    <tr>\n",
       "      <th>3</th>\n",
       "      <td>2012-07-08</td>\n",
       "      <td>2012-08-05</td>\n",
       "      <td>2012-07-15</td>\n",
       "      <td>Western Europe</td>\n",
       "      <td>28 days</td>\n",
       "      <td>28</td>\n",
       "    </tr>\n",
       "    <tr>\n",
       "      <th>4</th>\n",
       "      <td>2012-07-09</td>\n",
       "      <td>2012-08-06</td>\n",
       "      <td>2012-07-11</td>\n",
       "      <td>Western Europe</td>\n",
       "      <td>28 days</td>\n",
       "      <td>28</td>\n",
       "    </tr>\n",
       "  </tbody>\n",
       "</table>\n",
       "</div>"
      ],
      "text/plain": [
       "   OrderDate RequiredDate ShippedDate      ShipRegion Time2Delivery  Days\n",
       "0 2012-07-04   2012-08-01  2012-07-16  Western Europe       28 days    28\n",
       "1 2012-07-05   2012-08-16  2012-07-10  Western Europe       42 days    42\n",
       "2 2012-07-08   2012-08-05  2012-07-12   South America       28 days    28\n",
       "3 2012-07-08   2012-08-05  2012-07-15  Western Europe       28 days    28\n",
       "4 2012-07-09   2012-08-06  2012-07-11  Western Europe       28 days    28"
      ]
     },
     "execution_count": 41,
     "metadata": {},
     "output_type": "execute_result"
    }
   ],
   "source": [
    "import datetime as dt\n",
    "\n",
    "\n",
    "\n",
    "df['ShippedDate'] = pd.to_datetime(df['ShippedDate']) #create column for time needed for item be delivered from order date\n",
    "df['OrderDate'] = pd.to_datetime(df['OrderDate'])\n",
    "df['RequiredDate'] = pd.to_datetime(df['RequiredDate'])\n",
    "\n",
    "df['Time2Delivery'] = abs(df['RequiredDate'] - df['OrderDate']) #number of days an item takes to ship\n",
    "\n",
    "df.head()"
   ]
  },
  {
   "cell_type": "code",
   "execution_count": 82,
   "metadata": {},
   "outputs": [
    {
     "data": {
      "text/plain": [
       "0    28.0\n",
       "1    42.0\n",
       "2    28.0\n",
       "3    28.0\n",
       "4    28.0\n",
       "Name: Days, dtype: float64"
      ]
     },
     "execution_count": 82,
     "metadata": {},
     "output_type": "execute_result"
    }
   ],
   "source": [
    "df['Days'] = (df['Time2Delivery'] / np.timedelta64(1, 'D')).astype(float) #stack overflow is a god send \n",
    "df['Days'].head()"
   ]
  },
  {
   "cell_type": "markdown",
   "metadata": {},
   "source": [
    "In theory, if there is no difference in delivery time from when an order is placed until it is shipped, there should be no difference based on geographical region. For simplicity sake, I grouped all ShipRegions that are in Europe and the Americas as one item and all other regions as Other Market. Again, for the null hypothesis to be true, there should be no difference in both means.\n"
   ]
  },
  {
   "cell_type": "code",
   "execution_count": 101,
   "metadata": {},
   "outputs": [
    {
     "data": {
      "text/plain": [
       "0     True\n",
       "1     True\n",
       "2    False\n",
       "3     True\n",
       "4     True\n",
       "Name: Groups, dtype: bool"
      ]
     },
     "execution_count": 101,
     "metadata": {},
     "output_type": "execute_result"
    }
   ],
   "source": [
    "#breaking up the groups based on region\n",
    "df['Groups'] = df['ShipRegion'].str.contains('Europe'or'America')\n",
    "df['Groups'].astype(int) # used Boolean to prevent error with later tests that require two numbered columns\n",
    "df['Groups'].head()"
   ]
  },
  {
   "cell_type": "markdown",
   "metadata": {},
   "source": [
    "## Test for Outliers"
   ]
  },
  {
   "cell_type": "code",
   "execution_count": 61,
   "metadata": {
    "scrolled": false
   },
   "outputs": [],
   "source": [
    "## To better organize data based on whether an item was full-priced or not, we can create dictionaries\n",
    "groups = {}\n",
    "for grp_name in df['Groups'].unique():\n",
    "    groups[grp_name] = df.groupby('Groups').get_group(grp_name)['Days']"
   ]
  },
  {
   "cell_type": "code",
   "execution_count": 62,
   "metadata": {},
   "outputs": [
    {
     "name": "stderr",
     "output_type": "stream",
     "text": [
      "C:\\anaconda\\envs\\learn-env\\lib\\site-packages\\scipy\\stats\\stats.py:1713: FutureWarning:\n",
      "\n",
      "Using a non-tuple sequence for multidimensional indexing is deprecated; use `arr[tuple(seq)]` instead of `arr[seq]`. In the future this will be interpreted as an array index, `arr[np.array(seq)]`, which will result either in an error or a different result.\n",
      "\n"
     ]
    },
    {
     "data": {
      "text/plain": [
       "[Text(0, 0.5, 'Density'), Text(0.5, 1.0, 'Days Required to Ship to Region')]"
      ]
     },
     "execution_count": 62,
     "metadata": {},
     "output_type": "execute_result"
    },
    {
     "data": {
      "image/png": "[encoded data removed]",
      "text/plain": [
       "<Figure size 432x288 with 1 Axes>"
      ]
     },
     "metadata": {
      "needs_background": "light"
     },
     "output_type": "display_data"
    }
   ],
   "source": [
    "for k,v in groups.items():\n",
    "    sns.distplot(v,label = k)\n",
    "ax = plt.gca()\n",
    "ax.legend()\n",
    "ax.set(title = 'Days Required to Ship to Region',ylabel='Density')"
   ]
  },
  {
   "cell_type": "code",
   "execution_count": 69,
   "metadata": {},
   "outputs": [
    {
     "name": "stdout",
     "output_type": "stream",
     "text": [
      "There are 2      False\n",
      "5      False\n",
      "8      False\n",
      "9      False\n",
      "11     False\n",
      "13     False\n",
      "14     False\n",
      "18     False\n",
      "20     False\n",
      "21     False\n",
      "22     False\n",
      "23     False\n",
      "24     False\n",
      "28     False\n",
      "35     False\n",
      "39     False\n",
      "41     False\n",
      "42     False\n",
      "43     False\n",
      "44     False\n",
      "45     False\n",
      "46     False\n",
      "48     False\n",
      "50     False\n",
      "51     False\n",
      "56     False\n",
      "57     False\n",
      "59     False\n",
      "60     False\n",
      "61     False\n",
      "       ...  \n",
      "776    False\n",
      "777    False\n",
      "779    False\n",
      "782    False\n",
      "783    False\n",
      "784    False\n",
      "786    False\n",
      "791    False\n",
      "792    False\n",
      "794    False\n",
      "797    False\n",
      "799    False\n",
      "800    False\n",
      "801    False\n",
      "804    False\n",
      "806    False\n",
      "807    False\n",
      "808    False\n",
      "809    False\n",
      "811    False\n",
      "813    False\n",
      "815    False\n",
      "816    False\n",
      "817    False\n",
      "818    False\n",
      "820    False\n",
      "821    False\n",
      "823    False\n",
      "825    False\n",
      "829    False\n",
      "Length: 428, dtype: bool outliers present in Other Market using Z-Score\n"
     ]
    }
   ],
   "source": [
    "for k,v in groups.items():\n",
    "    idx_out = find_outliers_Z(v)\n",
    "    \n",
    "print(f'There are {idx_out} outliers present in {grp_name} using Z-Score')\n",
    "groups[k] = v[~idx_out]"
   ]
  },
  {
   "cell_type": "code",
   "execution_count": 68,
   "metadata": {},
   "outputs": [
    {
     "name": "stderr",
     "output_type": "stream",
     "text": [
      "C:\\anaconda\\envs\\learn-env\\lib\\site-packages\\scipy\\stats\\stats.py:1713: FutureWarning:\n",
      "\n",
      "Using a non-tuple sequence for multidimensional indexing is deprecated; use `arr[tuple(seq)]` instead of `arr[seq]`. In the future this will be interpreted as an array index, `arr[np.array(seq)]`, which will result either in an error or a different result.\n",
      "\n"
     ]
    },
    {
     "data": {
      "text/plain": [
       "[Text(0, 0.5, 'Density'), Text(0.5, 1.0, 'Days Required to Ship to Region')]"
      ]
     },
     "execution_count": 68,
     "metadata": {},
     "output_type": "execute_result"
    },
    {
     "data": {
      "image/png": "[encoded data removed]",
      "text/plain": [
       "<Figure size 432x288 with 1 Axes>"
      ]
     },
     "metadata": {
      "needs_background": "light"
     },
     "output_type": "display_data"
    }
   ],
   "source": [
    "for k,v in groups.items():\n",
    "    sns.distplot(v,label = k)\n",
    "ax = plt.gca()\n",
    "ax.legend()\n",
    "ax.set(title = 'Days Required to Ship to Region',ylabel='Density')"
   ]
  },
  {
   "cell_type": "markdown",
   "metadata": {},
   "source": [
    "## Test for Normalcy"
   ]
  },
  {
   "cell_type": "code",
   "execution_count": 70,
   "metadata": {},
   "outputs": [],
   "source": [
    "import scipy.stats as stats  "
   ]
  },
  {
   "cell_type": "code",
   "execution_count": 72,
   "metadata": {},
   "outputs": [
    {
     "name": "stdout",
     "output_type": "stream",
     "text": [
      " Group European/America Market Normaltest p-value = 0.0\n",
      " -The data is Not normal\n",
      " Group Other Market Normaltest p-value = 0.0\n",
      " -The data is Not normal\n"
     ]
    }
   ],
   "source": [
    "#Normalcy test with scipy library\n",
    "for k,v in groups.items():\n",
    "    stat,p = stats.normaltest(v)\n",
    "    print(f' Group {k} Normaltest p-value = {round(p,4)}')\n",
    "    sig = 'is Not' if p<0.5 else 'is'\n",
    "    print(f' -The data {sig} normal')"
   ]
  },
  {
   "cell_type": "markdown",
   "metadata": {},
   "source": [
    "## Equal Variance"
   ]
  },
  {
   "cell_type": "code",
   "execution_count": 73,
   "metadata": {},
   "outputs": [
    {
     "name": "stdout",
     "output_type": "stream",
     "text": [
      "Levene Test for Equal Variance p-value = 0.3911\n",
      " -The data is Not equally varied\n"
     ]
    }
   ],
   "source": [
    "data = []\n",
    "for k, v in groups.items():\n",
    "    data.append(v)\n",
    "\n",
    "stat,p = stats.levene(*data)\n",
    "\n",
    "print (f'Levene Test for Equal Variance p-value = {round(p,4)}')\n",
    "sig = 'is Not' if p<0.5 else 'is'\n",
    "print(f' -The data {sig} equally varied')"
   ]
  },
  {
   "cell_type": "code",
   "execution_count": 74,
   "metadata": {},
   "outputs": [
    {
     "name": "stdout",
     "output_type": "stream",
     "text": [
      " Welch's t-test p-value is 0.4162\n"
     ]
    }
   ],
   "source": [
    "stat,p = stats.ttest_ind(*data, equal_var=False)\n",
    "print(f\" Welch's t-test p-value is {round(p,4)}\")"
   ]
  },
  {
   "cell_type": "markdown",
   "metadata": {},
   "source": [
    "## Effect Size"
   ]
  },
  {
   "cell_type": "code",
   "execution_count": 75,
   "metadata": {},
   "outputs": [
    {
     "data": {
      "text/plain": [
       "-0.05637268405630132"
      ]
     },
     "execution_count": 75,
     "metadata": {},
     "output_type": "execute_result"
    }
   ],
   "source": [
    "Cohen_d(*data)"
   ]
  },
  {
   "cell_type": "code",
   "execution_count": 104,
   "metadata": {},
   "outputs": [
    {
     "data": {
      "text/html": [
       "<table class=\"simpletable\">\n",
       "<caption>Multiple Comparison of Means - Tukey HSD,FWER=0.05</caption>\n",
       "<tr>\n",
       "  <th>group1</th> <th>group2</th> <th>meandiff</th>  <th>lower</th>   <th>upper</th> <th>reject</th>\n",
       "</tr>\n",
       "<tr>\n",
       "   <td>14.0</td>   <td>28.0</td>   <td>0.0054</td>  <td>-0.1437</td> <td>0.1546</td>  <td>False</td>\n",
       "</tr>\n",
       "<tr>\n",
       "   <td>14.0</td>   <td>42.0</td>   <td>-0.0755</td> <td>-0.2826</td> <td>0.1317</td>  <td>False</td>\n",
       "</tr>\n",
       "<tr>\n",
       "   <td>28.0</td>   <td>42.0</td>   <td>-0.0809</td> <td>-0.2377</td> <td>0.0759</td>  <td>False</td>\n",
       "</tr>\n",
       "</table>"
      ],
      "text/plain": [
       "<class 'statsmodels.iolib.table.SimpleTable'>"
      ]
     },
     "execution_count": 104,
     "metadata": {},
     "output_type": "execute_result"
    }
   ],
   "source": [
    "from statsmodels.stats.multicomp import pairwise_tukeyhsd\n",
    "model = pairwise_tukeyhsd(df['Groups'],df['Days'])\n",
    "model.summary()"
   ]
  },
  {
   "cell_type": "code",
   "execution_count": 106,
   "metadata": {},
   "outputs": [
    {
     "name": "stderr",
     "output_type": "stream",
     "text": [
      "C:\\anaconda\\envs\\learn-env\\lib\\site-packages\\scipy\\stats\\stats.py:1713: FutureWarning:\n",
      "\n",
      "Using a non-tuple sequence for multidimensional indexing is deprecated; use `arr[tuple(seq)]` instead of `arr[seq]`. In the future this will be interpreted as an array index, `arr[np.array(seq)]`, which will result either in an error or a different result.\n",
      "\n"
     ]
    },
    {
     "data": {
      "text/plain": [
       "<matplotlib.axes._subplots.AxesSubplot at 0x275d29e8208>"
      ]
     },
     "execution_count": 106,
     "metadata": {},
     "output_type": "execute_result"
    },
    {
     "data": {
      "image/png": "[encoded data removed]",
      "text/plain": [
       "<Figure size 432x288 with 1 Axes>"
      ]
     },
     "metadata": {
      "needs_background": "light"
     },
     "output_type": "display_data"
    }
   ],
   "source": [
    "sns.barplot(data=df, x='Groups', y='Days',ci=68)"
   ]
  },
  {
   "cell_type": "markdown",
   "metadata": {},
   "source": [
    "## Test for Normalcy"
   ]
  },
  {
   "cell_type": "markdown",
   "metadata": {},
   "source": [
    "# Hypothesis 3"
   ]
  },
  {
   "cell_type": "code",
   "execution_count": null,
   "metadata": {},
   "outputs": [],
   "source": []
  },
  {
   "cell_type": "markdown",
   "metadata": {},
   "source": [
    "> Does a employee's date of birth have a statistically significant effect on their hire date?\n",
    "\n",
    "- $H_0$: An employee's date of birth does not have an effect on their hire date.\n",
    "- $H_A$: An employee's date of birth does have an effect on their hire date."
   ]
  },
  {
   "cell_type": "code",
   "execution_count": 189,
   "metadata": {},
   "outputs": [
    {
     "data": {
      "text/html": [
       "<div>\n",
       "<style scoped>\n",
       "    .dataframe tbody tr th:only-of-type {\n",
       "        vertical-align: middle;\n",
       "    }\n",
       "\n",
       "    .dataframe tbody tr th {\n",
       "        vertical-align: top;\n",
       "    }\n",
       "\n",
       "    .dataframe thead th {\n",
       "        text-align: right;\n",
       "    }\n",
       "</style>\n",
       "<table border=\"1\" class=\"dataframe\">\n",
       "  <thead>\n",
       "    <tr style=\"text-align: right;\">\n",
       "      <th></th>\n",
       "      <th>LastName</th>\n",
       "      <th>FirstName</th>\n",
       "      <th>BirthDate</th>\n",
       "      <th>HireDate</th>\n",
       "    </tr>\n",
       "  </thead>\n",
       "  <tbody>\n",
       "    <tr>\n",
       "      <th>0</th>\n",
       "      <td>Davolio</td>\n",
       "      <td>Nancy</td>\n",
       "      <td>1980-12-08</td>\n",
       "      <td>2024-05-01</td>\n",
       "    </tr>\n",
       "    <tr>\n",
       "      <th>1</th>\n",
       "      <td>Fuller</td>\n",
       "      <td>Andrew</td>\n",
       "      <td>1984-02-19</td>\n",
       "      <td>2024-08-14</td>\n",
       "    </tr>\n",
       "    <tr>\n",
       "      <th>2</th>\n",
       "      <td>Leverling</td>\n",
       "      <td>Janet</td>\n",
       "      <td>1995-08-30</td>\n",
       "      <td>2024-04-01</td>\n",
       "    </tr>\n",
       "    <tr>\n",
       "      <th>3</th>\n",
       "      <td>Peacock</td>\n",
       "      <td>Margaret</td>\n",
       "      <td>1969-09-19</td>\n",
       "      <td>2025-05-03</td>\n",
       "    </tr>\n",
       "    <tr>\n",
       "      <th>4</th>\n",
       "      <td>Buchanan</td>\n",
       "      <td>Steven</td>\n",
       "      <td>1987-03-04</td>\n",
       "      <td>2025-10-17</td>\n",
       "    </tr>\n",
       "  </tbody>\n",
       "</table>\n",
       "</div>"
      ],
      "text/plain": [
       "    LastName FirstName   BirthDate    HireDate\n",
       "0    Davolio     Nancy  1980-12-08  2024-05-01\n",
       "1     Fuller    Andrew  1984-02-19  2024-08-14\n",
       "2  Leverling     Janet  1995-08-30  2024-04-01\n",
       "3    Peacock  Margaret  1969-09-19  2025-05-03\n",
       "4   Buchanan    Steven  1987-03-04  2025-10-17"
      ]
     },
     "execution_count": 189,
     "metadata": {},
     "output_type": "execute_result"
    }
   ],
   "source": [
    "import sqlite3\n",
    "connect = sqlite3.connect('Northwind_small.sqlite')\n",
    "cur = connect.cursor()\n",
    "cur.execute(\"\"\"SELECT LastName,FirstName,BirthDate,HireDate FROM Employee;\"\"\")\n",
    "df = pd.DataFrame(cur.fetchall())\n",
    "df.columns = [x[0] for x in cur.description]\n",
    "df.head()"
   ]
  },
  {
   "cell_type": "markdown",
   "metadata": {},
   "source": [
    "# Hypothesis 4"
   ]
  },
  {
   "cell_type": "markdown",
   "metadata": {},
   "source": [
    "> Does a employee's date of birth have a statistically significant effect on their hire date?\n",
    "\n",
    "- $H_0$: An employee's date of birth does not have an effect on their hire date.\n",
    "- $H_A$: An employee's date of birth does have an effect on their hire date."
   ]
  },
  {
   "cell_type": "code",
   "execution_count": 212,
   "metadata": {
    "scrolled": true
   },
   "outputs": [
    {
     "data": {
      "text/html": [
       "<div>\n",
       "<style scoped>\n",
       "    .dataframe tbody tr th:only-of-type {\n",
       "        vertical-align: middle;\n",
       "    }\n",
       "\n",
       "    .dataframe tbody tr th {\n",
       "        vertical-align: top;\n",
       "    }\n",
       "\n",
       "    .dataframe thead th {\n",
       "        text-align: right;\n",
       "    }\n",
       "</style>\n",
       "<table border=\"1\" class=\"dataframe\">\n",
       "  <thead>\n",
       "    <tr style=\"text-align: right;\">\n",
       "      <th></th>\n",
       "      <th>RequiredDate</th>\n",
       "      <th>ShippedDate</th>\n",
       "      <th>Freight</th>\n",
       "      <th>OrderDate</th>\n",
       "    </tr>\n",
       "  </thead>\n",
       "  <tbody>\n",
       "    <tr>\n",
       "      <th>0</th>\n",
       "      <td>2012-08-01</td>\n",
       "      <td>2012-07-16</td>\n",
       "      <td>32.38</td>\n",
       "      <td>2012-07-04</td>\n",
       "    </tr>\n",
       "    <tr>\n",
       "      <th>1</th>\n",
       "      <td>2012-08-16</td>\n",
       "      <td>2012-07-10</td>\n",
       "      <td>11.61</td>\n",
       "      <td>2012-07-05</td>\n",
       "    </tr>\n",
       "    <tr>\n",
       "      <th>2</th>\n",
       "      <td>2012-08-05</td>\n",
       "      <td>2012-07-12</td>\n",
       "      <td>65.83</td>\n",
       "      <td>2012-07-08</td>\n",
       "    </tr>\n",
       "    <tr>\n",
       "      <th>3</th>\n",
       "      <td>2012-08-05</td>\n",
       "      <td>2012-07-15</td>\n",
       "      <td>41.34</td>\n",
       "      <td>2012-07-08</td>\n",
       "    </tr>\n",
       "    <tr>\n",
       "      <th>4</th>\n",
       "      <td>2012-08-06</td>\n",
       "      <td>2012-07-11</td>\n",
       "      <td>51.30</td>\n",
       "      <td>2012-07-09</td>\n",
       "    </tr>\n",
       "  </tbody>\n",
       "</table>\n",
       "</div>"
      ],
      "text/plain": [
       "  RequiredDate ShippedDate  Freight   OrderDate\n",
       "0   2012-08-01  2012-07-16    32.38  2012-07-04\n",
       "1   2012-08-16  2012-07-10    11.61  2012-07-05\n",
       "2   2012-08-05  2012-07-12    65.83  2012-07-08\n",
       "3   2012-08-05  2012-07-15    41.34  2012-07-08\n",
       "4   2012-08-06  2012-07-11    51.30  2012-07-09"
      ]
     },
     "execution_count": 212,
     "metadata": {},
     "output_type": "execute_result"
    }
   ],
   "source": [
    "import sqlite3\n",
    "connect = sqlite3.connect('Northwind_small.sqlite')\n",
    "cur = connect.cursor()\n",
    "cur.execute(\"\"\"SELECT RequiredDate,ShippedDate,Freight,OrderDate FROM 'Order';\"\"\")\n",
    "df = pd.DataFrame(cur.fetchall())\n",
    "df.columns = [x[0] for x in cur.description]\n",
    "df.head()"
   ]
  },
  {
   "cell_type": "code",
   "execution_count": null,
   "metadata": {},
   "outputs": [],
   "source": [
    "import sqlite3\n",
    "connect = sqlite3.connect('Northwind_small.sqlite')\n",
    "cur = connect.cursor()\n",
    "cur.execute(\"\"\"SELECT RequiredDate,ShippedDate,Freight,OrderDate FROM 'Order';\"\"\")\n",
    "df = pd.DataFrame(cur.fetchall())\n",
    "df.columns = [x[0] for x in cur.description]\n",
    "df.head()"
   ]
  }
 ],
 "metadata": {
  "kernelspec": {
   "display_name": "Python 3",
   "language": "python",
   "name": "python3"
  },
  "language_info": {
   "codemirror_mode": {
    "name": "ipython",
    "version": 3
   },
   "file_extension": ".py",
   "mimetype": "text/x-python",
   "name": "python",
   "nbconvert_exporter": "python",
   "pygments_lexer": "ipython3",
   "version": "3.6.6"
  },
  "toc": {
   "base_numbering": 1,
   "nav_menu": {},
   "number_sections": false,
   "sideBar": true,
   "skip_h1_title": false,
   "title_cell": "Table of Contents",
   "title_sidebar": "Contents",
   "toc_cell": false,
   "toc_position": {
    "height": "calc(100% - 180px)",
    "left": "10px",
    "top": "150px",
    "width": "165px"
   },
   "toc_section_display": true,
   "toc_window_display": true
  },
  "varInspector": {
   "cols": {
    "lenName": 16,
    "lenType": 16,
    "lenVar": 40
   },
   "kernels_config": {
    "python": {
     "delete_cmd_postfix": "",
     "delete_cmd_prefix": "del ",
     "library": "var_list.py",
     "varRefreshCmd": "print(var_dic_list())"
    },
    "r": {
     "delete_cmd_postfix": ") ",
     "delete_cmd_prefix": "rm(",
     "library": "var_list.r",
     "varRefreshCmd": "cat(var_dic_list()) "
    }
   },
   "types_to_exclude": [
    "module",
    "function",
    "builtin_function_or_method",
    "instance",
    "_Feature"
   ],
   "window_display": false
  }
 },
 "nbformat": 4,
 "nbformat_minor": 2
}
